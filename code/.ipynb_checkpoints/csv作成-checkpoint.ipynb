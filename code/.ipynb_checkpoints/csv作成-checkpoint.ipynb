{
 "cells": [
  {
   "cell_type": "code",
   "execution_count": 2,
   "metadata": {},
   "outputs": [],
   "source": [
    "import numpy as np\n",
    "from sklearn.svm import SVR\n",
    "from sklearn import preprocessing\n",
    "from sklearn.model_selection import train_test_split\n",
    "from sklearn.model_selection import KFold\n",
    "from sklearn.preprocessing import StandardScaler\n",
    "from sklearn.metrics import r2_score\n",
    "from sklearn.metrics import mean_squared_error\n",
    "from sklearn.grid_search import GridSearchCV\n",
    "import matplotlib.pyplot as plt\n",
    "from sklearn.ensemble import RandomForestRegressor\n",
    "from sklearn.datasets import make_regression\n",
    "import warnings\n",
    "warnings.filterwarnings('ignore')"
   ]
  },
  {
   "cell_type": "code",
   "execution_count": 33,
   "metadata": {},
   "outputs": [],
   "source": [
    "def ave(lst,interval):\n",
    "    ave_lst=np.zeros((len(lst),int(len(lst[0])/6)))\n",
    "    \n",
    "    for i in range(0,len(lst)):\n",
    "        for j in range(0,int(len(lst[0])/6)):\n",
    "            ave_lst[i][j] = (sum(lst[i][j::interval])/6)\n",
    "    return ave_lst\n",
    "\n",
    "\n",
    "\n",
    "def feature_delite_outindex(x,out_index):  \n",
    "    new_index = np.array(range(len(x[0])))\n",
    "    index = np.array(range(len(x[0])-len(out_index)))\n",
    "    for i in range(0,len(out_index)):\n",
    "        new_index = np.delete(new_index, out_index[i]-i)\n",
    "   \n",
    "    new_x = np.zeros((len(x),len(x[0])-len(out_index)))\n",
    "    for k in range(0,len(x)):      \n",
    "        for i in range(0,len(new_x[0])):\n",
    "            new_x[k][index[i]] = x[k][new_index[i]]\n",
    "    return new_x \n",
    "\n",
    "def dispersion_outindex(x):\n",
    "    out_index=[] \n",
    "    for i in range(0,len(x[0])):\n",
    "        flag=0\n",
    "        value = x[0][i]\n",
    "        for j in range(0,len(x)):\n",
    "            if(value == x[j][i]):\n",
    "                value = x[j][i]                \n",
    "            else:\n",
    "                if(flag!=1):\n",
    "                    flag=1\n",
    "        if(flag!=1):\n",
    "            out_index.append(i)\n",
    "\n",
    "    return out_index\n",
    "\n",
    "\n",
    "\n",
    "\n",
    "def feature_select(x,out_index):   \n",
    "    new_index = np.array(range(len(x[0])))\n",
    "    index = np.array(range(len(x[0])-len(out_index)))\n",
    "    for i in range(0,len(out_index)):\n",
    "        new_index = np.delete(new_index, out_index[i]-i)\n",
    "   \n",
    "    new_x = np.zeros((len(x),len(x[0])-len(out_index)))\n",
    "    for k in range(0,len(new_x)):      \n",
    "        for i in range(0,len(new_x[0])):\n",
    "            new_x[k][index[i]] = x[k][new_index[i]]\n",
    "    return new_x ,out_index\n",
    "\n",
    "\n",
    "\n",
    "\n",
    "def nfeature(x,oi):\n",
    "    new_index = np.array(range(len(x)))\n",
    "    for i in range(0,len(oi)):\n",
    "        new_index = np.delete(new_index, oi[i]-i)\n",
    "   \n",
    "    new_x = []\n",
    "    for i in range(0,len(new_index)):      \n",
    "        new_x.append(x[new_index[i]])\n",
    "    return new_x"
   ]
  },
  {
   "cell_type": "code",
   "execution_count": 7,
   "metadata": {},
   "outputs": [],
   "source": [
    "data = np.loadtxt(\"wang_separate_dataset.csv\",delimiter=\",\",dtype=float)\n",
    "feature = data[:,0:1236]\n",
    "test_label = data[:,-1]\n",
    "\n",
    "ave_feature = ave(feature,206)\n",
    "\n",
    "\n",
    "file = open(\"WANGZANKI.csv\",\"w\")\n",
    "name = np.loadtxt(\"特徴量_名前一覧.csv\",delimiter=\",\",dtype=str)\n",
    "\n",
    "\n",
    "for i in range(0,len(name)):\n",
    "    file.write(name[i])\n",
    "    file.write(\",\")\n",
    "file.write(\"logPapp\\n\")\n",
    "\n",
    "for i in range(33):\n",
    "    for j in range(0,len(name)-1):\n",
    "        file.write(str(ave_feature[i][j]))\n",
    "        file.write(\",\")\n",
    "    file.write(str(test_label[i]))\n",
    "    file.write(\"\\n\")\n",
    "file.close()"
   ]
  },
  {
   "cell_type": "markdown",
   "metadata": {},
   "source": [
    "# 一気に分散0と外れ値を除く"
   ]
  },
  {
   "cell_type": "markdown",
   "metadata": {},
   "source": [
    "## 全体モデルから"
   ]
  },
  {
   "cell_type": "markdown",
   "metadata": {},
   "source": [
    "### まずは訓練データ内にて分散0除去"
   ]
  },
  {
   "cell_type": "code",
   "execution_count": 23,
   "metadata": {},
   "outputs": [],
   "source": [
    "furukawa=np.loadtxt(\"furukawa_全体206次元_名前付き.csv\",delimiter=\",\",dtype=str)\n",
    "f_feature=furukawa[1:,:-1]\n",
    "f_label=furukawa[1:,-1]\n",
    "\n",
    "out_index = dispersion_outindex(f_feature)"
   ]
  },
  {
   "cell_type": "markdown",
   "metadata": {},
   "source": [
    "### 検証データ内にて分散0除去"
   ]
  },
  {
   "cell_type": "code",
   "execution_count": 24,
   "metadata": {},
   "outputs": [],
   "source": [
    "wang=np.loadtxt(\"wang_全体公式_名前付き.csv\",delimiter=\",\",dtype=str)\n",
    "w_feature=wang[1:,1:-1]\n",
    "w_label=wang[1:,-1]\n",
    "\n",
    "out_index2 = dispersion_outindex(w_feature)"
   ]
  },
  {
   "cell_type": "markdown",
   "metadata": {},
   "source": [
    "### -3~3以外"
   ]
  },
  {
   "cell_type": "code",
   "execution_count": 25,
   "metadata": {},
   "outputs": [],
   "source": [
    "std=StandardScaler()\n",
    "std.fit(f_feature)\n",
    "train_feature = std.transform(f_feature)\n",
    "test_feature = std.transform(w_feature)"
   ]
  },
  {
   "cell_type": "code",
   "execution_count": 26,
   "metadata": {},
   "outputs": [],
   "source": [
    "out_index3=[]\n",
    "for i in range(37):\n",
    "    for j in range(206):\n",
    "        if((test_feature[i][j])**2 >= 9):\n",
    "            out_index3.append(j)\n",
    "out_index3 = list(set(out_index3))\n",
    "out_index3.sort()"
   ]
  },
  {
   "cell_type": "markdown",
   "metadata": {},
   "source": [
    "### 統合"
   ]
  },
  {
   "cell_type": "code",
   "execution_count": 27,
   "metadata": {},
   "outputs": [],
   "source": [
    "oi = out_index+out_index2+out_index3\n",
    "oi=list(set(oi))\n",
    "oi.sort()"
   ]
  },
  {
   "cell_type": "code",
   "execution_count": 35,
   "metadata": {},
   "outputs": [],
   "source": [
    "furukawa = np.loadtxt(\"furukawa_全体206次元_名前付き.csv\",delimiter=\",\",dtype=str)\n",
    "file = open(\"furukawa_全体_外れ値除去.csv\",\"w\")\n",
    "\n",
    "new_index = np.array(range(len(furukawa[0])))\n",
    "index = np.array(range(len(furukawa[0])-len(oi)))\n",
    "for i in range(0,len(oi)):\n",
    "    new_index = np.delete(new_index, oi[i]-i)\n",
    "\n",
    "for i in range(394):\n",
    "    for j in range(len(new_index)):\n",
    "        file.write(furukawa[i][new_index[j]])\n",
    "        if(j==len(new_index)-1):    \n",
    "            file.write(\"\\n\")\n",
    "        else:\n",
    "            file.write(\",\")\n",
    "file.close()"
   ]
  },
  {
   "cell_type": "code",
   "execution_count": 37,
   "metadata": {},
   "outputs": [],
   "source": [
    "wang = np.loadtxt(\"wang_全体公式_名前付き.csv\",delimiter=\",\",dtype=str)\n",
    "wang=wang[:,1:]\n",
    "file = open(\"wang_全体_外れ値除去.csv\",\"w\")\n",
    "\n",
    "new_index = np.array(range(len(wang[0])))\n",
    "index = np.array(range(len(wang[0])-len(oi)))\n",
    "for i in range(0,len(oi)):\n",
    "    new_index = np.delete(new_index, oi[i]-i)\n",
    "\n",
    "for i in range(38):\n",
    "    for j in range(len(new_index)):\n",
    "        file.write(wang[i][new_index[j]])\n",
    "        if(j==len(new_index)-1):    \n",
    "            file.write(\"\\n\")\n",
    "        else:\n",
    "            file.write(\",\")            \n",
    "file.close()"
   ]
  },
  {
   "cell_type": "markdown",
   "metadata": {},
   "source": [
    "## 残基毎のモデル"
   ]
  },
  {
   "cell_type": "markdown",
   "metadata": {},
   "source": [
    "### まずは訓練データ内にて分散0除去"
   ]
  },
  {
   "cell_type": "code",
   "execution_count": 38,
   "metadata": {},
   "outputs": [],
   "source": [
    "furukawa=np.loadtxt(\"furukawa_残基毎_206次元_名前付き.csv\",delimiter=\",\",dtype=str)\n",
    "f_feature=furukawa[1:,:-1]\n",
    "f_label=furukawa[1:,-1]\n",
    "\n",
    "out_index = dispersion_outindex(f_feature)"
   ]
  },
  {
   "cell_type": "markdown",
   "metadata": {},
   "source": [
    "### 検証データ内にて分散0除去"
   ]
  },
  {
   "cell_type": "code",
   "execution_count": 40,
   "metadata": {},
   "outputs": [],
   "source": [
    "wang=np.loadtxt(\"WANG.csv\",delimiter=\",\",dtype=float)\n",
    "w_feature=wang[:,:-1]\n",
    "w_label=wang[:,-1]\n",
    "\n",
    "out_index2 = dispersion_outindex(w_feature)"
   ]
  },
  {
   "cell_type": "markdown",
   "metadata": {},
   "source": [
    "### -3~3以外"
   ]
  },
  {
   "cell_type": "code",
   "execution_count": 41,
   "metadata": {},
   "outputs": [],
   "source": [
    "std=StandardScaler()\n",
    "std.fit(f_feature)\n",
    "train_feature = std.transform(f_feature)\n",
    "test_feature = std.transform(w_feature)"
   ]
  },
  {
   "cell_type": "code",
   "execution_count": 43,
   "metadata": {},
   "outputs": [],
   "source": [
    "out_index3=[]\n",
    "for i in range(33):\n",
    "    for j in range(206):\n",
    "        if((test_feature[i][j])**2 >= 9):\n",
    "            out_index3.append(j)\n",
    "out_index3 = list(set(out_index3))\n",
    "out_index3.sort()"
   ]
  },
  {
   "cell_type": "markdown",
   "metadata": {},
   "source": [
    "### 統合"
   ]
  },
  {
   "cell_type": "code",
   "execution_count": 44,
   "metadata": {},
   "outputs": [],
   "source": [
    "oi = out_index+out_index2+out_index3\n",
    "oi=list(set(oi))\n",
    "oi.sort()"
   ]
  },
  {
   "cell_type": "code",
   "execution_count": 45,
   "metadata": {},
   "outputs": [],
   "source": [
    "furukawa = np.loadtxt(\"furukawa_残基毎_206次元_名前付き.csv\",delimiter=\",\",dtype=str)\n",
    "file = open(\"furukawa_残基毎_外れ値除去.csv\",\"w\")\n",
    "\n",
    "new_index = np.array(range(len(furukawa[0])))\n",
    "index = np.array(range(len(furukawa[0])-len(oi)))\n",
    "for i in range(0,len(oi)):\n",
    "    new_index = np.delete(new_index, oi[i]-i)\n",
    "\n",
    "for i in range(394):\n",
    "    for j in range(len(new_index)):\n",
    "        file.write(furukawa[i][new_index[j]])\n",
    "        if(j==len(new_index)-1):    \n",
    "            file.write(\"\\n\")\n",
    "        else:\n",
    "            file.write(\",\")\n",
    "file.close()"
   ]
  },
  {
   "cell_type": "code",
   "execution_count": 51,
   "metadata": {},
   "outputs": [],
   "source": [
    "wang = np.loadtxt(\"WANG.csv\",delimiter=\",\",dtype=float)\n",
    "\n",
    "\n",
    "name=np.loadtxt(\"特徴量_名前一覧.csv\",delimiter=\",\",dtype=str)\n",
    "file = open(\"wang_全体_外れ値除去.csv\",\"w\")\n",
    "\n",
    "new_index = np.array(range(len(wang[0])))\n",
    "index = np.array(range(len(wang[0])-len(oi)))\n",
    "for i in range(0,len(oi)):\n",
    "    new_index = np.delete(new_index, oi[i]-i)\n",
    "\n",
    "    \n",
    "    \n",
    "\n",
    "for i in range(34):\n",
    "    if(i==0):\n",
    "        for j in range(len(new_index)):\n",
    "            file.write(name[new_index[j]])\n",
    "            if(j==len(new_index)-1):    \n",
    "                file.write(\"\\n\")\n",
    "            else:\n",
    "                file.write(\",\")\n",
    "    else:\n",
    "        for j in range(len(new_index)):\n",
    "            file.write(str(wang[i-1][new_index[j]]))\n",
    "            if(j==len(new_index)-1):    \n",
    "                file.write(\"\\n\")\n",
    "            else:\n",
    "                file.write(\",\")            \n",
    "file.close()"
   ]
  }
 ],
 "metadata": {
  "kernelspec": {
   "display_name": "Python 3",
   "language": "python",
   "name": "python3"
  },
  "language_info": {
   "codemirror_mode": {
    "name": "ipython",
    "version": 3
   },
   "file_extension": ".py",
   "mimetype": "text/x-python",
   "name": "python",
   "nbconvert_exporter": "python",
   "pygments_lexer": "ipython3",
   "version": "3.6.8"
  },
  "toc": {
   "base_numbering": 1,
   "nav_menu": {},
   "number_sections": true,
   "sideBar": true,
   "skip_h1_title": false,
   "title_cell": "Table of Contents",
   "title_sidebar": "Contents",
   "toc_cell": false,
   "toc_position": {},
   "toc_section_display": true,
   "toc_window_display": false
  }
 },
 "nbformat": 4,
 "nbformat_minor": 2
}
