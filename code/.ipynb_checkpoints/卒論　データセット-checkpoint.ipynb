{
 "cells": [
  {
   "cell_type": "markdown",
   "metadata": {},
   "source": [
    "# 残基毎のcsvを用意する"
   ]
  },
  {
   "cell_type": "markdown",
   "metadata": {},
   "source": [
    "## Furukawaデータセット"
   ]
  },
  {
   "cell_type": "code",
   "execution_count": 1,
   "metadata": {},
   "outputs": [],
   "source": [
    "import numpy as np\n",
    "data = np.loadtxt(\"furukawa_separate_comp_dataset.csv\",delimiter=\",\",dtype=str)\n",
    "\n",
    "A01=data[0,0:]\n",
    "A02=data[1,0:]\n",
    "A03=data[2,0:]\n",
    "A04=data[3,0:]\n",
    "A05=data[4,0:]\n",
    "A06=data[5,0:]\n",
    "A07=data[6,0:]\n",
    "A08=data[7,0:]\n",
    "A09=data[8,0:]\n",
    "A10=data[9,0:]\n",
    "A11=data[10,0:]\n",
    "A12=data[11,0:]\n",
    "A13=data[12,0:]\n",
    "A14=data[13,0:]\n",
    "A15=data[14,0:]\n",
    "A16=data[15,0:]\n",
    "A17=data[16,0:]\n",
    "A18=data[17,0:]\n",
    "A19=data[18,0:]\n",
    "A20=data[19,0:]\n",
    "L2_Nal=data[20,0:]\n",
    "L_Ala=data[21,0:]\n",
    "L_Leu=data[22,0:]\n",
    "L_Phe=data[23,0:]"
   ]
  },
  {
   "cell_type": "code",
   "execution_count": 2,
   "metadata": {},
   "outputs": [],
   "source": [
    "data2 = np.loadtxt(\"R345.csv\",delimiter=\",\",dtype=str)\n",
    "R3=data2[0,0:]\n",
    "R4=data2[0,0:]\n",
    "R5=data2[0,0:]"
   ]
  },
  {
   "cell_type": "code",
   "execution_count": 14,
   "metadata": {},
   "outputs": [],
   "source": [
    "#適宜修正が必要かも。。。\n",
    "import numpy as np\n",
    "file = open(\"label.txt\",\"r\")\n",
    "file2 = open(\"furukawa_separate_dataset.csv\",\"w\")\n",
    "file3 = open(\"logp.txt\",\"r\")\n",
    "\n",
    "line = file.readline()\n",
    "line2 = file3.readline()\n",
    "while line:\n",
    "    if(line2==\"—\"):\n",
    "        line2=file3.readline()\n",
    "        line=file.readline()\n",
    "        line=file.readline()\n",
    "        line=file.readline()\n",
    "        line=file.readline()\n",
    "    else:\n",
    "        if(line==\"A01\\n\"):\n",
    "            for i in range(0,len(A01)):\n",
    "                file2.write(A01[i])\n",
    "                file2.write(\",\")\n",
    "        elif(line==\"A02\\n\"):\n",
    "            for i in range(0,len(A01)):\n",
    "                file2.write(A02[i])\n",
    "                file2.write(\",\")\n",
    "        elif(line==\"A03\\n\"):  \n",
    "            for i in range(0,len(A01)):\n",
    "                file2.write(A03[i])\n",
    "                file2.write(\",\")\n",
    "        elif(line==\"A04\\n\"):  \n",
    "            for i in range(0,len(A01)):\n",
    "                file2.write(A04[i])\n",
    "                file2.write(\",\")\n",
    "        elif(line==\"A05\\n\"):  \n",
    "            for i in range(0,len(A01)):\n",
    "                file2.write(A05[i])\n",
    "                file2.write(\",\")\n",
    "        elif(line==\"A06\\n\"): \n",
    "            for i in range(0,len(A06)):\n",
    "                file2.write(A06[i])\n",
    "                file2.write(\",\")\n",
    "        elif(line==\"A07\\n\"):      \n",
    "            for i in range(0,len(A07)):\n",
    "                file2.write(A07[i])\n",
    "                file2.write(\",\")\n",
    "        elif(line==\"A08\\n\"):      \n",
    "            for i in range(0,len(A01)):\n",
    "                file2.write(A08[i])\n",
    "                file2.write(\",\")\n",
    "        elif(line==\"A09\\n\"):\n",
    "            for i in range(0,len(A01)):\n",
    "                file2.write(A09[i])\n",
    "                file2.write(\",\")\n",
    "        elif(line==\"A10\\n\"):\n",
    "            for i in range(0,len(A01)):\n",
    "                file2.write(A10[i])\n",
    "                file2.write(\",\")\n",
    "        elif(line==\"A11\\n\"):\n",
    "            for i in range(0,len(A01)):\n",
    "                file2.write(A11[i])\n",
    "                file2.write(\",\")\n",
    "        elif(line==\"A12\\n\"):\n",
    "            for i in range(0,len(A01)):\n",
    "                file2.write(A12[i])\n",
    "                file2.write(\",\")\n",
    "        elif(line==\"A13\\n\"):\n",
    "            for i in range(0,len(A01)):\n",
    "                file2.write(A13[i])\n",
    "                file2.write(\",\")  \n",
    "        elif(line==\"A14\\n\"):\n",
    "            for i in range(0,len(A01)):\n",
    "                file2.write(A14[i])\n",
    "                file2.write(\",\")  \n",
    "        elif(line==\"A15\\n\"):\n",
    "            for i in range(0,len(A01)):\n",
    "                file2.write(A15[i])\n",
    "                file2.write(\",\")\n",
    "        elif(line==\"A16\\n\"):\n",
    "            for i in range(0,len(A01)):\n",
    "                file2.write(A16[i])\n",
    "                file2.write(\",\")  \n",
    "        elif(line==\"A17\\n\"):\n",
    "            for i in range(0,len(A01)):\n",
    "                file2.write(A17[i])\n",
    "                file2.write(\",\")  \n",
    "        elif(line==\"A18\\n\"):\n",
    "            for i in range(0,len(A01)):\n",
    "                file2.write(A18[i])\n",
    "                file2.write(\",\")\n",
    "        elif(line==\"A19\\n\"):\n",
    "            for i in range(0,len(A01)):\n",
    "                file2.write(A19[i])\n",
    "                file2.write(\",\")\n",
    "        elif(line==\"A20\\n\"):\n",
    "            for i in range(0,len(A01)):\n",
    "                file2.write(A20[i])\n",
    "                file2.write(\",\")\n",
    "        elif(line==\"Ala\\n\"):\n",
    "            for i in range(0,len(A01)):\n",
    "                file2.write(L_Ala[i])\n",
    "                file2.write(\",\")\n",
    "        elif(line==\"Leu\\n\"):\n",
    "            for i in range(0,len(A01)):\n",
    "                file2.write(L_Leu[i])\n",
    "                file2.write(\",\")\n",
    "        elif(line==\"Phe\\n\"):\n",
    "            for i in range(0,len(A01)):\n",
    "                file2.write(L_Phe[i])\n",
    "                file2.write(\",\")\n",
    "        elif(line==\"2-Nal\\n\"):\n",
    "            for i in range(0,len(A01)):\n",
    "                file2.write(L2_Nal[i])\n",
    "                file2.write(\",\")\n",
    "        else:\n",
    "            for i in range(0,len(A01)):\n",
    "                file2.write(R3[i])\n",
    "                file2.write(\",\")\n",
    "            for i in range(0,len(A01)):\n",
    "                file2.write(R4[i])\n",
    "                file2.write(\",\")\n",
    "            for i in range(0,len(A01)):\n",
    "                file2.write(R5[i])\n",
    "                file2.write(\",\")\n",
    "            file2.write(line2)\n",
    "            line2 = file3.readline()\n",
    "        line = file.readline()\n",
    "file.close()\n",
    "file2.close()\n",
    "file3.close()"
   ]
  },
  {
   "cell_type": "markdown",
   "metadata": {},
   "source": [
    "## Wangデータセット"
   ]
  },
  {
   "cell_type": "code",
   "execution_count": 1,
   "metadata": {},
   "outputs": [],
   "source": [
    "import numpy as np\n",
    "data2 = np.loadtxt(\"wang_separate_comp_dataset.csv\",delimiter=\",\",dtype=str)\n",
    "\n",
    "Ala=data2[0,0:]\n",
    "Arg=data2[1,0:]\n",
    "Gly=data2[2,0:]\n",
    "Ile=data2[3,0:]\n",
    "Leu=data2[4,0:]\n",
    "Lys=data2[5,0:]\n",
    "Phe=data2[6,0:]\n",
    "Pro=data2[7,0:]\n",
    "Thr=data2[8,0:]\n",
    "Trp=data2[9,0:]\n",
    "Tyr=data2[10,0:]\n",
    "Val=data2[11,0:]\n",
    "Asn=data2[12,0:]\n",
    "N_Ala=data2[13,0:]\n",
    "N_Gly=data2[14,0:]\n",
    "N_Leu=data2[15,0:]\n",
    "N_Phe=data2[16,0:]\n",
    "N_Thr=data2[17,0:]\n",
    "N_Trp=data2[18,0:]\n",
    "N_Tyr=data2[19,0:]"
   ]
  },
  {
   "cell_type": "code",
   "execution_count": 2,
   "metadata": {},
   "outputs": [],
   "source": [
    "#適宜修正が必要かも。。。\n",
    "import numpy as np\n",
    "file = open(\"wang_separate.txt\",\"r\")\n",
    "file2 = open(\"wang_separate_dataset.csv\",\"w\")\n",
    "\n",
    "\n",
    "line = file.readline()\n",
    "while line:\n",
    "    if(line==\"Ala\\n\"):\n",
    "        for i in range(0,len(Ala)):\n",
    "            file2.write(Ala[i])\n",
    "            file2.write(\",\")\n",
    "    elif(line==\"Arg\\n\"):\n",
    "        for i in range(0,len(Ala)):\n",
    "            file2.write(Arg[i])\n",
    "            file2.write(\",\")\n",
    "    elif(line==\"Gly\\n\"):\n",
    "        for i in range(0,len(Ala)):\n",
    "            file2.write(Gly[i])\n",
    "            file2.write(\",\")\n",
    "    elif(line==\"Ile\\n\"):\n",
    "        for i in range(0,len(Ala)):\n",
    "            file2.write(Ile[i])\n",
    "            file2.write(\",\")\n",
    "    elif(line==\"Leu\\n\"):\n",
    "        for i in range(0,len(Ala)):\n",
    "            file2.write(Leu[i])\n",
    "            file2.write(\",\")\n",
    "    elif(line==\"Lys\\n\"):\n",
    "        for i in range(0,len(Ala)):\n",
    "            file2.write(Lys[i])\n",
    "            file2.write(\",\")\n",
    "    elif(line==\"Phe\\n\"):\n",
    "        for i in range(0,len(Ala)):\n",
    "            file2.write(Phe[i])\n",
    "            file2.write(\",\")\n",
    "    elif(line==\"Pro\\n\"):\n",
    "        for i in range(0,len(Ala)):\n",
    "            file2.write(Pro[i])\n",
    "            file2.write(\",\")\n",
    "    elif(line==\"Thr\\n\"):\n",
    "        for i in range(0,len(Ala)):\n",
    "            file2.write(Thr[i])\n",
    "            file2.write(\",\")\n",
    "    elif(line==\"Trp\\n\"):\n",
    "        for i in range(0,len(Ala)):\n",
    "            file2.write(Trp[i])\n",
    "            file2.write(\",\")\n",
    "    elif(line==\"Tyr\\n\"):\n",
    "        for i in range(0,len(Ala)):\n",
    "            file2.write(Tyr[i])\n",
    "            file2.write(\",\")\n",
    "    elif(line==\"Val\\n\"):\n",
    "        for i in range(0,len(Ala)):\n",
    "            file2.write(Val[i])\n",
    "            file2.write(\",\")\n",
    "    elif(line==\"Asn\\n\"):\n",
    "        for i in range(0,len(Ala)):\n",
    "            file2.write(Asn[i])\n",
    "            file2.write(\",\")\n",
    "    elif(line==\"N-Ala\\n\"):\n",
    "        for i in range(0,len(Ala)):\n",
    "            file2.write(N_Ala[i])\n",
    "            file2.write(\",\")\n",
    "    elif(line==\"N-Gly\\n\"):\n",
    "        for i in range(0,len(Ala)):\n",
    "            file2.write(N_Gly[i])\n",
    "            file2.write(\",\")\n",
    "    elif(line==\"N-Leu\\n\"):\n",
    "        for i in range(0,len(Ala)):\n",
    "            file2.write(N_Leu[i])\n",
    "            file2.write(\",\")\n",
    "    elif(line==\"N-Phe\\n\"):\n",
    "        for i in range(0,len(Ala)):\n",
    "            file2.write(N_Phe[i])\n",
    "            file2.write(\",\")\n",
    "    elif(line==\"N-Thr\\n\"):\n",
    "        for i in range(0,len(Ala)):\n",
    "            file2.write(N_Thr[i])\n",
    "            file2.write(\",\")\n",
    "    elif(line==\"N-Trp\\n\"):\n",
    "        for i in range(0,len(Ala)):\n",
    "            file2.write(N_Trp[i])\n",
    "            file2.write(\",\")\n",
    "    elif(line==\"N-Tyr\\n\"):\n",
    "        for i in range(0,len(Ala)):\n",
    "            file2.write(N_Tyr[i])\n",
    "            file2.write(\",\")\n",
    "    else:\n",
    "        file2.write(line)\n",
    "    line = file.readline()\n",
    "file.close()\n",
    "file2.close()"
   ]
  },
  {
   "cell_type": "markdown",
   "metadata": {},
   "source": [
    "# 平均データセットを作る\n",
    "\n",
    "流れとしては残基の特徴量を横並びにしたものをmap関数で平均をとる"
   ]
  },
  {
   "cell_type": "code",
   "execution_count": 4,
   "metadata": {},
   "outputs": [],
   "source": [
    "import numpy as np"
   ]
  },
  {
   "cell_type": "code",
   "execution_count": 50,
   "metadata": {},
   "outputs": [
    {
     "name": "stdout",
     "output_type": "stream",
     "text": [
      "(0.16666666666666666, 2.1666666666666665, 0.0, 0.0, 0.0, 0.3333333333333333, 8.166666666666666, 0.3497166666666667, 24.778333333333336, 117.5065, -0.22205)\n"
     ]
    }
   ],
   "source": [
    "csv = np.loadtxt(\"train_dataset_123456.csv\",delimiter=\",\",dtype=float)\n",
    "data = csv[:,0:66]\n",
    "\n",
    "AVE_data = list(map(lambda x: (sum(x[0::11])/6,sum(x[1::11])/6,sum(x[2::11])/6,sum(x[3::11])/6,sum(x[4::11])/6,sum(x[5::11])/6,sum(x[6::11])/6,sum(x[7::11])/6,sum(x[8::11])/6,sum(x[9::11])/6,sum(x[10::11])/6), data))\n",
    "print(AVE_data[0])"
   ]
  },
  {
   "cell_type": "markdown",
   "metadata": {},
   "source": [
    "# 以下の方法で平均を取り出す"
   ]
  },
  {
   "cell_type": "code",
   "execution_count": 51,
   "metadata": {},
   "outputs": [],
   "source": [
    "def ave(lst):\n",
    "    ave_lst=[]\n",
    "    for i in range(0,11):\n",
    "        ave_lst.append(sum(lst[i::11])/6)\n",
    "    return ave_lst"
   ]
  },
  {
   "cell_type": "code",
   "execution_count": 52,
   "metadata": {},
   "outputs": [
    {
     "name": "stdout",
     "output_type": "stream",
     "text": [
      "[0.16666666666666666, 2.1666666666666665, 0.0, 0.0, 0.0, 0.3333333333333333, 8.166666666666666, 0.3497166666666667, 24.778333333333336, 117.5065, -0.22205]\n"
     ]
    }
   ],
   "source": [
    "csv = np.loadtxt(\"train_dataset_123456.csv\",delimiter=\",\",dtype=float)\n",
    "data = csv[:,0:66]\n",
    "\n",
    "AVE_data = list(map(ave, data))\n",
    "print(AVE_data[0])"
   ]
  },
  {
   "cell_type": "code",
   "execution_count": null,
   "metadata": {},
   "outputs": [],
   "source": []
  },
  {
   "cell_type": "code",
   "execution_count": 13,
   "metadata": {},
   "outputs": [
    {
     "name": "stdout",
     "output_type": "stream",
     "text": [
      "206\n"
     ]
    }
   ],
   "source": [
    "name = np.loadtxt(\"特徴量_名前一覧.csv\",delimiter=\",\",dtype=str)\n",
    "\n",
    "print(len(name))"
   ]
  },
  {
   "cell_type": "code",
   "execution_count": null,
   "metadata": {},
   "outputs": [],
   "source": []
  }
 ],
 "metadata": {
  "kernelspec": {
   "display_name": "Python 3",
   "language": "python",
   "name": "python3"
  },
  "language_info": {
   "codemirror_mode": {
    "name": "ipython",
    "version": 3
   },
   "file_extension": ".py",
   "mimetype": "text/x-python",
   "name": "python",
   "nbconvert_exporter": "python",
   "pygments_lexer": "ipython3",
   "version": "3.6.8"
  },
  "toc": {
   "base_numbering": 1,
   "nav_menu": {},
   "number_sections": true,
   "sideBar": true,
   "skip_h1_title": false,
   "title_cell": "Table of Contents",
   "title_sidebar": "Contents",
   "toc_cell": false,
   "toc_position": {},
   "toc_section_display": true,
   "toc_window_display": false
  }
 },
 "nbformat": 4,
 "nbformat_minor": 2
}
