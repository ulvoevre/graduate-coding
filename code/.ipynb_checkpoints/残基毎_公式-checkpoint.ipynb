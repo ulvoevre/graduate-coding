{
 "cells": [
  {
   "cell_type": "code",
   "execution_count": 1,
   "metadata": {},
   "outputs": [
    {
     "name": "stderr",
     "output_type": "stream",
     "text": [
      "/usr/local/var/pyenv/versions/anaconda3-5.1.0/lib/python3.6/site-packages/sklearn/cross_validation.py:41: DeprecationWarning: This module was deprecated in version 0.18 in favor of the model_selection module into which all the refactored classes and functions are moved. Also note that the interface of the new CV iterators are different from that of this module. This module will be removed in 0.20.\n",
      "  \"This module will be removed in 0.20.\", DeprecationWarning)\n",
      "/usr/local/var/pyenv/versions/anaconda3-5.1.0/lib/python3.6/site-packages/sklearn/grid_search.py:42: DeprecationWarning: This module was deprecated in version 0.18 in favor of the model_selection module into which all the refactored classes and functions are moved. This module will be removed in 0.20.\n",
      "  DeprecationWarning)\n"
     ]
    }
   ],
   "source": [
    "import numpy as np\n",
    "from sklearn.svm import SVR\n",
    "from sklearn import preprocessing\n",
    "from sklearn.model_selection import train_test_split\n",
    "from sklearn.model_selection import KFold\n",
    "from sklearn.preprocessing import StandardScaler\n",
    "from sklearn.metrics import r2_score\n",
    "from sklearn.metrics import mean_squared_error\n",
    "from sklearn.grid_search import GridSearchCV\n",
    "import matplotlib.pyplot as plt\n",
    "from sklearn.ensemble import RandomForestRegressor\n",
    "from sklearn.datasets import make_regression\n",
    "from matplotlib.backends.backend_pdf import PdfPages\n",
    "import seaborn as sns\n",
    "import pandas as pd\n",
    "import warnings\n",
    "warnings.filterwarnings('ignore')"
   ]
  },
  {
   "cell_type": "code",
   "execution_count": 40,
   "metadata": {},
   "outputs": [],
   "source": [
    "def rank_backsort(x):\n",
    "    y = np.sort(x)\n",
    "    y = y[::-1]\n",
    "    z = np.zeros(len(x))\n",
    "    \n",
    "    for i in range(0,len(x)):\n",
    "        for j in range(0,len(y)):\n",
    "            if(x[i] == y[j]):\n",
    "                z[i] = j+1\n",
    "                break\n",
    "    return z\n",
    "\n",
    "\n",
    "def r_calc(test,pred):\n",
    "    n=len(test)\n",
    "    ave_test = np.sum(test)/n\n",
    "    ave_pred = np.sum(pred)/n\n",
    "    a=0\n",
    "    b=0\n",
    "    c=0\n",
    "    for i in range(0,len(test)):\n",
    "        a += (test[i] - ave_test)*(pred[i] - ave_pred)\n",
    "        b += (test[i] - ave_test)**2\n",
    "        c += (pred[i] - ave_pred)**2\n",
    "    \n",
    "    a2 = a/n\n",
    "    b2 = (b/n)**0.5\n",
    "    c2 = (c/n)**0.5\n",
    "    return a2/(b2*c2)\n",
    "\n",
    "def prediction(x):\n",
    "    tuned_parameters = [\n",
    "    {'C': [2**(-3), 2**(-2), 2**(-1), 1, 2, 2**2, 2**3, 2**4, 2**5, 2**6, 2**7, 2**8, 2**9, 2**10], 'kernel': ['linear']},\n",
    "    {'C': [2**(-3), 2**(-2), 2**(-1), 1, 2, 2**2, 2**3, 2**4, 2**5, 2**6, 2**7, 2**8, 2**9, 2**10], 'kernel': ['rbf'], 'gamma': [2**(-10), 2**(-9), 2**(-8), 2**(-7), 2**(-6), 2**(-5), 2**(-4), 2**(-3), 2**(-2), 2**(-1), 1 ]},\n",
    "    ]\n",
    "    \n",
    "    path = 'CSV folder/残基毎_公式_最終.csv'\n",
    "    \n",
    "    with open(path,mode='a') as f:\n",
    "        data = np.loadtxt(\"CSV folder/furukawa_残基毎_修正_rank順_名前なし.csv\",delimiter=\",\",dtype=float)\n",
    "        feature = data[:,0:x]\n",
    "        label = data[:,-1]\n",
    "\n",
    "        scaler = StandardScaler()\n",
    "        scaler.fit(feature)\n",
    "        feature = scaler.transform(feature)\n",
    "        count = 0\n",
    "        for i in range(10):\n",
    "            kf = KFold(n_splits = 5, shuffle = True)\n",
    "\n",
    "            for train_index, test_index in kf.split(feature):\n",
    "                train_feature, train_label, test_feature, test_label = np.array(feature)[train_index], np.array(label)[train_index], np.array(feature)[test_index], np.array(label)[test_index]\n",
    "\n",
    "                grid = GridSearchCV(SVR(),tuned_parameters,cv=5,scoring='r2')\n",
    "                grid.fit(train_feature,train_label)\n",
    "\n",
    "                clf = SVR(C=grid.best_params_['C'],kernel='rbf',gamma=grid.best_params_['gamma'],epsilon=0.1)\n",
    "                clf.fit(train_feature, train_label)\n",
    "                pred = clf.predict(test_feature)\n",
    "\n",
    "                if(count==49):\n",
    "                    f.write(str(r2_score(test_label,pred)))\n",
    "                else:\n",
    "                    f.write(str(r2_score(test_label,pred)))\n",
    "                    f.write(\",\")\n",
    "                count += 1\n",
    "        f.write(\"\\n\")\n",
    "    return \n",
    "\n",
    "\n",
    "def re_prediction(x):\n",
    "    tuned_parameters = [\n",
    "    {'C': [2**(-3), 2**(-2), 2**(-1), 1, 2, 2**2, 2**3, 2**4, 2**5, 2**6, 2**7, 2**8, 2**9, 2**10], 'kernel': ['linear']},\n",
    "    {'C': [2**(-3), 2**(-2), 2**(-1), 1, 2, 2**2, 2**3, 2**4, 2**5, 2**6, 2**7, 2**8, 2**9, 2**10], 'kernel': ['rbf'], 'gamma': [2**(-10), 2**(-9), 2**(-8), 2**(-7), 2**(-6), 2**(-5), 2**(-4), 2**(-3), 2**(-2), 2**(-1), 1 ]},\n",
    "    ]\n",
    "    \n",
    "    path = 'CSV folder/残基毎_公式_最終2.csv'\n",
    "    \n",
    "    with open(path,mode='a') as f:\n",
    "        data = np.loadtxt(\"CSV folder/furukawa_残基毎_修正_rank順_名前なし.csv\",delimiter=\",\",dtype=float)\n",
    "        feature = data[:,0:x]\n",
    "        label = data[:,-1]\n",
    "\n",
    "        scaler = StandardScaler()\n",
    "        scaler.fit(feature)\n",
    "        feature = scaler.transform(feature)\n",
    "        count = 0\n",
    "        for i in range(10):\n",
    "            kf = KFold(n_splits = 5, shuffle = True)\n",
    "\n",
    "            for train_index, test_index in kf.split(feature):\n",
    "                train_feature, train_label, test_feature, test_label = np.array(feature)[train_index], np.array(label)[train_index], np.array(feature)[test_index], np.array(label)[test_index]\n",
    "\n",
    "                grid = GridSearchCV(SVR(),tuned_parameters,cv=5,scoring='r2')\n",
    "                grid.fit(train_feature,train_label)\n",
    "\n",
    "                clf = SVR(C=grid.best_params_['C'],kernel='rbf',gamma=grid.best_params_['gamma'],epsilon=0.1)\n",
    "                clf.fit(train_feature, train_label)\n",
    "                pred = clf.predict(test_feature)\n",
    "\n",
    "                if(count==49):\n",
    "                    f.write(str(r2_score(test_label,pred)))\n",
    "                else:\n",
    "                    f.write(str(r2_score(test_label,pred)))\n",
    "                    f.write(\",\")\n",
    "                count += 1\n",
    "        f.write(\"\\n\")\n",
    "    return \n",
    "\n",
    "\n",
    "\n",
    "\n",
    "def RF_prediction(x):\n",
    "    tuned_parameters = {'n_estimators'  : [10, 100, 1000, 10000], 'max_features' : ['auto','sqrt','log2']}\n",
    "    \n",
    "    path = 'CSV folder/残機毎_RF_公式.csv'\n",
    "    \n",
    "    with open(path,mode='a') as f:\n",
    "        data = np.loadtxt(\"CSV folder/furukawa_残基毎_rank順_名前なし.csv\",delimiter=\",\",dtype=float)\n",
    "        feature = data[:,0:x]\n",
    "        label = data[:,-1]\n",
    "        RF=RandomForestRegressor()\n",
    "        count = 0\n",
    "        for i in range(10):\n",
    "            kf = KFold(n_splits = 5, shuffle = True)\n",
    "            for train_index, test_index in kf.split(feature):\n",
    "                train_feature, train_label, test_feature, test_label = np.array(feature)[train_index], np.array(label)[train_index], np.array(feature)[test_index], np.array(label)[test_index]\n",
    "                grid = GridSearchCV(RF,tuned_parameters,cv=5,scoring='r2')\n",
    "                grid.fit(train_feature,train_label)\n",
    "\n",
    "                regr = RF(n_estimators=grid.best_params_['n_estimators'],max_features=grid.best_params_['max_features'])\n",
    "                regr.fit(train_feature, train_label)\n",
    "                pred = regr.predict(test_feature)\n",
    "\n",
    "                if(count==49):\n",
    "                    f.write(str(r2_score(test_label,pred)))\n",
    "                else:\n",
    "                    f.write(str(r2_score(test_label,pred)))\n",
    "                    f.write(\",\")\n",
    "                count += 1\n",
    "        f.write(\"\\n\")\n",
    "    return \n",
    "\n",
    "\n",
    "def heatmap_geidsearchCV(grid):\n",
    "    CV=grid.grid_scores_[14:]\n",
    "    heatmap_list=[]\n",
    "    for i in range(len(CV)):\n",
    "        if(\"kernel\" in CV[i][0].keys()):\n",
    "            del CV[i][0]['kernel']\n",
    "        CV[i][0].setdefault('$R^2$', CV[i][1])\n",
    "        heatmap_list.append(CV[i][0])\n",
    "    \n",
    "    df=pd.DataFrame(heatmap_list)\n",
    "    \n",
    "    data = df.pivot(index=\"gamma\", columns=\"C\", values=\"$R^2$\")\n",
    "    plt.figure(figsize=(11, 8))\n",
    "    ax=sns.heatmap(data, annot=True, fmt='.2f',cmap=\"RdBu_r\")\n",
    "    ax.collections[0].colorbar.set_label(\"$R^2$\")\n",
    "    return ax"
   ]
  },
  {
   "cell_type": "code",
   "execution_count": 5,
   "metadata": {},
   "outputs": [
    {
     "data": {
      "text/plain": [
       "GridSearchCV(cv=5, error_score='raise',\n",
       "       estimator=RandomForestRegressor(bootstrap=True, criterion='mse', max_depth=None,\n",
       "           max_features='auto', max_leaf_nodes=None,\n",
       "           min_impurity_decrease=0.0, min_impurity_split=None,\n",
       "           min_samples_leaf=1, min_samples_split=2,\n",
       "           min_weight_fraction_leaf=0.0, n_estimators=10, n_jobs=1,\n",
       "           oob_score=False, random_state=None, verbose=0, warm_start=False),\n",
       "       fit_params={}, iid=True, n_jobs=1,\n",
       "       param_grid={'n_estimators': [10, 100, 1000, 10000], 'max_features': ['auto', 'sqrt', 'log2']},\n",
       "       pre_dispatch='2*n_jobs', refit=True, scoring='r2', verbose=0)"
      ]
     },
     "execution_count": 5,
     "metadata": {},
     "output_type": "execute_result"
    }
   ],
   "source": [
    "data=np.loadtxt(\"CSV folder/furukawa_残基毎_分散0除去_名前なし.csv\",delimiter=\",\",dtype=float)\n",
    "feature = data[:,:-1]\n",
    "label = data[:,-1]\n",
    "\n",
    "tuned_parameters = {'n_estimators'  : [10, 100, 1000, 10000], 'max_features' : ['auto','sqrt','log2']}\n",
    "\n",
    "grid = GridSearchCV(RandomForestRegressor(),tuned_parameters,cv=5,scoring='r2') # モデルの評価関数の指定\n",
    "grid.fit(feature,label)"
   ]
  },
  {
   "cell_type": "code",
   "execution_count": 6,
   "metadata": {},
   "outputs": [],
   "source": [
    "importance=np.zeros(len(feature[0]))\n",
    "regr = RandomForestRegressor(n_estimators=grid.best_params_['n_estimators'],max_features=grid.best_params_['max_features'])\n",
    "kf = KFold(n_splits = 5, shuffle = True)\n",
    "for train_index, test_index in kf.split(feature):\n",
    "    train_feature, train_label, test_feature, test_label = np.array(feature)[train_index], np.array(label)[train_index], np.array(feature)[test_index], np.array(label)[test_index]\n",
    "    regr.fit(train_feature,train_label)\n",
    "    importance += regr.feature_importances_ "
   ]
  },
  {
   "cell_type": "code",
   "execution_count": 7,
   "metadata": {},
   "outputs": [],
   "source": [
    "rank_index = rank_backsort(importance)"
   ]
  },
  {
   "cell_type": "code",
   "execution_count": 9,
   "metadata": {},
   "outputs": [],
   "source": [
    "file=open(\"CSV folder/wang_残基毎_修正_rank順_名前付き.csv\",\"w\")\n",
    "data = np.loadtxt('CSV folder/wang_残基毎_分散0除去.csv', delimiter=',', dtype=str)\n",
    "feature=data[:,:-1]\n",
    "label = data[:,-1]\n",
    "\n",
    "for i in range(34):\n",
    "    for j in range(1,len(feature[0])+1):\n",
    "            for k in range(len(feature[0])):\n",
    "                if(j==rank_index[k]):\n",
    "                    file.write(feature[i][k])\n",
    "                    file.write(\",\")\n",
    "    file.write(label[i])\n",
    "    file.write(\"\\n\")\n",
    "file.close()"
   ]
  },
  {
   "cell_type": "code",
   "execution_count": 10,
   "metadata": {},
   "outputs": [],
   "source": [
    "file=open(\"CSV folder/furukawa_残基毎_修正_rank順_名前付き.csv\",\"w\")\n",
    "data = np.loadtxt('CSV folder/furukawa_残基毎_分散0除去.csv', delimiter=',', dtype=str)\n",
    "feature=data[:,0:-1]\n",
    "label = data[:,-1]\n",
    "\n",
    "for i in range(394):\n",
    "    for j in range(1,len(feature[0])+1):\n",
    "            for k in range(len(feature[0])):\n",
    "                if(j==rank_index[k]):\n",
    "                    file.write(feature[i][k])\n",
    "                    file.write(\",\")\n",
    "    file.write(label[i])\n",
    "    file.write(\"\\n\")\n",
    "file.close()"
   ]
  },
  {
   "cell_type": "markdown",
   "metadata": {},
   "source": [
    "# RndaomForestでもやってみる"
   ]
  },
  {
   "cell_type": "code",
   "execution_count": null,
   "metadata": {},
   "outputs": [],
   "source": []
  },
  {
   "cell_type": "code",
   "execution_count": null,
   "metadata": {},
   "outputs": [],
   "source": []
  },
  {
   "cell_type": "markdown",
   "metadata": {},
   "source": [
    "# SVR"
   ]
  },
  {
   "cell_type": "code",
   "execution_count": 13,
   "metadata": {},
   "outputs": [],
   "source": [
    "for i in range(30):\n",
    "    prediction((i+1)*5)\n",
    "prediction(154)"
   ]
  },
  {
   "cell_type": "code",
   "execution_count": 36,
   "metadata": {},
   "outputs": [],
   "source": [
    "data=np.loadtxt(\"CSV folder/残基毎_公式_最終.csv\",delimiter=\",\",dtype=float)\n",
    "average=np.zeros(31)\n",
    "stdd=np.zeros(31)\n",
    "for i in range(31):\n",
    "    average[i]=sum(data[i])/len(data[i])\n",
    "    stdd[i]=np.std(data[i])"
   ]
  },
  {
   "cell_type": "code",
   "execution_count": 37,
   "metadata": {},
   "outputs": [
    {
     "data": {
      "text/plain": [
       "array([0.8042412 , 0.86892393, 0.91387065, 0.91366505, 0.91784324,\n",
       "       0.91784185, 0.92267045, 0.91822081, 0.91841892, 0.9165259 ,\n",
       "       0.90862066, 0.90961112, 0.9056359 , 0.90134475, 0.90334677,\n",
       "       0.89584156, 0.89448007, 0.8901228 , 0.89367291, 0.89456309,\n",
       "       0.88958078, 0.88819396, 0.89425239, 0.89511769, 0.89152908,\n",
       "       0.89958245, 0.89186619, 0.89520661, 0.88908988, 0.89385602,\n",
       "       0.89725989])"
      ]
     },
     "execution_count": 37,
     "metadata": {},
     "output_type": "execute_result"
    }
   ],
   "source": [
    "average"
   ]
  },
  {
   "cell_type": "code",
   "execution_count": 16,
   "metadata": {},
   "outputs": [
    {
     "data": {
      "text/plain": [
       "array([  5,  10,  15,  20,  25,  30,  35,  40,  45,  50,  55,  60,  65,\n",
       "        70,  75,  80,  85,  90,  95, 100, 105, 110, 115, 120, 125, 130,\n",
       "       135, 140, 145, 150])"
      ]
     },
     "execution_count": 16,
     "metadata": {},
     "output_type": "execute_result"
    }
   ],
   "source": [
    "np.array(range(5,155,5))"
   ]
  },
  {
   "cell_type": "code",
   "execution_count": null,
   "metadata": {},
   "outputs": [],
   "source": [
    "num=[ 5,  10,  15,  20,  25,  30,  35,  40,  45,  50,  55,  60,  65,\n",
    "        70,  75,  80,  85,  90,  95, 100, 105, 110, 115, 120, 125, 130,\n",
    "       135, 140, 145, 150,154]\n",
    "plt.plot(num,average,color=\"red\")\n",
    "plt.plot(num,average+stdd,color=\"g\")\n",
    "plt.plot(num,average-stdd,color=\"b\")"
   ]
  },
  {
   "cell_type": "code",
   "execution_count": 41,
   "metadata": {},
   "outputs": [],
   "source": [
    "for i in range(9):\n",
    "    if(i+31 != 35):\n",
    "        re_prediction(i+31)"
   ]
  },
  {
   "cell_type": "code",
   "execution_count": 42,
   "metadata": {},
   "outputs": [],
   "source": [
    "data=np.loadtxt(\"CSV folder/残基毎_公式_最終2.csv\",delimiter=\",\",dtype=float)\n",
    "average=np.zeros(8)\n",
    "for i in range(8):\n",
    "    average[i]=sum(data[i])/len(data[i])"
   ]
  },
  {
   "cell_type": "code",
   "execution_count": 43,
   "metadata": {},
   "outputs": [
    {
     "data": {
      "text/plain": [
       "array([0.91196991, 0.92564925, 0.92205663, 0.92220849, 0.92118378,\n",
       "       0.92285303, 0.92076241, 0.9206603 ])"
      ]
     },
     "execution_count": 43,
     "metadata": {},
     "output_type": "execute_result"
    }
   ],
   "source": [
    "average"
   ]
  },
  {
   "cell_type": "code",
   "execution_count": 2,
   "metadata": {},
   "outputs": [],
   "source": [
    "num=[ 5,  10,  15,  20,  25,  30,31,32,33,34,  35,36,37,38,39,  40,  45,  50,  55,  60,  65,\n",
    "        70,  75,  80,  85,  90,  95, 100, 105, 110, 115, 120, 125, 130,\n",
    "       135, 140, 145, 150,154]"
   ]
  },
  {
   "cell_type": "code",
   "execution_count": 3,
   "metadata": {},
   "outputs": [],
   "source": [
    "average=np.array([0.8042412 , 0.86892393, 0.91387065, 0.91366505, 0.91784324,\n",
    "       0.91784185,0.91196991, 0.92564925, 0.92205663, 0.92220849,0.92267045, \n",
    "       0.92118378,0.92285303, 0.92076241, 0.9206603, 0.91822081, 0.91841892, 0.9165259 ,\n",
    "       0.90862066, 0.90961112, 0.9056359 , 0.90134475, 0.90334677,\n",
    "       0.89584156, 0.89448007, 0.8901228 , 0.89367291, 0.89456309,\n",
    "       0.88958078, 0.88819396, 0.89425239, 0.89511769, 0.89152908,\n",
    "       0.89958245, 0.89186619, 0.89520661, 0.88908988, 0.89385602,\n",
    "       0.89725989])"
   ]
  },
  {
   "cell_type": "code",
   "execution_count": 4,
   "metadata": {},
   "outputs": [
    {
     "data": {
      "image/png": "[encoded data removed]",
      "text/plain": [
       "<matplotlib.figure.Figure at 0x107fc6438>"
      ]
     },
     "metadata": {},
     "output_type": "display_data"
    }
   ],
   "source": [
    "pdf = PdfPages('pdf folder/separate__.pdf')\n",
    "plt.figure()\n",
    "plt.plot(num,average)\n",
    "pdf.savefig()\n",
    "pdf.close()"
   ]
  },
  {
   "cell_type": "code",
   "execution_count": 47,
   "metadata": {},
   "outputs": [
    {
     "name": "stdout",
     "output_type": "stream",
     "text": [
      "SVR: r2 0.570716, RMSE 0.566723, r 0.809452\n"
     ]
    },
    {
     "data": {
      "image/png": "[encoded data removed]",
      "text/plain": [
       "<matplotlib.figure.Figure at 0x10d89f240>"
      ]
     },
     "metadata": {},
     "output_type": "display_data"
    }
   ],
   "source": [
    "tuned_parameters = [\n",
    "    {'C': [2**(-3), 2**(-2), 2**(-1), 1, 2, 2**2, 2**3, 2**4, 2**5, 2**6, 2**7, 2**8, 2**9, 2**10], 'kernel': ['linear']},\n",
    "    {'C': [2**(-3), 2**(-2), 2**(-1), 1, 2, 2**2, 2**3, 2**4, 2**5, 2**6, 2**7, 2**8, 2**9, 2**10], 'kernel': ['rbf'], 'gamma': [2**(-10), 2**(-9), 2**(-8), 2**(-7), 2**(-6), 2**(-5), 2**(-4), 2**(-3), 2**(-2), 2**(-1), 1 ]},\n",
    "    ]\n",
    "\n",
    "x=32\n",
    "train_data = np.loadtxt(\"CSV folder/furukawa_残基毎_修正_rank順_名前なし.csv\",delimiter=\",\",dtype=float)\n",
    "test_data = np.loadtxt(\"CSV folder/wang_残基毎_修正_rank順_名前なし.csv\",delimiter=\",\",dtype=float)\n",
    "\n",
    "train_feature=train_data[:,0:x]\n",
    "train_label=train_data[:,-1]\n",
    "\n",
    "test_feature=test_data[:,0:x]\n",
    "test_label=test_data[:,-1]\n",
    "\n",
    "std=StandardScaler()\n",
    "std.fit(train_feature)\n",
    "train_feature=std.transform(train_feature)\n",
    "test_feature=std.transform(test_feature)\n",
    "\n",
    "for i in range(len(test_feature)):\n",
    "    for j in range(len(test_feature[0])):\n",
    "        if(test_feature[i][j]>3):\n",
    "            test_feature[i][j] = 3\n",
    "        elif(test_feature[i][j]<-3):\n",
    "            test_feature[i][j]=-3\n",
    "\n",
    "\n",
    "\n",
    "grid=GridSearchCV(SVR(),tuned_parameters,cv=5,scoring=\"r2\")\n",
    "grid.fit(train_feature,train_label)\n",
    "\n",
    "\n",
    "reg=SVR(C=grid.best_params_['C'],kernel=\"rbf\",gamma=grid.best_params_['gamma'])\n",
    "reg.fit(train_feature,train_label)\n",
    "pred = reg.predict(test_feature)\n",
    "r = r_calc(test_label,pred)\n",
    "r2 = r2_score(test_label,pred)\n",
    "rmse = (mean_squared_error(test_label,pred))**0.5\n",
    "\n",
    "\n",
    "pdf = PdfPages('pdf folder/separate.pdf')\n",
    "plt.figure()\n",
    "\n",
    "\n",
    "x = np.linspace(-9,-4)  \n",
    "y = x              \n",
    "plt.plot(x,y,color=\"black\")      \n",
    "\n",
    "y1 = pred\n",
    "y2 = test_label\n",
    "plt.scatter(y1,y2,color=\"darkorange\")\n",
    "\n",
    "plt.ylabel('obserbed Log$P_{app}$')\n",
    "plt.xlabel('predicted Log$P_{app}$')\n",
    "plt.plot()\n",
    "\n",
    "\n",
    "pdf.savefig()\n",
    "pdf.close()\n",
    "\n",
    "\n",
    "\n",
    "print (\"SVR: r2 %f, RMSE %f, r %f\" % (r2, rmse, r))"
   ]
  },
  {
   "cell_type": "code",
   "execution_count": 48,
   "metadata": {},
   "outputs": [
    {
     "data": {
      "image/png": "[encoded data removed]",
      "text/plain": [
       "<matplotlib.figure.Figure at 0x10d48d208>"
      ]
     },
     "metadata": {},
     "output_type": "display_data"
    }
   ],
   "source": [
    "pdf = PdfPages('pdf folder/separate_grid_result.pdf')\n",
    "heatmap_geidsearchCV(grid)\n",
    "pdf.savefig()\n",
    "pdf.close()"
   ]
  }
 ],
 "metadata": {
  "kernelspec": {
   "display_name": "Python 3",
   "language": "python",
   "name": "python3"
  },
  "language_info": {
   "codemirror_mode": {
    "name": "ipython",
    "version": 3
   },
   "file_extension": ".py",
   "mimetype": "text/x-python",
   "name": "python",
   "nbconvert_exporter": "python",
   "pygments_lexer": "ipython3",
   "version": "3.6.4"
  },
  "toc": {
   "base_numbering": 1,
   "nav_menu": {},
   "number_sections": true,
   "sideBar": true,
   "skip_h1_title": false,
   "title_cell": "Table of Contents",
   "title_sidebar": "Contents",
   "toc_cell": false,
   "toc_position": {},
   "toc_section_display": true,
   "toc_window_display": false
  }
 },
 "nbformat": 4,
 "nbformat_minor": 2
}
