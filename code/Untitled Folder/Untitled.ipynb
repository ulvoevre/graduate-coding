{
 "cells": [
  {
   "cell_type": "code",
   "execution_count": 1,
   "metadata": {},
   "outputs": [
    {
     "name": "stderr",
     "output_type": "stream",
     "text": [
      "/usr/local/var/pyenv/versions/anaconda3-5.1.0/lib/python3.6/site-packages/sklearn/cross_validation.py:41: DeprecationWarning: This module was deprecated in version 0.18 in favor of the model_selection module into which all the refactored classes and functions are moved. Also note that the interface of the new CV iterators are different from that of this module. This module will be removed in 0.20.\n",
      "  \"This module will be removed in 0.20.\", DeprecationWarning)\n",
      "/usr/local/var/pyenv/versions/anaconda3-5.1.0/lib/python3.6/site-packages/sklearn/grid_search.py:42: DeprecationWarning: This module was deprecated in version 0.18 in favor of the model_selection module into which all the refactored classes and functions are moved. This module will be removed in 0.20.\n",
      "  DeprecationWarning)\n"
     ]
    }
   ],
   "source": [
    "import numpy as np\n",
    "from sklearn.svm import SVR\n",
    "from sklearn import preprocessing\n",
    "from sklearn.model_selection import train_test_split\n",
    "from sklearn.model_selection import KFold\n",
    "from sklearn.preprocessing import StandardScaler\n",
    "from sklearn.metrics import r2_score\n",
    "from sklearn.metrics import mean_squared_error\n",
    "from sklearn.grid_search import GridSearchCV\n",
    "import matplotlib.pyplot as plt\n",
    "from sklearn.ensemble import RandomForestRegressor\n",
    "from sklearn.datasets import make_regression\n",
    "from matplotlib.backends.backend_pdf import PdfPages\n",
    "import seaborn as sns\n",
    "import pandas as pd\n",
    "import warnings\n",
    "warnings.filterwarnings('ignore')"
   ]
  },
  {
   "cell_type": "code",
   "execution_count": 2,
   "metadata": {},
   "outputs": [],
   "source": [
    "def r2_calc(x,y):\n",
    "    sum_1=0\n",
    "    sum_2=0\n",
    "    ave = np.sum(x)/len(x)\n",
    "    for i in range(0,len(x)):\n",
    "        sum_1 += (x[i]-y[i])**2\n",
    "        sum_2 += (x[i]-ave)**2\n",
    "    \n",
    "    return 1-sum_1/sum_2\n",
    "\n",
    "\n",
    "def r_calc(test,pred):\n",
    "    n=len(test)\n",
    "    ave_test = np.sum(test)/n\n",
    "    ave_pred = np.sum(pred)/n\n",
    "    a=0\n",
    "    b=0\n",
    "    c=0\n",
    "    for i in range(0,len(test)):\n",
    "        a += (test[i] - ave_test)*(pred[i] - ave_pred)\n",
    "        b += (test[i] - ave_test)**2\n",
    "        c += (pred[i] - ave_pred)**2\n",
    "    \n",
    "    a2 = a/n\n",
    "    b2 = (b/n)**0.5\n",
    "    c2 = (c/n)**0.5\n",
    "    return a2/(b2*c2)"
   ]
  },
  {
   "cell_type": "code",
   "execution_count": 4,
   "metadata": {},
   "outputs": [
    {
     "name": "stdout",
     "output_type": "stream",
     "text": [
      "SVR: r2 0.375439, RMSE 0.699756, r 0.761298\n"
     ]
    },
    {
     "data": {
      "image/png": "[encoded data removed]",
      "text/plain": [
       "<matplotlib.figure.Figure at 0x1152fdef0>"
      ]
     },
     "metadata": {},
     "output_type": "display_data"
    }
   ],
   "source": [
    "tuned_parameters = [\n",
    "    {'C': [2**(-3), 2**(-2), 2**(-1), 1, 2, 2**2, 2**3, 2**4, 2**5, 2**6, 2**7, 2**8, 2**9, 2**10], 'kernel': ['linear']},\n",
    "    {'C': [2**(-3), 2**(-2), 2**(-1), 1, 2, 2**2, 2**3, 2**4, 2**5, 2**6, 2**7, 2**8, 2**9, 2**10], 'kernel': ['rbf'], 'gamma': [2**(-10), 2**(-9), 2**(-8), 2**(-7), 2**(-6), 2**(-5), 2**(-4), 2**(-3), 2**(-2), 2**(-1), 1 ]},\n",
    "    ]\n",
    "\n",
    "\n",
    "train_data = np.loadtxt(\"furukawa_全体_rank順_名前なし.csv\",delimiter=\",\",dtype=float)\n",
    "test_data = np.loadtxt(\"wang_全体_rank順_名前なし.csv\",delimiter=\",\",dtype=float)\n",
    "\n",
    "train_feature=train_data[:,0:26]\n",
    "train_label=train_data[:,-1]\n",
    "\n",
    "test_feature=test_data[:,0:26]\n",
    "test_label=test_data[:,-1]\n",
    "\n",
    "std=StandardScaler()\n",
    "std.fit(train_feature)\n",
    "train_feature=std.transform(train_feature)\n",
    "test_feature=std.transform(test_feature)\n",
    "\n",
    "grid=GridSearchCV(SVR(),tuned_parameters,cv=5,scoring=\"r2\")\n",
    "grid.fit(train_feature,train_label)\n",
    "\n",
    "\n",
    "reg=SVR(C=grid.best_params_['C'],kernel=\"rbf\",gamma=grid.best_params_['gamma'])\n",
    "reg.fit(train_feature,train_label)\n",
    "pred = reg.predict(test_feature)\n",
    "r = r_calc(test_label,pred)\n",
    "r2 = r2_score(test_label,pred)\n",
    "rmse = (mean_squared_error(test_label,pred))**0.5\n",
    "\n",
    "\n",
    "x = np.linspace(-9,-4)  \n",
    "y = x              \n",
    "plt.plot(x,y,color=\"black\")      \n",
    "\n",
    "y1 = pred\n",
    "y2 = test_label\n",
    "plt.scatter(y1,y2,color=\"darkorange\")\n",
    "\n",
    "plt.ylabel('obserbed Log$P_{app}$')\n",
    "plt.xlabel('predicted Log$P_{app}$')\n",
    "plt.plot()\n",
    "\n",
    "\n",
    "\n",
    "print (\"SVR: r2 %f, RMSE %f, r %f\" % (r2, rmse, r))"
   ]
  },
  {
   "cell_type": "code",
   "execution_count": null,
   "metadata": {},
   "outputs": [],
   "source": []
  }
 ],
 "metadata": {
  "kernelspec": {
   "display_name": "Python 3",
   "language": "python",
   "name": "python3"
  },
  "language_info": {
   "codemirror_mode": {
    "name": "ipython",
    "version": 3
   },
   "file_extension": ".py",
   "mimetype": "text/x-python",
   "name": "python",
   "nbconvert_exporter": "python",
   "pygments_lexer": "ipython3",
   "version": "3.6.4"
  }
 },
 "nbformat": 4,
 "nbformat_minor": 2
}
