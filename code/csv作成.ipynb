{
 "cells": [
  {
   "cell_type": "code",
   "execution_count": 1,
   "metadata": {},
   "outputs": [
    {
     "name": "stderr",
     "output_type": "stream",
     "text": [
      "/usr/local/var/pyenv/versions/anaconda3-5.1.0/lib/python3.6/site-packages/sklearn/cross_validation.py:41: DeprecationWarning: This module was deprecated in version 0.18 in favor of the model_selection module into which all the refactored classes and functions are moved. Also note that the interface of the new CV iterators are different from that of this module. This module will be removed in 0.20.\n",
      "  \"This module will be removed in 0.20.\", DeprecationWarning)\n",
      "/usr/local/var/pyenv/versions/anaconda3-5.1.0/lib/python3.6/site-packages/sklearn/grid_search.py:42: DeprecationWarning: This module was deprecated in version 0.18 in favor of the model_selection module into which all the refactored classes and functions are moved. This module will be removed in 0.20.\n",
      "  DeprecationWarning)\n"
     ]
    }
   ],
   "source": [
    "import numpy as np\n",
    "from sklearn.svm import SVR\n",
    "from sklearn import preprocessing\n",
    "from sklearn.model_selection import train_test_split\n",
    "from sklearn.model_selection import KFold\n",
    "from sklearn.preprocessing import StandardScaler\n",
    "from sklearn.metrics import r2_score\n",
    "from sklearn.metrics import mean_squared_error\n",
    "from sklearn.grid_search import GridSearchCV\n",
    "import matplotlib.pyplot as plt\n",
    "from sklearn.ensemble import RandomForestRegressor\n",
    "from sklearn.datasets import make_regression\n",
    "import warnings\n",
    "warnings.filterwarnings('ignore')"
   ]
  },
  {
   "cell_type": "code",
   "execution_count": 2,
   "metadata": {},
   "outputs": [],
   "source": [
    "def ave(lst,interval):\n",
    "    ave_lst=np.zeros((len(lst),int(len(lst[0])/6)))\n",
    "    \n",
    "    for i in range(0,len(lst)):\n",
    "        for j in range(0,int(len(lst[0])/6)):\n",
    "            ave_lst[i][j] = (sum(lst[i][j::interval])/6)\n",
    "    return ave_lst\n",
    "\n",
    "\n",
    "\n",
    "def feature_delite_outindex(x,out_index):  \n",
    "    new_index = np.array(range(len(x[0])))\n",
    "    index = np.array(range(len(x[0])-len(out_index)))\n",
    "    for i in range(0,len(out_index)):\n",
    "        new_index = np.delete(new_index, out_index[i]-i)\n",
    "   \n",
    "    new_x = np.zeros((len(x),len(x[0])-len(out_index)))\n",
    "    for k in range(0,len(x)):      \n",
    "        for i in range(0,len(new_x[0])):\n",
    "            new_x[k][index[i]] = x[k][new_index[i]]\n",
    "    return new_x \n",
    "\n",
    "def dispersion_outindex(x):\n",
    "    out_index=[] \n",
    "    for i in range(0,len(x[0])):\n",
    "        flag=0\n",
    "        value = x[0][i]\n",
    "        for j in range(0,len(x)):\n",
    "            if(value == x[j][i]):\n",
    "                value = x[j][i]                \n",
    "            else:\n",
    "                if(flag!=1):\n",
    "                    flag=1\n",
    "        if(flag!=1):\n",
    "            out_index.append(i)\n",
    "\n",
    "    return out_index\n",
    "\n",
    "\n",
    "\n",
    "\n",
    "def feature_select(x,out_index):   \n",
    "    new_index = np.array(range(len(x[0])))\n",
    "    index = np.array(range(len(x[0])-len(out_index)))\n",
    "    for i in range(0,len(out_index)):\n",
    "        new_index = np.delete(new_index, out_index[i]-i)\n",
    "   \n",
    "    new_x = np.zeros((len(x),len(x[0])-len(out_index)))\n",
    "    for k in range(0,len(new_x)):      \n",
    "        for i in range(0,len(new_x[0])):\n",
    "            new_x[k][index[i]] = x[k][new_index[i]]\n",
    "    return new_x ,out_index\n",
    "\n",
    "\n",
    "\n",
    "\n",
    "def nfeature(x,oi):\n",
    "    new_index = np.array(range(len(x)))\n",
    "    for i in range(0,len(oi)):\n",
    "        new_index = np.delete(new_index, oi[i]-i)\n",
    "   \n",
    "    new_x = []\n",
    "    for i in range(0,len(new_index)):      \n",
    "        new_x.append(x[new_index[i]])\n",
    "    return new_x"
   ]
  },
  {
   "cell_type": "code",
   "execution_count": 7,
   "metadata": {},
   "outputs": [],
   "source": [
    "data = np.loadtxt(\"wang_separate_dataset.csv\",delimiter=\",\",dtype=float)\n",
    "feature = data[:,0:1236]\n",
    "test_label = data[:,-1]\n",
    "\n",
    "ave_feature = ave(feature,206)\n",
    "\n",
    "\n",
    "file = open(\"WANGZANKI.csv\",\"w\")\n",
    "name = np.loadtxt(\"特徴量_名前一覧.csv\",delimiter=\",\",dtype=str)\n",
    "\n",
    "\n",
    "for i in range(0,len(name)):\n",
    "    file.write(name[i])\n",
    "    file.write(\",\")\n",
    "file.write(\"logPapp\\n\")\n",
    "\n",
    "for i in range(33):\n",
    "    for j in range(0,len(name)-1):\n",
    "        file.write(str(ave_feature[i][j]))\n",
    "        file.write(\",\")\n",
    "    file.write(str(test_label[i]))\n",
    "    file.write(\"\\n\")\n",
    "file.close()"
   ]
  },
  {
   "cell_type": "markdown",
   "metadata": {},
   "source": [
    "# 一気に分散0と外れ値を除く"
   ]
  },
  {
   "cell_type": "markdown",
   "metadata": {},
   "source": [
    "## 全体モデルから"
   ]
  },
  {
   "cell_type": "markdown",
   "metadata": {},
   "source": [
    "### まずは訓練データ内にて分散0除去"
   ]
  },
  {
   "cell_type": "code",
   "execution_count": 38,
   "metadata": {},
   "outputs": [],
   "source": [
    "furukawa=np.loadtxt(\"CSV folder/furukawa_全体206次元_名前付き.csv\",delimiter=\",\",dtype=str)\n",
    "f_feature=furukawa[1:,:-1]\n",
    "f_label=furukawa[1:,-1]\n",
    "\n",
    "out_index = dispersion_outindex(f_feature)"
   ]
  },
  {
   "cell_type": "markdown",
   "metadata": {},
   "source": [
    "### 検証データ内にて分散0除去"
   ]
  },
  {
   "cell_type": "code",
   "execution_count": 39,
   "metadata": {},
   "outputs": [],
   "source": [
    "wang=np.loadtxt(\"CSV folder/wang_全体公式_名前付き.csv\",delimiter=\",\",dtype=str)\n",
    "w_feature=wang[1:,1:-1]\n",
    "w_label=wang[1:,-1]\n",
    "\n",
    "out_index2 = dispersion_outindex(w_feature)"
   ]
  },
  {
   "cell_type": "markdown",
   "metadata": {},
   "source": [
    "### これらだけ取り除く"
   ]
  },
  {
   "cell_type": "code",
   "execution_count": 40,
   "metadata": {},
   "outputs": [
    {
     "data": {
      "text/plain": [
       "52"
      ]
     },
     "execution_count": 40,
     "metadata": {},
     "output_type": "execute_result"
    }
   ],
   "source": [
    "oi = out_index+out_index2\n",
    "oi=list(set(oi))\n",
    "oi.sort()\n",
    "len(oi)"
   ]
  },
  {
   "cell_type": "code",
   "execution_count": 7,
   "metadata": {},
   "outputs": [],
   "source": [
    "furukawa = np.loadtxt(\"CSV folder/furukawa_全体206次元_名前付き.csv\",delimiter=\",\",dtype=str)\n",
    "file = open(\"CSV folder/furukawa_全体_分散0除去.csv\",\"w\")\n",
    "\n",
    "new_index = np.array(range(len(furukawa[0])))\n",
    "index = np.array(range(len(furukawa[0])-len(oi)))\n",
    "for i in range(0,len(oi)):\n",
    "    new_index = np.delete(new_index, oi[i]-i)\n",
    "\n",
    "for i in range(394):\n",
    "    for j in range(len(new_index)):\n",
    "        file.write(furukawa[i][new_index[j]])\n",
    "        if(j==len(new_index)-1):    \n",
    "            file.write(\"\\n\")\n",
    "        else:\n",
    "            file.write(\",\")\n",
    "file.close()"
   ]
  },
  {
   "cell_type": "code",
   "execution_count": 8,
   "metadata": {},
   "outputs": [],
   "source": [
    "wang = np.loadtxt(\"CSV folder/wang_全体公式_名前付き.csv\",delimiter=\",\",dtype=str)\n",
    "wang=wang[:,1:]\n",
    "file = open(\"CSV folder/wang_全体_分散0除去.csv\",\"w\")\n",
    "\n",
    "new_index = np.array(range(len(wang[0])))\n",
    "index = np.array(range(len(wang[0])-len(oi)))\n",
    "for i in range(0,len(oi)):\n",
    "    new_index = np.delete(new_index, oi[i]-i)\n",
    "\n",
    "for i in range(38):\n",
    "    for j in range(len(new_index)):\n",
    "        file.write(wang[i][new_index[j]])\n",
    "        if(j==len(new_index)-1):    \n",
    "            file.write(\"\\n\")\n",
    "        else:\n",
    "            file.write(\",\")            \n",
    "file.close()"
   ]
  },
  {
   "cell_type": "markdown",
   "metadata": {},
   "source": [
    "## 残基毎のモデル"
   ]
  },
  {
   "cell_type": "markdown",
   "metadata": {},
   "source": [
    "### まずは訓練データ内にて分散0除去"
   ]
  },
  {
   "cell_type": "code",
   "execution_count": 35,
   "metadata": {},
   "outputs": [],
   "source": [
    "furukawa=np.loadtxt(\"CSV folder/furukawa_残基毎_206次元_名前付き.csv\",delimiter=\",\",dtype=str)\n",
    "f_feature=furukawa[1:,:-1]\n",
    "f_label=furukawa[1:,-1]\n",
    "\n",
    "out_i = dispersion_outindex(f_feature)"
   ]
  },
  {
   "cell_type": "markdown",
   "metadata": {},
   "source": [
    "### 検証データ内にて分散0除去"
   ]
  },
  {
   "cell_type": "code",
   "execution_count": 36,
   "metadata": {},
   "outputs": [],
   "source": [
    "wang=np.loadtxt(\"CSV folder/WANG.csv\",delimiter=\",\",dtype=str)\n",
    "w_feature=wang[:,:-1]\n",
    "w_label=wang[:,-1]\n",
    "\n",
    "out_i2 = dispersion_outindex(w_feature)"
   ]
  },
  {
   "cell_type": "markdown",
   "metadata": {},
   "source": [
    "### 統合"
   ]
  },
  {
   "cell_type": "code",
   "execution_count": 37,
   "metadata": {},
   "outputs": [
    {
     "data": {
      "text/plain": [
       "52"
      ]
     },
     "execution_count": 37,
     "metadata": {},
     "output_type": "execute_result"
    }
   ],
   "source": [
    "oi = out_i+out_i2\n",
    "oi=list(set(oi))\n",
    "oi.sort()\n",
    "len(oi)"
   ]
  },
  {
   "cell_type": "code",
   "execution_count": 18,
   "metadata": {},
   "outputs": [],
   "source": [
    "furukawa = np.loadtxt(\"CSV folder/furukawa_残基毎_206次元_名前付き.csv\",delimiter=\",\",dtype=str)\n",
    "file = open(\"CSV folder/furukawa_残基毎_分散0除去.csv\",\"w\")\n",
    "\n",
    "new_index = np.array(range(len(furukawa[0])))\n",
    "index = np.array(range(len(furukawa[0])-len(oi)))\n",
    "for i in range(0,len(oi)):\n",
    "    new_index = np.delete(new_index, oi[i]-i)\n",
    "\n",
    "for i in range(394):\n",
    "    for j in range(len(new_index)):\n",
    "        file.write(furukawa[i][new_index[j]])\n",
    "        if(j==len(new_index)-1):    \n",
    "            file.write(\"\\n\")\n",
    "        else:\n",
    "            file.write(\",\")\n",
    "file.close()"
   ]
  },
  {
   "cell_type": "code",
   "execution_count": 19,
   "metadata": {},
   "outputs": [],
   "source": [
    "wang = np.loadtxt(\"CSV folder/WANG.csv\",delimiter=\",\",dtype=float)\n",
    "\n",
    "\n",
    "name=np.loadtxt(\"CSV folder/特徴量_名前一覧.csv\",delimiter=\",\",dtype=str)\n",
    "file = open(\"CSV folder/wang_残基毎_分散0除去.csv\",\"w\")\n",
    "\n",
    "new_index = np.array(range(len(wang[0])))\n",
    "index = np.array(range(len(wang[0])-len(oi)))\n",
    "for i in range(0,len(oi)):\n",
    "    new_index = np.delete(new_index, oi[i]-i)\n",
    "\n",
    "    \n",
    "    \n",
    "\n",
    "for i in range(34):\n",
    "    if(i==0):\n",
    "        for j in range(len(new_index)):\n",
    "            file.write(name[new_index[j]])\n",
    "            if(j==len(new_index)-1):    \n",
    "                file.write(\"\\n\")\n",
    "            else:\n",
    "                file.write(\",\")\n",
    "    else:\n",
    "        for j in range(len(new_index)):\n",
    "            file.write(str(wang[i-1][new_index[j]]))\n",
    "            if(j==len(new_index)-1):    \n",
    "                file.write(\"\\n\")\n",
    "            else:\n",
    "                file.write(\",\")            \n",
    "file.close()"
   ]
  },
  {
   "cell_type": "code",
   "execution_count": null,
   "metadata": {},
   "outputs": [],
   "source": []
  },
  {
   "cell_type": "code",
   "execution_count": null,
   "metadata": {},
   "outputs": [],
   "source": []
  },
  {
   "cell_type": "code",
   "execution_count": null,
   "metadata": {},
   "outputs": [],
   "source": []
  },
  {
   "cell_type": "code",
   "execution_count": null,
   "metadata": {},
   "outputs": [],
   "source": []
  }
 ],
 "metadata": {
  "kernelspec": {
   "display_name": "Python 3",
   "language": "python",
   "name": "python3"
  },
  "language_info": {
   "codemirror_mode": {
    "name": "ipython",
    "version": 3
   },
   "file_extension": ".py",
   "mimetype": "text/x-python",
   "name": "python",
   "nbconvert_exporter": "python",
   "pygments_lexer": "ipython3",
   "version": "3.6.4"
  },
  "toc": {
   "base_numbering": 1,
   "nav_menu": {},
   "number_sections": true,
   "sideBar": true,
   "skip_h1_title": false,
   "title_cell": "Table of Contents",
   "title_sidebar": "Contents",
   "toc_cell": false,
   "toc_position": {},
   "toc_section_display": true,
   "toc_window_display": false
  }
 },
 "nbformat": 4,
 "nbformat_minor": 2
}
