{
 "cells": [
  {
   "cell_type": "code",
   "execution_count": 2,
   "metadata": {},
   "outputs": [
    {
     "name": "stderr",
     "output_type": "stream",
     "text": [
      "/Users/yamadayuuta/.pyenv/versions/anaconda3-5.1.0/lib/python3.6/site-packages/sklearn/cross_validation.py:41: DeprecationWarning: This module was deprecated in version 0.18 in favor of the model_selection module into which all the refactored classes and functions are moved. Also note that the interface of the new CV iterators are different from that of this module. This module will be removed in 0.20.\n",
      "  \"This module will be removed in 0.20.\", DeprecationWarning)\n",
      "/Users/yamadayuuta/.pyenv/versions/anaconda3-5.1.0/lib/python3.6/site-packages/sklearn/grid_search.py:42: DeprecationWarning: This module was deprecated in version 0.18 in favor of the model_selection module into which all the refactored classes and functions are moved. This module will be removed in 0.20.\n",
      "  DeprecationWarning)\n"
     ]
    }
   ],
   "source": [
    "import numpy as np\n",
    "from sklearn.svm import SVR\n",
    "from sklearn import preprocessing\n",
    "from sklearn.model_selection import train_test_split\n",
    "from sklearn.model_selection import KFold\n",
    "from sklearn.preprocessing import StandardScaler\n",
    "from sklearn.metrics import r2_score\n",
    "from sklearn.metrics import mean_squared_error\n",
    "from sklearn.grid_search import GridSearchCV\n",
    "import matplotlib.pyplot as plt\n",
    "from sklearn.ensemble import RandomForestRegressor\n",
    "from sklearn.datasets import make_regression\n",
    "from matplotlib.backends.backend_pdf import PdfPages\n",
    "import warnings\n",
    "warnings.filterwarnings('ignore')"
   ]
  },
  {
   "cell_type": "code",
   "execution_count": 3,
   "metadata": {},
   "outputs": [],
   "source": [
    "def r2_calc(x,y):\n",
    "    sum_1=0\n",
    "    sum_2=0\n",
    "    ave = np.sum(x)/len(x)\n",
    "    for i in range(0,len(x)):\n",
    "        sum_1 += (x[i]-y[i])**2\n",
    "        sum_2 += (x[i]-ave)**2\n",
    "    \n",
    "    return 1-sum_1/sum_2\n",
    "\n",
    "\n",
    "def r_calc(test,pred):\n",
    "    n=len(test)\n",
    "    ave_test = np.sum(test)/n\n",
    "    ave_pred = np.sum(pred)/n\n",
    "    a=0\n",
    "    b=0\n",
    "    c=0\n",
    "    for i in range(0,len(test)):\n",
    "        a += (test[i] - ave_test)*(pred[i] - ave_pred)\n",
    "        b += (test[i] - ave_test)**2\n",
    "        c += (pred[i] - ave_pred)**2\n",
    "    \n",
    "    a2 = a/n\n",
    "    b2 = (b/n)**0.5\n",
    "    c2 = (c/n)**0.5\n",
    "    return a2/(b2*c2)\n",
    "\n",
    "\n",
    "def prediction(x):\n",
    "    tuned_parameters = [\n",
    "    {'C': [2**(-3), 2**(-2), 2**(-1), 1, 2, 2**2, 2**3, 2**4, 2**5, 2**6, 2**7, 2**8, 2**9, 2**10], 'kernel': ['linear']},\n",
    "    {'C': [2**(-3), 2**(-2), 2**(-1), 1, 2, 2**2, 2**3, 2**4, 2**5, 2**6, 2**7, 2**8, 2**9, 2**10], 'kernel': ['rbf'], 'gamma': [2**(-10), 2**(-9), 2**(-8), 2**(-7), 2**(-6), 2**(-5), 2**(-4), 2**(-3), 2**(-2), 2**(-1), 1 ]},\n",
    "    ]\n",
    "    \n",
    "    path = 'Folder/全体.csv'\n",
    "    \n",
    "    with open(path,mode='a') as f:\n",
    "        data = np.loadtxt(\"FURUKAWA_全体_rank.csv\",delimiter=\",\",dtype=float)\n",
    "        feature = data[:,0:x]\n",
    "        label = data[:,-1]\n",
    "\n",
    "        scaler = StandardScaler()\n",
    "        scaler.fit(feature)\n",
    "        feature = scaler.transform(feature)\n",
    "\n",
    "        kf = KFold(n_splits = 5, shuffle = True)\n",
    "        count = 0\n",
    "        for train_index, test_index in kf.split(feature):\n",
    "            train_feature, train_label, test_feature, test_label = np.array(feature)[train_index], np.array(label)[train_index], np.array(feature)[test_index], np.array(label)[test_index]\n",
    "\n",
    "            grid = GridSearchCV(SVR(),tuned_parameters,cv=5,scoring='r2')\n",
    "            grid.fit(train_feature,train_label)\n",
    "\n",
    "            clf = SVR(C=grid.best_params_['C'],kernel='rbf',gamma=grid.best_params_['gamma'],epsilon=0.1)\n",
    "            clf.fit(train_feature, train_label)\n",
    "            pred = clf.predict(test_feature)\n",
    "\n",
    "            if(count==4):\n",
    "                f.write(str(r2_score(test_label,pred)))\n",
    "            else:\n",
    "                f.write(str(r2_score(test_label,pred)))\n",
    "                f.write(\",\")\n",
    "            count += 1\n",
    "        f.write(\"\\n\")\n",
    "    return "
   ]
  },
  {
   "cell_type": "code",
   "execution_count": 6,
   "metadata": {},
   "outputs": [],
   "source": [
    "for i in range(17):\n",
    "    prediction((i+1)*5)"
   ]
  },
  {
   "cell_type": "markdown",
   "metadata": {},
   "source": [
    "# これで最後にしよう"
   ]
  },
  {
   "cell_type": "markdown",
   "metadata": {},
   "source": [
    "# とりあえず訓練データ内で予測結果をプロット "
   ]
  },
  {
   "cell_type": "code",
   "execution_count": 8,
   "metadata": {},
   "outputs": [],
   "source": [
    "data=np.loadtxt(\"Folder/全体.csv\",delimiter=\",\",dtype=float)\n",
    "max_f=np.zeros(17)\n",
    "min_f=np.zeros(17)\n",
    "ave_f=np.zeros(17)\n",
    "\n",
    "for i in range(17):\n",
    "    max_f[i] = max(data[i])\n",
    "    min_f[i] = min(data[i])\n",
    "    ave_f[i] = sum(data[i])/5"
   ]
  },
  {
   "cell_type": "code",
   "execution_count": 55,
   "metadata": {},
   "outputs": [
    {
     "data": {
      "image/png": "[encoded data removed]",
      "text/plain": [
       "<matplotlib.figure.Figure at 0x1a19ba3588>"
      ]
     },
     "metadata": {},
     "output_type": "display_data"
    }
   ],
   "source": [
    "num=np.array(range(5,90,5))\n",
    "pdf = PdfPages('Folder/all.pdf')\n",
    "\n",
    "\n",
    "plt.figure()\n",
    "plt.plot(num,max_f,color=\"r\")\n",
    "plt.xlim(0, 90)\n",
    "plt.ylim(0.7, 0.9)\n",
    "\n",
    "plt.xlabel('Number of Features$')\n",
    "plt.ylabel('$R^2$')\n",
    "plt.plot()\n",
    "pdf.savefig()\n",
    "\n",
    "pdf.close()"
   ]
  },
  {
   "cell_type": "markdown",
   "metadata": {},
   "source": [
    "max_f 30個, min_f 35個, ave_f 35個"
   ]
  },
  {
   "cell_type": "markdown",
   "metadata": {},
   "source": [
    "# 早速やってみる"
   ]
  },
  {
   "cell_type": "code",
   "execution_count": 41,
   "metadata": {},
   "outputs": [],
   "source": [
    "train_data=np.loadtxt(\"FURUKAWA_全体_rank.csv\",delimiter=\",\",dtype=float)\n",
    "train_feature=train_data[:,0:30]\n",
    "train_label=train_data[:,-1]\n",
    "\n",
    "test_data=np.loadtxt(\"WANG全体_名前なし.csv\",delimiter=\",\",dtype=float)\n",
    "test_feature=test_data[:,0:30]\n",
    "test_label=test_data[:,-1]\n",
    "\n",
    "std = StandardScaler()\n",
    "std.fit(train_feature)\n",
    "train_feature = std.transform(train_feature)\n",
    "test_feature = std.transform(test_feature)"
   ]
  },
  {
   "cell_type": "code",
   "execution_count": 14,
   "metadata": {},
   "outputs": [],
   "source": [
    "tuned_parameters = [\n",
    "    {'C': [2**(-3), 2**(-2), 2**(-1), 1, 2, 2**2, 2**3, 2**4, 2**5, 2**6, 2**7, 2**8, 2**9, 2**10], 'kernel': ['linear']},\n",
    "    {'C': [2**(-3), 2**(-2), 2**(-1), 1, 2, 2**2, 2**3, 2**4, 2**5, 2**6, 2**7, 2**8, 2**9, 2**10], 'kernel': ['rbf'], 'gamma': [2**(-10), 2**(-9), 2**(-8), 2**(-7), 2**(-6), 2**(-5), 2**(-4), 2**(-3), 2**(-2), 2**(-1), 1 ]},\n",
    "    ]"
   ]
  },
  {
   "cell_type": "code",
   "execution_count": null,
   "metadata": {},
   "outputs": [],
   "source": [
    "grid=GridSearchCV(SVR(),tuned_parameters,cv=5,scoring=\"r2\")\n",
    "grid.fit(train_feature,train_label)\n",
    "print(grid.best_params_)"
   ]
  },
  {
   "cell_type": "code",
   "execution_count": 42,
   "metadata": {},
   "outputs": [],
   "source": [
    "reg=SVR(C=64,kernel=\"rbf\",gamma=0.0078125)\n",
    "reg.fit(train_feature,train_label)\n",
    "pred = reg.predict(test_feature)"
   ]
  },
  {
   "cell_type": "code",
   "execution_count": 43,
   "metadata": {},
   "outputs": [],
   "source": [
    "r = r_calc(test_label,pred)\n",
    "r2 = r2_score(test_label,pred)\n",
    "rmse = (mean_squared_error(test_label,pred))**0.5"
   ]
  },
  {
   "cell_type": "code",
   "execution_count": 44,
   "metadata": {},
   "outputs": [
    {
     "name": "stdout",
     "output_type": "stream",
     "text": [
      "パラメータ: rbf, C 64, gamma 0.0078125\n",
      "SVR: r2 -0.133453, RMSE 0.957970, r 0.710889\n"
     ]
    },
    {
     "data": {
      "image/png": "[encoded data removed]",
      "text/plain": [
       "<matplotlib.figure.Figure at 0x112780d30>"
      ]
     },
     "metadata": {},
     "output_type": "display_data"
    }
   ],
   "source": [
    "pdf = PdfPages('Folder/全体.pdf')\n",
    "\n",
    "plt.figure()\n",
    "x = np.linspace(-9,-4)  \n",
    "y = x              \n",
    "plt.plot(x,y,color=\"r\")      \n",
    "\n",
    "\n",
    "y1 = pred\n",
    "y2 = test_label\n",
    "plt.scatter(y1,y2)\n",
    "\n",
    "plt.ylabel('obserbed Log$P_{app}$')\n",
    "plt.xlabel('predicted Log$P_{app}$')\n",
    "plt.plot()\n",
    "\n",
    "\n",
    "pdf.savefig()\n",
    "\n",
    "pdf.close()\n",
    "\n",
    "\n",
    "\n",
    "print(\"パラメータ: rbf, C 64, gamma 0.0078125\")\n",
    "print (\"SVR: r2 %f, RMSE %f, r %f\" % (r2, rmse, r))"
   ]
  },
  {
   "cell_type": "code",
   "execution_count": 31,
   "metadata": {},
   "outputs": [
    {
     "data": {
      "text/plain": [
       "36"
      ]
     },
     "execution_count": 31,
     "metadata": {},
     "output_type": "execute_result"
    }
   ],
   "source": [
    "len(pred)"
   ]
  },
  {
   "cell_type": "code",
   "execution_count": 10,
   "metadata": {},
   "outputs": [],
   "source": [
    "file=open(\"考察資料＿全体.csv\",\"w\")\n",
    "for i in range(54):\n",
    "    file.write(str(i+1))\n",
    "    file.write(\",\")\n",
    "    file.write(str(pred[i]))\n",
    "    file.write(\",\")\n",
    "    file.write(str(test_label[i]))\n",
    "    file.write(\"\\n\")\n",
    "file.close()"
   ]
  },
  {
   "cell_type": "code",
   "execution_count": 45,
   "metadata": {},
   "outputs": [
    {
     "name": "stdout",
     "output_type": "stream",
     "text": [
      "-5.79 -5.435515518736953\n",
      "-7.05 -5.550330084830638\n",
      "-6.11 -5.412743710519205\n",
      "-6.12 -5.401747233442425\n",
      "-5.89 -5.472866621507494\n",
      "-6.02 -5.385937734591085\n",
      "-5.82 -5.466868540895958\n",
      "-5.88 -5.460164340008017\n",
      "-6.24 -5.44700730282847\n",
      "-5.42 -5.414548271660683\n",
      "-5.95 -5.479176891239435\n",
      "-5.73 -5.458166471958386\n",
      "-5.82 -5.526265757031319\n",
      "-5.48 -6.5954283592140275\n",
      "-6.72 -6.199585871318433\n",
      "-6.39 -6.099577533985878\n",
      "-7.1 -5.724536564042419\n",
      "-8.3 -6.578592121395243\n",
      "-7.62 -5.885023702822281\n",
      "-6.46 -6.265366093771556\n",
      "-6.81 -6.440539205081583\n",
      "-7.15 -6.360838929652731\n",
      "-6.03 -5.468223417713473\n",
      "-7.47 -6.285290808679402\n",
      "-7.0 -5.302754259668156\n",
      "-6.39 -5.445701815875093\n",
      "-6.43 -4.406311686125722\n",
      "-7.89 -6.552167075913738\n",
      "-8.52 -6.49970648074103\n",
      "-7.43 -6.78270568930253\n",
      "-8.05 -6.952170018762987\n",
      "-7.64 -7.6323793495995\n",
      "-8.17 -8.30798924891227\n",
      "-7.8 -8.252577267382113\n",
      "-7.68 -7.83878547495925\n",
      "-8.15 -7.726093767629537\n"
     ]
    }
   ],
   "source": [
    "for i in range(36):\n",
    "    print(test_label[i],pred[i])"
   ]
  },
  {
   "cell_type": "code",
   "execution_count": 55,
   "metadata": {},
   "outputs": [
    {
     "data": {
      "text/plain": [
       "-5.414548271660683"
      ]
     },
     "execution_count": 55,
     "metadata": {},
     "output_type": "execute_result"
    }
   ],
   "source": [
    "pred[9]"
   ]
  },
  {
   "cell_type": "code",
   "execution_count": 50,
   "metadata": {},
   "outputs": [
    {
     "data": {
      "text/plain": [
       "array([ 0.43873227, -0.59897722,  2.39560438, -0.81286668,  0.70415676,\n",
       "        1.20357821, -1.79213438,  0.9486675 ,  1.66270152,  0.82161791,\n",
       "       -0.13273175, -1.36693892, -1.02476197, -1.18758749, -0.83409779,\n",
       "       -0.53702488, -1.05141386,  0.6176224 ,  1.06938119,  0.57637264,\n",
       "       -0.23402107,  1.35371777,  1.21294955,  0.78500429,  0.81537234,\n",
       "        2.24921483, -1.95346416,  0.96013802, -1.81383628, -0.38956345])"
      ]
     },
     "execution_count": 50,
     "metadata": {},
     "output_type": "execute_result"
    }
   ],
   "source": [
    "test_feature[26]"
   ]
  },
  {
   "cell_type": "code",
   "execution_count": 53,
   "metadata": {},
   "outputs": [
    {
     "data": {
      "text/plain": [
       "array([-2.39594479,  1.48428051,  0.53982024, -1.74293124, -1.52968829,\n",
       "        1.3824711 , -2.29184615,  0.86564589,  0.29509464,  1.45832102,\n",
       "        2.31386969,  0.0710967 , -1.39775972,  0.75122402, -1.44079704,\n",
       "       -1.0064565 , -1.12320883, -2.10941641, -1.29602494,  1.31554595,\n",
       "       -2.95692453,  1.19661262,  0.9193344 , -1.04883858,  1.11038305,\n",
       "        1.85202396, -2.15430065,  1.3116726 , -2.3869122 , -1.14711674])"
      ]
     },
     "execution_count": 53,
     "metadata": {},
     "output_type": "execute_result"
    }
   ],
   "source": [
    "test_feature[31]"
   ]
  },
  {
   "cell_type": "code",
   "execution_count": 56,
   "metadata": {},
   "outputs": [
    {
     "data": {
      "text/plain": [
       "array([ 0.49236136, -0.14753617, -0.46461548, -0.75944659,  0.39670646,\n",
       "       -0.65729434, -0.43284133, -0.71875223, -0.65062432, -0.29941436,\n",
       "        0.55983057, -0.71848399, -2.6555431 ,  1.48058538,  0.32892826,\n",
       "       -0.44426633,  0.35006015, -0.27341499, -0.42897227, -0.30955548,\n",
       "       -0.79901767,  1.03351257, -0.6993364 , -1.19266941, -0.08710063,\n",
       "       -0.93385622, -1.95346416, -0.08205637,  0.6197872 , -1.41065661])"
      ]
     },
     "execution_count": 56,
     "metadata": {},
     "output_type": "execute_result"
    }
   ],
   "source": [
    "test_feature[9]"
   ]
  },
  {
   "cell_type": "markdown",
   "metadata": {},
   "source": [
    "# 結果\n",
    "特徴量 30個の時\n",
    "\n",
    "kernel: rbf, C: 64, gamma: 0.007812\n",
    "\n",
    "r: 0.639335, r2: -0.295501, RMSE: 0.978711"
   ]
  },
  {
   "cell_type": "markdown",
   "metadata": {},
   "source": [
    "# 次"
   ]
  },
  {
   "cell_type": "code",
   "execution_count": 27,
   "metadata": {},
   "outputs": [],
   "source": [
    "train_data=np.loadtxt(\"FURUKAWA_全体_rank.csv\",delimiter=\",\",dtype=float)\n",
    "train_feature=train_data[:,0:35]\n",
    "train_label=train_data[:,-1]\n",
    "\n",
    "test_data=np.loadtxt(\"WANG全体_名前なし.csv\",delimiter=\",\",dtype=float)\n",
    "test_feature=test_data[:,0:35]\n",
    "test_label=test_data[:,-1]\n",
    "\n",
    "std = StandardScaler()\n",
    "std.fit(train_feature)\n",
    "train_feature = std.transform(train_feature)\n",
    "test_feature = std.transform(test_feature)"
   ]
  },
  {
   "cell_type": "code",
   "execution_count": 20,
   "metadata": {},
   "outputs": [
    {
     "name": "stdout",
     "output_type": "stream",
     "text": [
      "{'C': 128, 'gamma': 0.00390625, 'kernel': 'rbf'}\n"
     ]
    }
   ],
   "source": [
    "grid=GridSearchCV(SVR(),tuned_parameters,cv=5,scoring=\"r2\")\n",
    "grid.fit(train_feature,train_label)\n",
    "print(grid.best_params_)"
   ]
  },
  {
   "cell_type": "code",
   "execution_count": 28,
   "metadata": {},
   "outputs": [],
   "source": [
    "reg=SVR(C=128,kernel=\"rbf\",gamma=0.00390625)\n",
    "reg.fit(train_feature,train_label)\n",
    "pred = reg.predict(test_feature)"
   ]
  },
  {
   "cell_type": "code",
   "execution_count": 29,
   "metadata": {},
   "outputs": [],
   "source": [
    "r = r_calc(test_label,pred)\n",
    "r2 = r2_score(test_label,pred)\n",
    "rmse = (mean_squared_error(test_label,pred))**0.5"
   ]
  },
  {
   "cell_type": "code",
   "execution_count": 30,
   "metadata": {},
   "outputs": [
    {
     "data": {
      "image/png": "[encoded data removed]",
      "text/plain": [
       "<matplotlib.figure.Figure at 0x1129e8550>"
      ]
     },
     "metadata": {},
     "output_type": "display_data"
    },
    {
     "name": "stdout",
     "output_type": "stream",
     "text": [
      "パラメータ: rbf, C 128, gamma 0.00390625\n",
      "SVR: r2 -0.838711, RMSE 1.220133, r 0.486176\n"
     ]
    }
   ],
   "source": [
    "x = np.linspace(-9,-5)  \n",
    "y = x              \n",
    "plt.plot(x,y)      \n",
    "\n",
    "y1 = pred\n",
    "y2 = test_label\n",
    "plt.scatter(y1,y2)\n",
    "\n",
    "plt.ylabel('obserbed Log$P_{app}$')\n",
    "plt.xlabel('predicted Log$P_{app}$')\n",
    "plt.show()\n",
    "print(\"パラメータ: rbf, C 128, gamma 0.00390625\")\n",
    "print (\"SVR: r2 %f, RMSE %f, r %f\" % (r2, rmse, r))"
   ]
  },
  {
   "cell_type": "markdown",
   "metadata": {},
   "source": [
    "# 結果\n",
    "特徴量 35個の時\n",
    "\n",
    "kernel: rbf, C: 128, gamma: 0.003906\n",
    "\n",
    "r: 0.312417, r2: -1.052648, RMSE: 1.231950\n"
   ]
  }
 ],
 "metadata": {
  "kernelspec": {
   "display_name": "Python 3",
   "language": "python",
   "name": "python3"
  },
  "language_info": {
   "codemirror_mode": {
    "name": "ipython",
    "version": 3
   },
   "file_extension": ".py",
   "mimetype": "text/x-python",
   "name": "python",
   "nbconvert_exporter": "python",
   "pygments_lexer": "ipython3",
   "version": "3.6.4"
  }
 },
 "nbformat": 4,
 "nbformat_minor": 2
}
