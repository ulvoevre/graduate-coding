{
 "cells": [
  {
   "cell_type": "code",
   "execution_count": 1,
   "metadata": {},
   "outputs": [
    {
     "name": "stderr",
     "output_type": "stream",
     "text": [
      "/Users/yamadayuuta/.pyenv/versions/anaconda3-5.1.0/lib/python3.6/site-packages/sklearn/cross_validation.py:41: DeprecationWarning: This module was deprecated in version 0.18 in favor of the model_selection module into which all the refactored classes and functions are moved. Also note that the interface of the new CV iterators are different from that of this module. This module will be removed in 0.20.\n",
      "  \"This module will be removed in 0.20.\", DeprecationWarning)\n",
      "/Users/yamadayuuta/.pyenv/versions/anaconda3-5.1.0/lib/python3.6/site-packages/sklearn/grid_search.py:42: DeprecationWarning: This module was deprecated in version 0.18 in favor of the model_selection module into which all the refactored classes and functions are moved. This module will be removed in 0.20.\n",
      "  DeprecationWarning)\n"
     ]
    }
   ],
   "source": [
    "import numpy as np\n",
    "from sklearn.svm import SVR\n",
    "from sklearn import preprocessing\n",
    "from sklearn.model_selection import train_test_split\n",
    "from sklearn.model_selection import KFold\n",
    "from sklearn.preprocessing import StandardScaler\n",
    "from sklearn.metrics import r2_score\n",
    "from sklearn.metrics import mean_squared_error\n",
    "from sklearn.grid_search import GridSearchCV\n",
    "import matplotlib.pyplot as plt\n",
    "from sklearn.ensemble import RandomForestRegressor\n",
    "from sklearn.datasets import make_regression\n",
    "import warnings\n",
    "warnings.filterwarnings('ignore')"
   ]
  },
  {
   "cell_type": "code",
   "execution_count": 2,
   "metadata": {},
   "outputs": [],
   "source": [
    "tuned_parameters = [\n",
    "                    {'C': [2**(-3), 2**(-2), 2**(-1), 1, 2, 2**2, 2**3, 2**4, 2**5, 2**6, 2**7, 2**8, 2**9, 2**10], 'kernel': ['linear']},\n",
    "                    {'C': [2**(-3), 2**(-2), 2**(-1), 1, 2, 2**2, 2**3, 2**4, 2**5, 2**6, 2**7, 2**8, 2**9, 2**10], 'kernel': ['rbf'], 'gamma': [2**(-10), 2**(-9), 2**(-8), 2**(-7), 2**(-6), 2**(-5), 2**(-4), 2**(-3), 2**(-2), 2**(-1), 1 ]},\n",
    "                    ]"
   ]
  },
  {
   "cell_type": "code",
   "execution_count": 3,
   "metadata": {},
   "outputs": [],
   "source": [
    "def prediction(x):\n",
    "    train_data = np.loadtxt(\"furukawa.csv\",delimiter=\",\",dtype=float)\n",
    "    train_feature=train_data[:,0:x]\n",
    "    train_label=train_data[:,-1]\n",
    "    \n",
    "    test_data = np.loadtxt(\"wang.csv\", delimiter=',', dtype=float)\n",
    "    test_feature = test_data[:, 0:x]\n",
    "    test_label = test_data[:, -1] \n",
    "\n",
    "    scaler = StandardScaler()\n",
    "    scaler.fit(train_feature)\n",
    "    train_feature = scaler.transform(train_feature)\n",
    "    test_feature = scaler.transform(test_feature)\n",
    "\n",
    "    grid = GridSearchCV(SVR(),tuned_parameters,cv=5,scoring='r2')\n",
    "    grid.fit(train_feature,train_label)\n",
    "    \n",
    "    clf = SVR(C=grid.best_params_['C'],kernel='rbf',gamma=grid.best_params_['gamma'],epsilon=0.1)\n",
    "    clf.fit(train_feature, train_label)\n",
    "    pred = clf.predict(test_feature)\n",
    "\n",
    "    R2 = r2_score(test_label,pred)\n",
    "    return R2"
   ]
  },
  {
   "cell_type": "code",
   "execution_count": 5,
   "metadata": {},
   "outputs": [
    {
     "data": {
      "text/plain": [
       "160"
      ]
     },
     "execution_count": 5,
     "metadata": {},
     "output_type": "execute_result"
    }
   ],
   "source": [
    "data = np.loadtxt(\"furukawa.csv\",delimiter=\",\",dtype=float)\n",
    "len(data[0])"
   ]
  },
  {
   "cell_type": "code",
   "execution_count": 6,
   "metadata": {},
   "outputs": [
    {
     "data": {
      "text/plain": [
       "[<matplotlib.lines.Line2D at 0x109f305c0>]"
      ]
     },
     "execution_count": 6,
     "metadata": {},
     "output_type": "execute_result"
    },
    {
     "data": {
      "image/png": "[encoded data removed]",
      "text/plain": [
       "<matplotlib.figure.Figure at 0x109e965c0>"
      ]
     },
     "metadata": {},
     "output_type": "display_data"
    }
   ],
   "source": [
    "left = np.zeros(31)\n",
    "height = np.zeros(31)\n",
    "for i in range(31):\n",
    "    left[i] = 5*(i+1)\n",
    "    height[i] = prediction(5*(i+1))\n",
    "plt.plot(left,height)"
   ]
  },
  {
   "cell_type": "code",
   "execution_count": 14,
   "metadata": {},
   "outputs": [
    {
     "data": {
      "text/plain": [
       "[<matplotlib.lines.Line2D at 0x10a02b748>]"
      ]
     },
     "execution_count": 14,
     "metadata": {},
     "output_type": "execute_result"
    },
    {
     "data": {
      "image/png": "[encoded data removed]",
      "text/plain": [
       "<matplotlib.figure.Figure at 0x109fd3208>"
      ]
     },
     "metadata": {},
     "output_type": "display_data"
    }
   ],
   "source": [
    "left = np.zeros(15)\n",
    "height = np.zeros(15)\n",
    "for i in range(15):\n",
    "    left[i] = i+1\n",
    "    height[i] = prediction(i+1)\n",
    "plt.plot(left,height)"
   ]
  },
  {
   "cell_type": "code",
   "execution_count": 16,
   "metadata": {},
   "outputs": [
    {
     "data": {
      "text/plain": [
       "array([ 1.,  2.,  3.,  4.,  5.,  6.,  7.,  8.,  9., 10., 11., 12., 13.,\n",
       "       14., 15.])"
      ]
     },
     "execution_count": 16,
     "metadata": {},
     "output_type": "execute_result"
    }
   ],
   "source": [
    "left"
   ]
  },
  {
   "cell_type": "code",
   "execution_count": 17,
   "metadata": {},
   "outputs": [
    {
     "data": {
      "text/plain": [
       "array([-0.00436937, -0.04559376, -0.59964179, -0.12500499, -0.07164937,\n",
       "        0.13858894,  0.21123391,  0.20615883,  0.2232639 ,  0.16322817,\n",
       "       -0.27138371, -0.55075781, -0.58732314, -0.1663736 , -0.40703055])"
      ]
     },
     "execution_count": 17,
     "metadata": {},
     "output_type": "execute_result"
    }
   ],
   "source": [
    "height"
   ]
  },
  {
   "cell_type": "code",
   "execution_count": null,
   "metadata": {},
   "outputs": [],
   "source": [
    "prediction(159)"
   ]
  },
  {
   "cell_type": "code",
   "execution_count": 9,
   "metadata": {},
   "outputs": [],
   "source": [
    "NumberofFeatures = np.array([  5.,  10.,  15.,  20.,  25.,  30.,  35.,  40.,  45.,  50.,  55.,\n",
    "        60.,  65.,  70.,  75.,  80.,  85.,  90.,  95., 100., 105., 110.,\n",
    "       115., 120., 125., 130., 135., 140., 145., 150., 155.])"
   ]
  },
  {
   "cell_type": "code",
   "execution_count": 13,
   "metadata": {},
   "outputs": [],
   "source": [
    "r2 = np.array([-0.07164937,  0.16322817, -0.40703055, -0.08489702, -0.12273891,\n",
    "       -0.10127881, -0.08600717, -0.15302995, -0.11596781, -0.0695881 ,\n",
    "       -0.05363594, -0.02789771, -0.03316923, -0.01586354, -0.00869883,\n",
    "       -0.12376416, -0.10553134, -0.15739528, -0.15112751, -0.11630588,\n",
    "       -0.10472976, -0.68552763, -0.55025879, -0.46889252, -0.31147915,\n",
    "       -0.27650684, -0.1446585 , -0.13938975, -0.13043116, -0.11668033,\n",
    "       -0.09842133])"
   ]
  },
  {
   "cell_type": "code",
   "execution_count": 20,
   "metadata": {},
   "outputs": [
    {
     "data": {
      "image/png": "[encoded data removed]",
      "text/plain": [
       "<matplotlib.figure.Figure at 0x10a5b4fd0>"
      ]
     },
     "metadata": {},
     "output_type": "display_data"
    }
   ],
   "source": [
    "plt.xlabel('Number of Features')\n",
    "plt.ylabel('$R^{2}$')\n",
    "plt.plot(NumberofFeatures,r2,c='red')\n",
    "\n",
    "plt.hlines([0.2], 0,160, linestyles='dotted')     \n",
    "plt.hlines([0.1], 0,160, linestyles='dotted')  \n",
    "plt.hlines([0.], 0,160, linestyles='dotted')     \n",
    "plt.hlines([-0.1], 0,160, linestyles='dotted')   \n",
    "plt.hlines([-0.2], 0,160, linestyles='dotted')     \n",
    "plt.hlines([-0.3], 0,160, linestyles='dotted')  \n",
    "plt.hlines([-0.4], 0,160, linestyles='dotted')   \n",
    "plt.hlines([-0.5], 0,160, linestyles='dotted')     \n",
    "plt.hlines([-0.6], 0,160, linestyles='dotted')\n",
    "plt.hlines([-0.7], 0,160, linestyles='dotted')   \n",
    "plt.show()"
   ]
  },
  {
   "cell_type": "code",
   "execution_count": null,
   "metadata": {},
   "outputs": [],
   "source": []
  }
 ],
 "metadata": {
  "kernelspec": {
   "display_name": "Python 3",
   "language": "python",
   "name": "python3"
  },
  "language_info": {
   "codemirror_mode": {
    "name": "ipython",
    "version": 3
   },
   "file_extension": ".py",
   "mimetype": "text/x-python",
   "name": "python",
   "nbconvert_exporter": "python",
   "pygments_lexer": "ipython3",
   "version": "3.6.4"
  }
 },
 "nbformat": 4,
 "nbformat_minor": 2
}
