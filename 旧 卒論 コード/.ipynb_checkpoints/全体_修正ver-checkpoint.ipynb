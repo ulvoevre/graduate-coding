{
 "cells": [
  {
   "cell_type": "code",
   "execution_count": 2,
   "metadata": {},
   "outputs": [
    {
     "name": "stderr",
     "output_type": "stream",
     "text": [
      "/Users/yamadayuuta/.pyenv/versions/anaconda3-5.1.0/lib/python3.6/site-packages/sklearn/cross_validation.py:41: DeprecationWarning: This module was deprecated in version 0.18 in favor of the model_selection module into which all the refactored classes and functions are moved. Also note that the interface of the new CV iterators are different from that of this module. This module will be removed in 0.20.\n",
      "  \"This module will be removed in 0.20.\", DeprecationWarning)\n",
      "/Users/yamadayuuta/.pyenv/versions/anaconda3-5.1.0/lib/python3.6/site-packages/sklearn/grid_search.py:42: DeprecationWarning: This module was deprecated in version 0.18 in favor of the model_selection module into which all the refactored classes and functions are moved. This module will be removed in 0.20.\n",
      "  DeprecationWarning)\n"
     ]
    }
   ],
   "source": [
    "import numpy as np\n",
    "from sklearn.svm import SVR\n",
    "from sklearn import preprocessing\n",
    "from sklearn.model_selection import train_test_split\n",
    "from sklearn.model_selection import KFold\n",
    "from sklearn.preprocessing import StandardScaler\n",
    "from sklearn.metrics import r2_score\n",
    "from sklearn.metrics import mean_squared_error\n",
    "from sklearn.grid_search import GridSearchCV\n",
    "import matplotlib.pyplot as plt\n",
    "from sklearn.ensemble import RandomForestRegressor\n",
    "from sklearn.datasets import make_regression\n",
    "import warnings\n",
    "warnings.filterwarnings('ignore')"
   ]
  },
  {
   "cell_type": "markdown",
   "metadata": {},
   "source": [
    "# 関数"
   ]
  },
  {
   "cell_type": "code",
   "execution_count": 3,
   "metadata": {},
   "outputs": [],
   "source": [
    "def r2_calc(x,y):\n",
    "    sum_1=0\n",
    "    sum_2=0\n",
    "    ave = np.sum(x)/len(x)\n",
    "    for i in range(0,len(x)):\n",
    "        sum_1 += (x[i]-y[i])**2\n",
    "        sum_2 += (x[i]-ave)**2\n",
    "    \n",
    "    return 1-sum_1/sum_2\n",
    "\n",
    "\n",
    "def r_calc(test,pred):\n",
    "    n=len(test)\n",
    "    ave_test = np.sum(test)/n\n",
    "    ave_pred = np.sum(pred)/n\n",
    "    a=0\n",
    "    b=0\n",
    "    c=0\n",
    "    for i in range(0,len(test)):\n",
    "        a += (test[i] - ave_test)*(pred[i] - ave_pred)\n",
    "        b += (test[i] - ave_test)**2\n",
    "        c += (pred[i] - ave_pred)**2\n",
    "    \n",
    "    a2 = a/n\n",
    "    b2 = (b/n)**0.5\n",
    "    c2 = (c/n)**0.5\n",
    "    return a2/(b2*c2)\n",
    "\n",
    "\n",
    "def feature_std_delite(x,out_index):  \n",
    "    new_index = np.array(range(len(x[0])))\n",
    "    index = np.array(range(len(x[0])-len(out_index)))\n",
    "    for i in range(0,len(out_index)):\n",
    "        new_index = np.delete(new_index, out_index[i]-i)\n",
    "   \n",
    "    new_x = np.zeros((len(x),len(x[0])-len(out_index)))\n",
    "    for k in range(0,len(new_x)):      \n",
    "        for i in range(0,len(new_x[0])):\n",
    "            new_x[k][index[i]] = x[k][new_index[i]]\n",
    "    return new_x \n",
    "\n",
    "\n",
    "def prediction(x):\n",
    "    tuned_parameters = [\n",
    "    {'C': [2**(-3), 2**(-2), 2**(-1), 1, 2, 2**2, 2**3, 2**4, 2**5, 2**6, 2**7, 2**8, 2**9, 2**10], 'kernel': ['linear']},\n",
    "    {'C': [2**(-3), 2**(-2), 2**(-1), 1, 2, 2**2, 2**3, 2**4, 2**5, 2**6, 2**7, 2**8, 2**9, 2**10], 'kernel': ['rbf'], 'gamma': [2**(-10), 2**(-9), 2**(-8), 2**(-7), 2**(-6), 2**(-5), 2**(-4), 2**(-3), 2**(-2), 2**(-1), 1 ]},\n",
    "    ]\n",
    "    \n",
    "    path = 'Folder/全体_交差検証_R2結果.csv'\n",
    "    \n",
    "    with open(path,mode='a') as f:\n",
    "        data = np.loadtxt(\"furukawa_全体_標準化なし_rank順_名前なし.csv\",delimiter=\",\",dtype=float)\n",
    "        feature = data[:,0:x]\n",
    "        label = data[:,-1]\n",
    "\n",
    "        scaler = StandardScaler()\n",
    "        scaler.fit(feature)\n",
    "        feature = scaler.transform(feature)\n",
    "\n",
    "        kf = KFold(n_splits = 5, shuffle = True)\n",
    "        count = 0\n",
    "        for train_index, test_index in kf.split(feature):\n",
    "            train_feature, train_label, test_feature, test_label = np.array(feature)[train_index], np.array(label)[train_index], np.array(feature)[test_index], np.array(label)[test_index]\n",
    "\n",
    "            grid = GridSearchCV(SVR(),tuned_parameters,cv=5,scoring='r2')\n",
    "            grid.fit(train_feature,train_label)\n",
    "\n",
    "            clf = SVR(C=grid.best_params_['C'],kernel='rbf',gamma=grid.best_params_['gamma'],epsilon=0.1)\n",
    "            clf.fit(train_feature, train_label)\n",
    "            pred = clf.predict(test_feature)\n",
    "\n",
    "            if(count==4):\n",
    "                f.write(str(r2_score(test_label,pred)))\n",
    "            else:\n",
    "                f.write(str(r2_score(test_label,pred)))\n",
    "                f.write(\",\")\n",
    "            count += 1\n",
    "        f.write(\"\\n\")\n",
    "    return "
   ]
  },
  {
   "cell_type": "code",
   "execution_count": 31,
   "metadata": {},
   "outputs": [],
   "source": [
    "for i in range(31):\n",
    "    prediction((i+1)*5)"
   ]
  },
  {
   "cell_type": "code",
   "execution_count": 39,
   "metadata": {},
   "outputs": [],
   "source": [
    "data = np.loadtxt(\"Folder/全体_交差検証_R2結果.csv\",delimiter=\",\",dtype=float)\n",
    "maxf= np.zeros(31)\n",
    "minf= np.zeros(31)\n",
    "avef = np.zeros(31)\n",
    "for i in range(31):\n",
    "    maxf[i] = max(data[i])\n",
    "    minf[i] = min(data[i])\n",
    "    avef[i] = sum(data[i])/5"
   ]
  },
  {
   "cell_type": "code",
   "execution_count": 38,
   "metadata": {},
   "outputs": [
    {
     "data": {
      "text/plain": [
       "array([  5,  10,  15,  20,  25,  30,  35,  40,  45,  50,  55,  60,  65,\n",
       "        70,  75,  80,  85,  90,  95, 100, 105, 110, 115, 120, 125, 130,\n",
       "       135, 140, 145, 150, 155])"
      ]
     },
     "execution_count": 38,
     "metadata": {},
     "output_type": "execute_result"
    }
   ],
   "source": [
    "num=np.array(range(5,160,5))\n",
    "num"
   ]
  },
  {
   "cell_type": "code",
   "execution_count": 42,
   "metadata": {},
   "outputs": [
    {
     "data": {
      "text/plain": [
       "array([0.70741889, 0.75680131, 0.77899502, 0.77298087, 0.78582445,\n",
       "       0.76475828, 0.78851499, 0.84588395, 0.84308162, 0.8002072 ,\n",
       "       0.81751548, 0.80928113, 0.79315991, 0.79700656, 0.77138556,\n",
       "       0.75637582, 0.79835084, 0.79266686, 0.78604145, 0.78509156,\n",
       "       0.79720195, 0.78004195, 0.7716783 , 0.79201722, 0.78828301,\n",
       "       0.75077719, 0.77249278, 0.78553013, 0.75408107, 0.77592215,\n",
       "       0.75591371])"
      ]
     },
     "execution_count": 42,
     "metadata": {},
     "output_type": "execute_result"
    }
   ],
   "source": [
    "avef"
   ]
  },
  {
   "cell_type": "code",
   "execution_count": 46,
   "metadata": {},
   "outputs": [
    {
     "data": {
      "text/plain": [
       "[<matplotlib.lines.Line2D at 0x10a810518>]"
      ]
     },
     "execution_count": 46,
     "metadata": {},
     "output_type": "execute_result"
    },
    {
     "data": {
      "image/png": "[encoded data removed]",
      "text/plain": [
       "<matplotlib.figure.Figure at 0x10a50a320>"
      ]
     },
     "metadata": {},
     "output_type": "display_data"
    }
   ],
   "source": [
    "plt.plot(num,maxf,c=\"r\")\n",
    "plt.plot(num,minf,c=\"y\")\n",
    "plt.plot(num,avef,c=\"b\")"
   ]
  },
  {
   "cell_type": "code",
   "execution_count": 49,
   "metadata": {},
   "outputs": [
    {
     "data": {
      "text/plain": [
       "array([0.76190513, 0.82127792, 0.85286833, 0.87211954, 0.83806666,\n",
       "       0.85907081, 0.8226527 , 0.88976756, 0.87553073, 0.88300248,\n",
       "       0.84488944, 0.84590643, 0.86991817, 0.86479718, 0.83473399,\n",
       "       0.85929435, 0.86168539, 0.88735068, 0.83837869, 0.81611782,\n",
       "       0.87041055, 0.8771391 , 0.82646325, 0.86348014, 0.80261376,\n",
       "       0.88000945, 0.81674764, 0.85790474, 0.79767086, 0.85778817,\n",
       "       0.85619576])"
      ]
     },
     "execution_count": 49,
     "metadata": {},
     "output_type": "execute_result"
    }
   ],
   "source": [
    "maxf"
   ]
  },
  {
   "cell_type": "markdown",
   "metadata": {},
   "source": [
    "# 特徴量のピークが分かったら, testデータに当ててみる."
   ]
  },
  {
   "cell_type": "markdown",
   "metadata": {},
   "source": [
    "# そのまま"
   ]
  },
  {
   "cell_type": "code",
   "execution_count": 48,
   "metadata": {},
   "outputs": [
    {
     "data": {
      "image/png": "[encoded data removed]",
      "text/plain": [
       "<matplotlib.figure.Figure at 0x10a51bb00>"
      ]
     },
     "metadata": {},
     "output_type": "display_data"
    },
    {
     "name": "stdout",
     "output_type": "stream",
     "text": [
      "パラメータ: rbf, C 4.000000, gamma 0.015625\n",
      "SVR: r2 -0.038924, RMSE 0.876451, r 0.036029\n"
     ]
    }
   ],
   "source": [
    "train_data = np.loadtxt(\"furukawa_全体_標準化なし_rank順_名前なし.csv\",delimiter=\",\",dtype=float)\n",
    "train_feature=train_data[:,0:60]\n",
    "train_label=train_data[:,-1]\n",
    "test_data = np.loadtxt('wang_全体_標準化なし_rank順_名前なし.csv', delimiter=',', dtype=float)\n",
    "test_feature = test_data[:, 0:60]\n",
    "test_label = test_data[:, -1] \n",
    "\n",
    "tuned_parameters = [\n",
    "    {'C': [2**(-3), 2**(-2), 2**(-1), 1, 2, 2**2, 2**3, 2**4, 2**5, 2**6, 2**7, 2**8, 2**9, 2**10], 'kernel': ['linear']},\n",
    "    {'C': [2**(-3), 2**(-2), 2**(-1), 1, 2, 2**2, 2**3, 2**4, 2**5, 2**6, 2**7, 2**8, 2**9, 2**10], 'kernel': ['rbf'], 'gamma': [2**(-10), 2**(-9), 2**(-8), 2**(-7), 2**(-6), 2**(-5), 2**(-4), 2**(-3), 2**(-2), 2**(-1), 1 ]},\n",
    "    ]\n",
    "\n",
    "scaler = StandardScaler()\n",
    "scaler.fit(train_feature)\n",
    "train_feature = scaler.transform(train_feature)\n",
    "test_feature = scaler.transform(test_feature)\n",
    "\n",
    "grid = GridSearchCV(SVR(),tuned_parameters,cv=5,scoring='r2')\n",
    "grid.fit(train_feature,train_label)\n",
    "\n",
    "clf = SVR(C=grid.best_params_['C'],kernel='rbf',gamma=grid.best_params_['gamma'],epsilon=0.1)\n",
    "clf.fit(train_feature, train_label)\n",
    "pred = clf.predict(test_feature)\n",
    "\n",
    "R2 = r2_score(test_label,pred)\n",
    "rmse = (mean_squared_error(test_label,pred))**0.5\n",
    "r = r_calc(test_label,pred)\n",
    "\n",
    "x = np.linspace(-9,-5)  \n",
    "y = x              \n",
    "plt.plot(x,y)      \n",
    "\n",
    "y1 = pred\n",
    "y2 = test_label\n",
    "plt.scatter(y1,y2)\n",
    "\n",
    "plt.ylabel('obserbed LogPapp')\n",
    "plt.xlabel('predicted LogPapp')\n",
    "plt.show()\n",
    "print(\"パラメータ: rbf, C %f, gamma %f\" % (grid.best_params_['C'],grid.best_params_['gamma']))\n",
    "print (\"SVR: r2 %f, RMSE %f, r %f\" % (R2, rmse, r))"
   ]
  },
  {
   "cell_type": "markdown",
   "metadata": {},
   "source": [
    "max,aveを取るとき　特徴量 40個 パラメータ: rbf, C 4.000000, gamma 0.015625\n",
    "SVR: r2 -0.097204, RMSE 0.900699, r 0.063035"
   ]
  },
  {
   "cell_type": "markdown",
   "metadata": {},
   "source": [
    "minを取るとき　特徴量60個　パラメータ: rbf, C 4.000000, gamma 0.015625\n",
    "SVR: r2 -0.038924, RMSE 0.876451, r 0.036029"
   ]
  },
  {
   "cell_type": "code",
   "execution_count": 52,
   "metadata": {},
   "outputs": [],
   "source": [
    "disp=np.zeros(159)\n",
    "for i in range(159):\n",
    "    a=0\n",
    "    ave = sum(test_data[:,i])/len(test_data)\n",
    "    for j in range(len(test_data)):\n",
    "        a += (ave-test_data[j][i])**2\n",
    "    disp[i] = a"
   ]
  },
  {
   "cell_type": "code",
   "execution_count": 53,
   "metadata": {},
   "outputs": [
    {
     "name": "stdout",
     "output_type": "stream",
     "text": [
      "106\n",
      "150\n",
      "156\n",
      "157\n",
      "158\n"
     ]
    }
   ],
   "source": [
    "for i in range(159):\n",
    "    if(disp[i]==0):\n",
    "        print(i)"
   ]
  },
  {
   "cell_type": "code",
   "execution_count": 30,
   "metadata": {},
   "outputs": [],
   "source": [
    "train_data = np.loadtxt(\"furukawa_全体_標準化なし_rank順_名前なし.csv\",delimiter=\",\",dtype=float)\n",
    "train_feature=train_data[:,0:159]\n",
    "train_label=train_data[:,-1]\n",
    "test_data = np.loadtxt('wang_全体_標準化なし_rank順_名前なし.csv', delimiter=',', dtype=float)\n",
    "test_feature = test_data[:, 0:159]\n",
    "test_label = test_data[:, -1] \n",
    "\n",
    "scaler = StandardScaler()\n",
    "scaler.fit(train_feature)\n",
    "train_feature = scaler.transform(train_feature)\n",
    "test_feature = scaler.transform(test_feature)"
   ]
  },
  {
   "cell_type": "code",
   "execution_count": 34,
   "metadata": {},
   "outputs": [],
   "source": [
    "def pri(x):\n",
    "    print(train_feature[0:10,x])\n",
    "    print(test_feature[0:10,x])\n",
    "    return "
   ]
  },
  {
   "cell_type": "markdown",
   "metadata": {},
   "source": [
    "# 標準偏差除去"
   ]
  },
  {
   "cell_type": "code",
   "execution_count": 6,
   "metadata": {},
   "outputs": [],
   "source": [
    "data = np.loadtxt(\"Folder/全体_標準偏差抜いたやーつ.csv\",delimiter=\",\",dtype=float)\n",
    "maxfe= np.zeros(30)\n",
    "minfe= np.zeros(30)\n",
    "avefe = np.zeros(30)\n",
    "for i in range(30):\n",
    "    maxfe[i] = max(data[i])\n",
    "    minfe[i] = min(data[i])\n",
    "    avefe[i] = sum(data[i])/5"
   ]
  },
  {
   "cell_type": "code",
   "execution_count": 9,
   "metadata": {},
   "outputs": [
    {
     "data": {
      "text/plain": [
       "[<matplotlib.lines.Line2D at 0x1073defd0>]"
      ]
     },
     "execution_count": 9,
     "metadata": {},
     "output_type": "execute_result"
    },
    {
     "data": {
      "image/png": "[encoded data removed]",
      "text/plain": [
       "<matplotlib.figure.Figure at 0x1073d22b0>"
      ]
     },
     "metadata": {},
     "output_type": "display_data"
    }
   ],
   "source": [
    "num=np.array(range(5,155,5))\n",
    "plt.plot(num,maxfe,c=\"r\")\n",
    "plt.plot(num,minfe,c=\"y\")\n",
    "plt.plot(num,avefe,c=\"b\")"
   ]
  },
  {
   "cell_type": "code",
   "execution_count": 15,
   "metadata": {},
   "outputs": [
    {
     "data": {
      "image/png": "[encoded data removed]",
      "text/plain": [
       "<matplotlib.figure.Figure at 0x10cf58fd0>"
      ]
     },
     "metadata": {},
     "output_type": "display_data"
    },
    {
     "name": "stdout",
     "output_type": "stream",
     "text": [
      "パラメータ: rbf, C 4.000000, gamma 0.015625\n",
      "SVR: r2 0.306372, RMSE 0.716142, r 0.743301\n"
     ]
    }
   ],
   "source": [
    "train_data = np.loadtxt(\"furukawa_全体_標準偏差_rank_名前なし.csv\",delimiter=\",\",dtype=float)\n",
    "train_feature=train_data[:,0:35]\n",
    "train_label=train_data[:,-1]\n",
    "test_data = np.loadtxt('wang_全体_標準偏差_rank_名前なし.csv', delimiter=',', dtype=float)\n",
    "test_feature = test_data[:, 0:35]\n",
    "test_label = test_data[:, -1] \n",
    "\n",
    "tuned_parameters = [\n",
    "    {'C': [2**(-3), 2**(-2), 2**(-1), 1, 2, 2**2, 2**3, 2**4, 2**5, 2**6, 2**7, 2**8, 2**9, 2**10], 'kernel': ['linear']},\n",
    "    {'C': [2**(-3), 2**(-2), 2**(-1), 1, 2, 2**2, 2**3, 2**4, 2**5, 2**6, 2**7, 2**8, 2**9, 2**10], 'kernel': ['rbf'], 'gamma': [2**(-10), 2**(-9), 2**(-8), 2**(-7), 2**(-6), 2**(-5), 2**(-4), 2**(-3), 2**(-2), 2**(-1), 1 ]},\n",
    "    ]\n",
    "\n",
    "scaler = StandardScaler()\n",
    "scaler.fit(train_feature)\n",
    "train_feature = scaler.transform(train_feature)\n",
    "test_feature = scaler.transform(test_feature)\n",
    "\n",
    "grid = GridSearchCV(SVR(),tuned_parameters,cv=5,scoring='r2')\n",
    "grid.fit(train_feature,train_label)\n",
    "\n",
    "clf = SVR(C=grid.best_params_['C'],kernel='rbf',gamma=grid.best_params_['gamma'],epsilon=0.1)\n",
    "clf.fit(train_feature, train_label)\n",
    "pred = clf.predict(test_feature)\n",
    "\n",
    "R2 = r2_score(test_label,pred)\n",
    "rmse = (mean_squared_error(test_label,pred))**0.5\n",
    "r = r_calc(test_label,pred)\n",
    "\n",
    "x = np.linspace(-9,-5)  \n",
    "y = x              \n",
    "plt.plot(x,y)      \n",
    "\n",
    "y1 = pred\n",
    "y2 = test_label\n",
    "plt.scatter(y1,y2)\n",
    "\n",
    "plt.ylabel('obserbed LogPapp')\n",
    "plt.xlabel('predicted LogPapp')\n",
    "plt.show()\n",
    "print(\"パラメータ: rbf, C %f, gamma %f\" % (grid.best_params_['C'],grid.best_params_['gamma']))\n",
    "print (\"SVR: r2 %f, RMSE %f, r %f\" % (R2, rmse, r))"
   ]
  },
  {
   "cell_type": "markdown",
   "metadata": {},
   "source": [
    "max 特徴量 50個　パラメータ: rbf, C 4.000000, gamma 0.015625\n",
    "SVR: r2 0.331938, RMSE 0.702820, r 0.623519"
   ]
  },
  {
   "cell_type": "markdown",
   "metadata": {},
   "source": [
    "min 特徴量 70個　パラメータ: rbf, C 4.000000, gamma 0.007812\n",
    "SVR: r2 0.367941, RMSE 0.683620, r 0.710154"
   ]
  },
  {
   "cell_type": "markdown",
   "metadata": {},
   "source": [
    "ave 特徴量 35個　　パラメータ: rbf, C 4.000000, gamma 0.015625\n",
    "SVR: r2 0.306372, RMSE 0.716142, r 0.743301"
   ]
  },
  {
   "cell_type": "code",
   "execution_count": null,
   "metadata": {},
   "outputs": [],
   "source": []
  }
 ],
 "metadata": {
  "kernelspec": {
   "display_name": "Python 3",
   "language": "python",
   "name": "python3"
  },
  "language_info": {
   "codemirror_mode": {
    "name": "ipython",
    "version": 3
   },
   "file_extension": ".py",
   "mimetype": "text/x-python",
   "name": "python",
   "nbconvert_exporter": "python",
   "pygments_lexer": "ipython3",
   "version": "3.6.4"
  }
 },
 "nbformat": 4,
 "nbformat_minor": 2
}
