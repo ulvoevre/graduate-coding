{
 "cells": [
  {
   "cell_type": "code",
   "execution_count": 1,
   "metadata": {},
   "outputs": [
    {
     "name": "stderr",
     "output_type": "stream",
     "text": [
      "/Users/yamadayuuta/.pyenv/versions/anaconda3-5.1.0/lib/python3.6/site-packages/sklearn/cross_validation.py:41: DeprecationWarning: This module was deprecated in version 0.18 in favor of the model_selection module into which all the refactored classes and functions are moved. Also note that the interface of the new CV iterators are different from that of this module. This module will be removed in 0.20.\n",
      "  \"This module will be removed in 0.20.\", DeprecationWarning)\n",
      "/Users/yamadayuuta/.pyenv/versions/anaconda3-5.1.0/lib/python3.6/site-packages/sklearn/grid_search.py:42: DeprecationWarning: This module was deprecated in version 0.18 in favor of the model_selection module into which all the refactored classes and functions are moved. This module will be removed in 0.20.\n",
      "  DeprecationWarning)\n"
     ]
    }
   ],
   "source": [
    "import numpy as np\n",
    "from sklearn.svm import SVR\n",
    "from sklearn import preprocessing\n",
    "from sklearn.model_selection import train_test_split\n",
    "from sklearn.model_selection import KFold\n",
    "from sklearn.preprocessing import StandardScaler\n",
    "from sklearn.metrics import r2_score\n",
    "from sklearn.metrics import mean_squared_error\n",
    "from sklearn.grid_search import GridSearchCV\n",
    "import matplotlib.pyplot as plt\n",
    "from sklearn.ensemble import RandomForestRegressor\n",
    "from sklearn.datasets import make_regression\n",
    "import warnings\n",
    "warnings.filterwarnings('ignore')"
   ]
  },
  {
   "cell_type": "markdown",
   "metadata": {},
   "source": [
    "# 関数"
   ]
  },
  {
   "cell_type": "code",
   "execution_count": 2,
   "metadata": {},
   "outputs": [],
   "source": [
    "#決定係数R2スコアを求める関数\n",
    "def r2_calc(x,y):\n",
    "    sum_1=0\n",
    "    sum_2=0\n",
    "    ave = np.sum(x)/len(x)\n",
    "    for i in range(0,len(x)):\n",
    "        sum_1 += (x[i]-y[i])**2\n",
    "        sum_2 += (x[i]-ave)**2\n",
    "    \n",
    "    return 1-sum_1/sum_2"
   ]
  },
  {
   "cell_type": "code",
   "execution_count": 3,
   "metadata": {},
   "outputs": [],
   "source": [
    "def r_calc(test,pred):\n",
    "    n=len(test)\n",
    "    ave_test = np.sum(test)/n\n",
    "    ave_pred = np.sum(pred)/n\n",
    "    a=0\n",
    "    b=0\n",
    "    c=0\n",
    "    for i in range(0,len(test)):\n",
    "        a += (test[i] - ave_test)*(pred[i] - ave_pred)\n",
    "        b += (test[i] - ave_test)**2\n",
    "        c += (pred[i] - ave_pred)**2\n",
    "    \n",
    "    a2 = a/n\n",
    "    b2 = (b/n)**0.5\n",
    "    c2 = (c/n)**0.5\n",
    "    return a2/(b2*c2)"
   ]
  },
  {
   "cell_type": "code",
   "execution_count": 4,
   "metadata": {},
   "outputs": [],
   "source": [
    "def feature_std_delite(x,out_index):  \n",
    "    new_index = np.array(range(len(x[0])))\n",
    "    index = np.array(range(len(x[0])-len(out_index)))\n",
    "    for i in range(0,len(out_index)):\n",
    "        new_index = np.delete(new_index, out_index[i]-i)\n",
    "   \n",
    "    new_x = np.zeros((len(x),len(x[0])-len(out_index)))\n",
    "    for k in range(0,len(new_x)):      \n",
    "        for i in range(0,len(new_x[0])):\n",
    "            new_x[k][index[i]] = x[k][new_index[i]]\n",
    "    return new_x "
   ]
  },
  {
   "cell_type": "code",
   "execution_count": 5,
   "metadata": {},
   "outputs": [],
   "source": [
    "def feature_select1(x):\n",
    "    out_index=[] \n",
    "    for i in range(0,len(x[0])):\n",
    "        flag=0\n",
    "        value = x[0][i]\n",
    "        for j in range(0,len(x)):\n",
    "            if(value == x[j][i]):\n",
    "                value = x[j][i]                \n",
    "            else:\n",
    "                if(flag!=1):\n",
    "                    flag=1\n",
    "        if(flag!=1):\n",
    "            out_index.append(i)\n",
    "        \n",
    "    new_index = np.array(range(len(x[0])))\n",
    "    index = np.array(range(len(x[0])-len(out_index)))\n",
    "    for i in range(0,len(out_index)):\n",
    "        new_index = np.delete(new_index, out_index[i]-i)\n",
    "   \n",
    "    new_x = np.zeros((len(x),len(x[0])-len(out_index)))\n",
    "    for k in range(0,len(new_x)):      \n",
    "        for i in range(0,len(new_x[0])):\n",
    "            new_x[k][index[i]] = x[k][new_index[i]]\n",
    "    return new_x ,out_index"
   ]
  },
  {
   "cell_type": "code",
   "execution_count": 6,
   "metadata": {},
   "outputs": [],
   "source": [
    "def feature_select2(x,y):\n",
    "    out_index=[] \n",
    "    for i in range(0,len(x[0])):\n",
    "        flag=0\n",
    "        value = x[0][i]\n",
    "        for j in range(0,len(x)):\n",
    "            if(value == x[j][i]):\n",
    "                value = x[j][i]                \n",
    "            else:\n",
    "                if(flag!=1):\n",
    "                    flag=1\n",
    "        if(flag!=1):\n",
    "            out_index.append(i)\n",
    "        \n",
    "    new_index = np.array(range(len(x[0])))\n",
    "    index = np.array(range(len(x[0])-len(out_index)))\n",
    "    for i in range(0,len(out_index)):\n",
    "        new_index = np.delete(new_index, out_index[i]-i)\n",
    "   \n",
    "    new_x = np.zeros((len(x),len(x[0])-len(out_index)))\n",
    "    new_y = np.zeros((len(y),len(y[0])-len(out_index)))\n",
    "    for k in range(0,len(new_x)):\n",
    "        if(k<len(new_y)):\n",
    "            for i in range(0,len(new_y[0])):\n",
    "                new_x[k][index[i]] = x[k][new_index[i]]\n",
    "                new_y[k][index[i]] = y[k][new_index[i]]\n",
    "        else:        \n",
    "            for i in range(0,len(new_x[0])):\n",
    "                new_x[k][index[i]] = x[k][new_index[i]]\n",
    "    return new_x,new_y   "
   ]
  },
  {
   "cell_type": "code",
   "execution_count": 7,
   "metadata": {},
   "outputs": [],
   "source": [
    "def rank_backsort(x):\n",
    "    y = np.sort(x)\n",
    "    y = y[::-1]\n",
    "    z = np.zeros(len(x))\n",
    "    \n",
    "    for i in range(0,len(x)):\n",
    "        for j in range(0,len(y)):\n",
    "            if(x[i] == y[j]):\n",
    "                z[i] = j+1\n",
    "                break\n",
    "    return z"
   ]
  },
  {
   "cell_type": "code",
   "execution_count": 8,
   "metadata": {},
   "outputs": [],
   "source": [
    "def rank_indent(x):\n",
    "    lst=[]\n",
    "    for i in range(1,11):\n",
    "        for j in range(0,len(x)):\n",
    "            if(i == x[j]):\n",
    "                lst.append(j)\n",
    "    return lst"
   ]
  },
  {
   "cell_type": "code",
   "execution_count": 9,
   "metadata": {},
   "outputs": [],
   "source": [
    "def nfeature(x,oi):\n",
    "    new_index = np.array(range(len(x)))\n",
    "    for i in range(0,len(oi)):\n",
    "        new_index = np.delete(new_index, oi[i]-i)\n",
    "   \n",
    "    new_x = []\n",
    "    for i in range(0,len(new_index)):      \n",
    "        new_x.append(x[new_index[i]])\n",
    "    return new_x"
   ]
  },
  {
   "cell_type": "code",
   "execution_count": 91,
   "metadata": {},
   "outputs": [],
   "source": [
    "def prediction(x):\n",
    "    tuned_parameters = [\n",
    "    {'C': [2**(-3), 2**(-2), 2**(-1), 1, 2, 2**2, 2**3, 2**4, 2**5, 2**6, 2**7, 2**8, 2**9, 2**10], 'kernel': ['linear']},\n",
    "    {'C': [2**(-3), 2**(-2), 2**(-1), 1, 2, 2**2, 2**3, 2**4, 2**5, 2**6, 2**7, 2**8, 2**9, 2**10], 'kernel': ['rbf'], 'gamma': [2**(-10), 2**(-9), 2**(-8), 2**(-7), 2**(-6), 2**(-5), 2**(-4), 2**(-3), 2**(-2), 2**(-1), 1 ]},\n",
    "    ]\n",
    "    \n",
    "    train_data = np.loadtxt(\"furukawa_全体_標準化なし_rank順_名前なし.csv\",delimiter=\",\",dtype=float)\n",
    "    train_feature=train_data[:,0:x]\n",
    "    train_label=train_data[:,-1]\n",
    "    \n",
    "    test_data = np.loadtxt('wang_全体_標準化なし_rank順_名前なし.csv', delimiter=',', dtype=float)\n",
    "    test_feature = test_data[:, 0:x]\n",
    "    test_label = test_data[:, -1] \n",
    "\n",
    "    scaler = StandardScaler()\n",
    "    scaler.fit(train_feature)\n",
    "    train_feature = scaler.transform(train_feature)\n",
    "    test_feature = scaler.transform(test_feature)\n",
    "\n",
    "    grid = GridSearchCV(SVR(),tuned_parameters,cv=5,scoring='r2')\n",
    "    grid.fit(train_feature,train_label)\n",
    "    \n",
    "    clf = SVR(C=grid.best_params_['C'],kernel='rbf',gamma=grid.best_params_['gamma'],epsilon=0.1)\n",
    "    clf.fit(train_feature, train_label)\n",
    "    pred = clf.predict(test_feature)\n",
    "\n",
    "    R2 = r2_score(test_label,pred)\n",
    "    return R2"
   ]
  },
  {
   "cell_type": "markdown",
   "metadata": {},
   "source": [
    "# パラメータ定義"
   ]
  },
  {
   "cell_type": "code",
   "execution_count": 22,
   "metadata": {},
   "outputs": [],
   "source": [
    "tuned_parameters = [\n",
    "    {'C': [2**(-3), 2**(-2), 2**(-1), 1, 2, 2**2, 2**3, 2**4, 2**5, 2**6, 2**7, 2**8, 2**9, 2**10], 'kernel': ['linear']},\n",
    "    {'C': [2**(-3), 2**(-2), 2**(-1), 1, 2, 2**2, 2**3, 2**4, 2**5, 2**6, 2**7, 2**8, 2**9, 2**10], 'kernel': ['rbf'], 'gamma': [2**(-10), 2**(-9), 2**(-8), 2**(-7), 2**(-6), 2**(-5), 2**(-4), 2**(-3), 2**(-2), 2**(-1), 1 ]},\n",
    "    ]"
   ]
  },
  {
   "cell_type": "markdown",
   "metadata": {},
   "source": [
    "# 分散0を除去"
   ]
  },
  {
   "cell_type": "code",
   "execution_count": 57,
   "metadata": {},
   "outputs": [],
   "source": [
    "data = np.loadtxt('furukawa_全体206次元_名前なし.csv', delimiter=',', dtype=float)\n",
    "feature = data[:,0:206]\n",
    "train_label = data[:,-1]\n",
    "out_index=[]\n",
    "train_feature,out_index = feature_select1(feature)"
   ]
  },
  {
   "cell_type": "code",
   "execution_count": 58,
   "metadata": {},
   "outputs": [],
   "source": [
    "file = open(\"furukawa_全体159次元_分散0除去_名前付き.csv\",\"w\")\n",
    "name = np.loadtxt(\"特徴量_名前一覧.csv\",delimiter=\",\",dtype=str)\n",
    "#分散0をここで除去\n",
    "an_feature = nfeature(name,out_index)\n",
    "\n",
    "for i in range(0,len(an_feature)):\n",
    "    file.write(an_feature[i])\n",
    "    file.write(\",\")\n",
    "file.write(\"logPapp\\n\")\n",
    "a = 0\n",
    "for i in range(0,393):\n",
    "    for j in range(0,len(an_feature)):\n",
    "        file.write(str(train_feature[i][j]))\n",
    "        file.write(\",\")\n",
    "    file.write(str(train_label[i]))\n",
    "    file.write(\"\\n\")\n",
    "file.close()"
   ]
  },
  {
   "cell_type": "code",
   "execution_count": 60,
   "metadata": {},
   "outputs": [],
   "source": [
    "data = np.loadtxt(\"wang_全体206次元_名前なし.csv\",delimiter=\",\",dtype=float)\n",
    "test_feature = data[:,0:206]\n",
    "test_label = data[:,-1]\n",
    "\n",
    "test_feature = feature_std_delite(test_feature,out_index)\n",
    "\n",
    "file = open(\"wang_全体159次元_分散0除去_名前付き.csv\",\"w\")\n",
    "\n",
    "for i in range(0,len(an_feature)):\n",
    "    file.write(an_feature[i])\n",
    "    file.write(\",\")\n",
    "file.write(\"logPapp\\n\")\n",
    "\n",
    "for i in range(0,54):\n",
    "    for j in range(0,len(an_feature)):\n",
    "        file.write(str(test_feature[i][j]))\n",
    "        file.write(\",\")\n",
    "    file.write(str(test_label[i]))\n",
    "    file.write(\"\\n\")\n",
    "file.close()"
   ]
  },
  {
   "cell_type": "markdown",
   "metadata": {},
   "source": [
    "# ランダムフォレストで特徴量を選択\n",
    "標準化しないよ"
   ]
  },
  {
   "cell_type": "code",
   "execution_count": 15,
   "metadata": {},
   "outputs": [],
   "source": [
    "from sklearn.grid_search import GridSearchCV\n",
    "tuned_parameters = {'n_estimators'  : [10, 100, 1000, 10000], 'max_features' : ['auto','sqrt','log2']}"
   ]
  },
  {
   "cell_type": "code",
   "execution_count": 16,
   "metadata": {},
   "outputs": [
    {
     "name": "stdout",
     "output_type": "stream",
     "text": [
      "{'max_features': 'auto', 'n_estimators': 100}\n"
     ]
    }
   ],
   "source": [
    "data = np.loadtxt('furukawa_全体159次元_分散0除去_名前なし.csv', delimiter=',', dtype=float)\n",
    "train_feature = data[:,0:159]\n",
    "train_label = data[:,-1]\n",
    "\n",
    "grid = GridSearchCV(RandomForestRegressor(),tuned_parameters,cv=5,scoring='r2') # モデルの評価関数の指定\n",
    "grid.fit(train_feature,train_label)\n",
    "print(grid.best_params_)"
   ]
  },
  {
   "cell_type": "code",
   "execution_count": 18,
   "metadata": {},
   "outputs": [],
   "source": [
    "data = np.loadtxt('furukawa_全体159次元_分散0除去_名前なし.csv', delimiter=',', dtype=float)\n",
    "\n",
    "feature = data[:,0:159]\n",
    "label = data[:,-1]\n",
    "\n",
    "importance=np.zeros(159)\n",
    "regr = RandomForestRegressor(n_estimators=100,max_features='auto')\n",
    "kf = KFold(n_splits = 5, shuffle = True)\n",
    "for train_index, test_index in kf.split(feature):\n",
    "    train_feature, train_label, test_feature, test_label = np.array(feature)[train_index], np.array(label)[train_index], np.array(feature)[test_index], np.array(label)[test_index]\n",
    "    regr.fit(train_feature,train_label)\n",
    "    importance += regr.feature_importances_"
   ]
  },
  {
   "cell_type": "code",
   "execution_count": 19,
   "metadata": {},
   "outputs": [],
   "source": [
    "rank_index = rank_backsort(importance)"
   ]
  },
  {
   "cell_type": "code",
   "execution_count": 62,
   "metadata": {},
   "outputs": [],
   "source": [
    "file=open(\"furukawa_全体_標準化なし_rank順_名前付き.csv\",\"w\")\n",
    "data = np.loadtxt('furukawa_全体159次元_分散0除去_名前付き.csv', delimiter=',', dtype=str)\n",
    "feature=data[:,0:160]\n",
    "label = data[:,-1]\n",
    "\n",
    "for i in range(394):\n",
    "    for j in range(1,160):\n",
    "            for k in range(159):\n",
    "                if(j==rank_index[k]):\n",
    "                    file.write(feature[i][k])\n",
    "                    file.write(\",\")\n",
    "    file.write(label[i])\n",
    "    file.write(\"\\n\")\n",
    "file.close()"
   ]
  },
  {
   "cell_type": "code",
   "execution_count": 63,
   "metadata": {},
   "outputs": [],
   "source": [
    "file=open(\"wang_全体_標準化なし_rank順_名前付き.csv\",\"w\")\n",
    "data = np.loadtxt('wang_全体159次元_分散0除去_名前付き.csv', delimiter=',', dtype=str)\n",
    "feature=data[:,0:160]\n",
    "label = data[:,-1]\n",
    "\n",
    "for i in range(55):\n",
    "    for j in range(1,160):\n",
    "            for k in range(159):\n",
    "                if(j==rank_index[k]):\n",
    "                    file.write(feature[i][k])\n",
    "                    file.write(\",\")\n",
    "    file.write(label[i])\n",
    "    file.write(\"\\n\")\n",
    "file.close()"
   ]
  },
  {
   "cell_type": "markdown",
   "metadata": {},
   "source": [
    "# パラメータ"
   ]
  },
  {
   "cell_type": "code",
   "execution_count": 23,
   "metadata": {},
   "outputs": [],
   "source": [
    "tuned_parameters = [\n",
    "    {'C': [2**(-3), 2**(-2), 2**(-1), 1, 2, 2**2, 2**3, 2**4, 2**5, 2**6, 2**7, 2**8, 2**9, 2**10], 'kernel': ['linear']},\n",
    "    {'C': [2**(-3), 2**(-2), 2**(-1), 1, 2, 2**2, 2**3, 2**4, 2**5, 2**6, 2**7, 2**8, 2**9, 2**10], 'kernel': ['rbf'], 'gamma': [2**(-10), 2**(-9), 2**(-8), 2**(-7), 2**(-6), 2**(-5), 2**(-4), 2**(-3), 2**(-2), 2**(-1), 1 ]},\n",
    "    ]"
   ]
  },
  {
   "cell_type": "markdown",
   "metadata": {},
   "source": [
    "# 上位5個"
   ]
  },
  {
   "cell_type": "code",
   "execution_count": 93,
   "metadata": {},
   "outputs": [],
   "source": [
    "train_data = np.loadtxt(\"furukawa_全体_標準化なし_rank順_名前なし.csv\",delimiter=\",\",dtype=float)\n",
    "train_feature=train_data[:,0:5]\n",
    "train_label=train_data[:,-1]"
   ]
  },
  {
   "cell_type": "code",
   "execution_count": 94,
   "metadata": {},
   "outputs": [],
   "source": [
    "scaler = StandardScaler()\n",
    "scaler.fit(train_feature)\n",
    "train_feature = scaler.transform(train_feature)"
   ]
  },
  {
   "cell_type": "code",
   "execution_count": 95,
   "metadata": {},
   "outputs": [
    {
     "name": "stdout",
     "output_type": "stream",
     "text": [
      "{'C': 1, 'gamma': 0.0625, 'kernel': 'rbf'}\n"
     ]
    }
   ],
   "source": [
    "grid = GridSearchCV(SVR(),tuned_parameters,cv=5,scoring='r2')\n",
    "grid.fit(train_feature,train_label)\n",
    "print(grid.best_params_)"
   ]
  },
  {
   "cell_type": "code",
   "execution_count": 96,
   "metadata": {},
   "outputs": [],
   "source": [
    "test_data = np.loadtxt('wang_全体_標準化なし_rank順_名前なし.csv', delimiter=',', dtype=float)\n",
    "test_feature = test_data[:, 0:5]\n",
    "test_label = test_data[:, -1]\n",
    "test_feature = scaler.transform(test_feature)"
   ]
  },
  {
   "cell_type": "code",
   "execution_count": 97,
   "metadata": {},
   "outputs": [],
   "source": [
    "clf = SVR(C=1,kernel='rbf',gamma=0.0625,epsilon=0.1)\n",
    "clf.fit(train_feature, train_label)\n",
    "pred = clf.predict(test_feature)"
   ]
  },
  {
   "cell_type": "code",
   "execution_count": 98,
   "metadata": {},
   "outputs": [],
   "source": [
    "R2 = r2_score(test_label,pred)\n",
    "rmse = (mean_squared_error(test_label,pred))**0.5\n",
    "r = r_calc(test_label,pred)"
   ]
  },
  {
   "cell_type": "code",
   "execution_count": 99,
   "metadata": {},
   "outputs": [
    {
     "data": {
      "image/png": "[encoded data removed]",
      "text/plain": [
       "<matplotlib.figure.Figure at 0x1a0d5f6588>"
      ]
     },
     "metadata": {},
     "output_type": "display_data"
    },
    {
     "name": "stdout",
     "output_type": "stream",
     "text": [
      "SVR: r2 0.305861, RMSE 0.716406, r 0.796296\n"
     ]
    }
   ],
   "source": [
    "x = np.linspace(-9,-5)  \n",
    "y = x              \n",
    "plt.plot(x,y)      \n",
    "\n",
    "y1 = pred\n",
    "y2 = test_label\n",
    "plt.scatter(y1,y2)\n",
    "\n",
    "plt.ylabel('obserbed LogPapp')\n",
    "plt.xlabel('predicted LogPapp')\n",
    "plt.show()\n",
    "print (\"SVR: r2 %f, RMSE %f, r %f\" % (R2, rmse, r))"
   ]
  },
  {
   "cell_type": "code",
   "execution_count": 84,
   "metadata": {},
   "outputs": [
    {
     "name": "stdout",
     "output_type": "stream",
     "text": [
      "****\n",
      "****\n",
      "****\n",
      "****\n",
      "****\n",
      "****\n",
      "****\n",
      "****\n",
      "****\n",
      "****\n"
     ]
    }
   ],
   "source": [
    "train_data = np.loadtxt(\"furukawa_全体_標準化なし_rank順_名前なし.csv\",delimiter=\",\",dtype=float)\n",
    "train=train_data[:,0:159]\n",
    "\n",
    "test_data = np.loadtxt('wang_全体_標準化なし_rank順_名前なし.csv', delimiter=',', dtype=float)\n",
    "test = test_data[:,0:159]\n",
    "\n",
    "scaler = StandardScaler()\n",
    "scaler.fit(train)\n",
    "train = scaler.transform(train)\n",
    "test = scaler.transform(test)\n",
    "\n",
    "for i in range(159):\n",
    "    if(test[0][i]>3 or test[0][i] < -3):\n",
    "        print(\"****\")"
   ]
  },
  {
   "cell_type": "markdown",
   "metadata": {},
   "source": [
    "# 特徴量からtestで分散0を除き、標準化したとき3~-3から外れるものを除去"
   ]
  },
  {
   "cell_type": "code",
   "execution_count": 13,
   "metadata": {},
   "outputs": [
    {
     "data": {
      "text/plain": [
       "-10.985962231013671"
      ]
     },
     "execution_count": 13,
     "metadata": {},
     "output_type": "execute_result"
    }
   ],
   "source": [
    "train_data = np.loadtxt(\"furukawa_全体_標準化なし_rank順_名前なし.csv\",delimiter=\",\",dtype=float)\n",
    "train=train_data[:,0:159]\n",
    "test_data = np.loadtxt('wang_全体_標準化なし_rank順_名前なし.csv', delimiter=',', dtype=float)\n",
    "test = test_data[:,0:159]\n",
    "scaler = StandardScaler()\n",
    "scaler.fit(train)\n",
    "test = scaler.transform(test)\n",
    "test[0][10]"
   ]
  },
  {
   "cell_type": "code",
   "execution_count": 7,
   "metadata": {},
   "outputs": [
    {
     "data": {
      "text/plain": [
       "'GCUT_SMR_0'"
      ]
     },
     "execution_count": 7,
     "metadata": {},
     "output_type": "execute_result"
    }
   ],
   "source": [
    "train_data = np.loadtxt(\"furukawa_全体_標準化なし_rank順_名前付き.csv\",delimiter=\",\",dtype=str)\n",
    "train=train_data[:,0:159]\n",
    "scaler = StandardScaler()\n",
    "scaler.fit(train)\n",
    "train = scaler.transform(train)\n",
    "\n",
    "train[0][10]"
   ]
  },
  {
   "cell_type": "code",
   "execution_count": 65,
   "metadata": {},
   "outputs": [],
   "source": [
    "train_data = np.loadtxt(\"furukawa_全体_標準化なし_rank順_名前なし.csv\",delimiter=\",\",dtype=float)\n",
    "train=train_data[:,0:159]\n",
    "\n",
    "test_data = np.loadtxt('wang_全体_標準化なし_rank順_名前なし.csv', delimiter=',', dtype=float)\n",
    "test = test_data[:,0:159]\n",
    "\n",
    "scaler = StandardScaler()\n",
    "scaler.fit(train)\n",
    "train = scaler.transform(train)\n",
    "test = scaler.transform(test)\n",
    "\n",
    "f=open(\"外れ値.csv\",\"w\")\n",
    "\n",
    "for i in range(len(test)):\n",
    "    for j in range(159):\n",
    "        if(test[i][j] > 3 or test[i][j] < -3):\n",
    "            f.write(str(i))\n",
    "            f.write(\",\")\n",
    "            f.write(str(j))\n",
    "            f.write(\"\\n\")\n",
    "f.close()"
   ]
  },
  {
   "cell_type": "code",
   "execution_count": 2,
   "metadata": {},
   "outputs": [
    {
     "data": {
      "text/plain": [
       "<matplotlib.collections.PathCollection at 0x1a14079cc0>"
      ]
     },
     "execution_count": 2,
     "metadata": {},
     "output_type": "execute_result"
    },
    {
     "data": {
      "image/png": "[encoded data removed]",
      "text/plain": [
       "<matplotlib.figure.Figure at 0x1a0e5f3828>"
      ]
     },
     "metadata": {},
     "output_type": "display_data"
    }
   ],
   "source": [
    "data = np.loadtxt('外れ値.csv', delimiter=',', dtype=float)\n",
    "\n",
    "num = data[:,0:1]\n",
    "label = data[:,1]\n",
    "plt.scatter(num,label)"
   ]
  },
  {
   "cell_type": "code",
   "execution_count": 3,
   "metadata": {},
   "outputs": [],
   "source": [
    "val = list(set(label))"
   ]
  },
  {
   "cell_type": "code",
   "execution_count": 4,
   "metadata": {},
   "outputs": [],
   "source": [
    "val = np.sort(val)"
   ]
  },
  {
   "cell_type": "code",
   "execution_count": 87,
   "metadata": {},
   "outputs": [],
   "source": [
    "val = np.array([  2.,   3.,   5.,   6.,   7.,  10.,  11.,  12.,  13.,  17.,  21.,\n",
    "        24.,  26.,  28.,  30.,  35.,  36.,  37.,  38.,  39.,  41.,  42.,\n",
    "        43.,  44.,  46.,  52.,  53.,  55.,  57.,  58.,  59.,  61.,  62.,\n",
    "        63.,  66.,  67.,  68.,  69.,  71.,  74.,  78.,  79.,  81.,  87.,\n",
    "        89.,  95.,  96.,  97., 102., 103., 104., 106., 108., 110., 113., 114.,\n",
    "       115., 116., 118., 120., 121., 122., 123., 133., 138., 142., 144.,\n",
    "       146., 149., 150., 154., 156., 157., 158.])"
   ]
  },
  {
   "cell_type": "code",
   "execution_count": 5,
   "metadata": {},
   "outputs": [
    {
     "data": {
      "text/plain": [
       "69"
      ]
     },
     "execution_count": 5,
     "metadata": {},
     "output_type": "execute_result"
    }
   ],
   "source": [
    "len(val)"
   ]
  },
  {
   "cell_type": "code",
   "execution_count": 51,
   "metadata": {},
   "outputs": [
    {
     "name": "stdout",
     "output_type": "stream",
     "text": [
      "106\n",
      "150\n",
      "156\n",
      "157\n",
      "158\n"
     ]
    }
   ],
   "source": [
    "train_data = np.loadtxt(\"furukawa_全体_標準化なし_rank順_名前なし.csv\",delimiter=\",\",dtype=float)\n",
    "test_data = np.loadtxt('wang_全体_標準化なし_rank順_名前なし.csv', delimiter=',', dtype=float)\n",
    "oi=[]\n",
    "for i in range(159):\n",
    "    train = train_data[:,i]\n",
    "    test = test_data[:,i]\n",
    "    \n",
    "    train_ave=sum(train)/len(train)\n",
    "    test_ave=sum(test)/len(test)\n",
    "    \n",
    "    for j in range(len(train)):\n",
    "        train_std=(((train_ave - train[j])**2)/len(train))**0.5\n",
    "    for j in range(len(test)):\n",
    "        test_std=(((test_ave - test[j])**2)/len(test))**0.5\n",
    "    \n",
    "    if(test_std==0):\n",
    "        print(i)"
   ]
  },
  {
   "cell_type": "code",
   "execution_count": 81,
   "metadata": {},
   "outputs": [],
   "source": [
    "index = list(np.array(range(160)))\n",
    "for i in range(len(val)):\n",
    "    index.remove(val[i])"
   ]
  },
  {
   "cell_type": "code",
   "execution_count": 82,
   "metadata": {},
   "outputs": [],
   "source": [
    "train_data = np.loadtxt(\"furukawa_全体_標準化なし_rank順_名前付き.csv\",delimiter=\",\",dtype=str)\n",
    "train=train_data[:,0:]\n",
    "\n",
    "test_data = np.loadtxt('wang_全体_標準化なし_rank順_名前付き.csv', delimiter=',', dtype=str)\n",
    "test = test_data[:,0:]\n",
    "\n",
    "file=open(\"FURUKAWA_全体_rank_名前.csv\",\"w\")\n",
    "file2=open(\"WANG_全体_rank_名前.csv\",\"w\")\n",
    "\n",
    "for i in range(394):\n",
    "    for j in range(len(index)):\n",
    "        if(j==(len(index)-1)):\n",
    "            file.write(train[i][index[j]])\n",
    "            file.write(\"\\n\")\n",
    "        else:    \n",
    "            file.write(train[i][index[j]])\n",
    "            file.write(\",\")\n",
    "file.close()\n",
    "\n",
    "for i in range(55):\n",
    "    for j in range(len(index)):\n",
    "        if(j==(len(index)-1)):\n",
    "            file2.write(test[i][index[j]])\n",
    "            file2.write(\"\\n\")\n",
    "        else:\n",
    "            file2.write(test[i][index[j]])\n",
    "            file2.write(\",\")\n",
    "file2.close()"
   ]
  },
  {
   "cell_type": "code",
   "execution_count": 54,
   "metadata": {},
   "outputs": [
    {
     "data": {
      "image/png": "[encoded data removed]",
      "text/plain": [
       "<matplotlib.figure.Figure at 0x1a0db3d668>"
      ]
     },
     "metadata": {},
     "output_type": "display_data"
    },
    {
     "name": "stdout",
     "output_type": "stream",
     "text": [
      "SVR: r2 0.247010, RMSE 0.746157, r 0.497355\n"
     ]
    }
   ],
   "source": [
    "train_data = np.loadtxt(\"furukawa_全体_標準化なし_rank順_名前なし.csv\",delimiter=\",\",dtype=float)\n",
    "train_feature=train_data[:,0:159]\n",
    "train_label=train_data[:,-1]\n",
    "test_data = np.loadtxt('wang_全体_標準化なし_rank順_名前なし.csv', delimiter=',', dtype=float)\n",
    "test_feature = test_data[:, 0:159]\n",
    "test_label = test_data[:, -1] \n",
    "\n",
    "train_feature=feature_std_delite(train_feature,oi)\n",
    "test_feature=feature_std_delite(test_feature,oi)\n",
    "\n",
    "scaler = StandardScaler()\n",
    "scaler.fit(train_feature)\n",
    "train_feature = scaler.transform(train_feature)\n",
    "test_feature = scaler.transform(test_feature)\n",
    "\n",
    "grid = GridSearchCV(SVR(),tuned_parameters,cv=5,scoring='r2')\n",
    "grid.fit(train_feature,train_label)\n",
    "\n",
    "clf = SVR(C=grid.best_params_['C'],kernel='rbf',gamma=grid.best_params_['gamma'],epsilon=0.1)\n",
    "clf.fit(train_feature, train_label)\n",
    "pred = clf.predict(test_feature)\n",
    "\n",
    "\n",
    "R2 = r2_score(test_label,pred)\n",
    "rmse = (mean_squared_error(test_label,pred))**0.5\n",
    "r = r_calc(test_label,pred)\n",
    "\n",
    "x = np.linspace(-9,-5)  \n",
    "y = x              \n",
    "plt.plot(x,y)      \n",
    "\n",
    "y1 = pred\n",
    "y2 = test_label\n",
    "plt.scatter(y1,y2)\n",
    "\n",
    "plt.ylabel('obserbed LogPapp')\n",
    "plt.xlabel('predicted LogPapp')\n",
    "plt.show()\n",
    "print (\"SVR: r2 %f, RMSE %f, r %f\" % (R2, rmse, r))"
   ]
  },
  {
   "cell_type": "markdown",
   "metadata": {},
   "source": [
    "# 特徴量の数を変えてのR2の変化を見る"
   ]
  },
  {
   "cell_type": "code",
   "execution_count": 41,
   "metadata": {},
   "outputs": [
    {
     "data": {
      "text/plain": [
       "-0.09905116805664083"
      ]
     },
     "execution_count": 41,
     "metadata": {},
     "output_type": "execute_result"
    }
   ],
   "source": [
    "prediction(159)"
   ]
  },
  {
   "cell_type": "code",
   "execution_count": null,
   "metadata": {},
   "outputs": [],
   "source": []
  },
  {
   "cell_type": "code",
   "execution_count": 43,
   "metadata": {},
   "outputs": [],
   "source": [
    "left = np.array([5.,   10.,  15.,  20.,  25.,  30.,  35.,  40.,  45.,  50.,  55.,  60.,\n",
    "        65.,  70.,  75.,  80.,  85.,  90.,  95., 100., 105., 110., 115.,\n",
    "       120., 125., 130., 135., 140., 145., 150., 155.,159])"
   ]
  },
  {
   "cell_type": "code",
   "execution_count": 44,
   "metadata": {},
   "outputs": [],
   "source": [
    "height = np.array([0.30520265, 0.16322817, -0.07392958, -0.13153249, -0.12973173, -0.10472327,\n",
    "       -0.01650575, -0.10970888, -0.08043765, -0.0772543 , -0.06341219,\n",
    "       -0.04401366, -0.22144042, -0.16288931, -0.14762295, -0.07841058,\n",
    "       -0.10428281, -0.09276444, -0.08108513, -0.07474561, -0.03506187,\n",
    "       -0.44723246, -0.05570276, -0.31829744, -0.26533527, -0.17325842,\n",
    "       -0.17332671, -0.15951005, -0.14010716, -0.11668033, -0.09842133,-0.09905116805664083])"
   ]
  },
  {
   "cell_type": "code",
   "execution_count": 49,
   "metadata": {},
   "outputs": [
    {
     "data": {
      "text/plain": [
       "[<matplotlib.lines.Line2D at 0x1a0d92e550>]"
      ]
     },
     "execution_count": 49,
     "metadata": {},
     "output_type": "execute_result"
    },
    {
     "data": {
      "image/png": "[encoded data removed]",
      "text/plain": [
       "<matplotlib.figure.Figure at 0x1a0dd46160>"
      ]
     },
     "metadata": {},
     "output_type": "display_data"
    }
   ],
   "source": [
    "plt.plot(left, height,c=\"r\")\n",
    "plt.plot(left2,height2,c=\"b\")\n"
   ]
  },
  {
   "cell_type": "code",
   "execution_count": 45,
   "metadata": {},
   "outputs": [],
   "source": [
    "left2=np.array([  5.,  10.,  15.,  20.,  25.,  30.,  35.,  40.,  45.,  50.,  55.,\n",
    "         60.,  65.,  70.,  75.,  80.,  85.,  90.,  95., 100., 105., 110.,\n",
    "        115., 120., 125., 130., 135., 140., 145., 150., 155., 160.,164])"
   ]
  },
  {
   "cell_type": "code",
   "execution_count": 46,
   "metadata": {},
   "outputs": [],
   "source": [
    "height2 = np.array([0.21987184, 0.24062802, 0.31735777, 0.27736411, 0.25543389,\n",
    "        0.38916589, 0.33743842, 0.29436621, 0.42630489, 0.52526711,\n",
    "        0.48406599, 0.47719409, 0.45684882, 0.60076869, 0.55968636,\n",
    "        0.50224148, 0.48966093, 0.48900861, 0.54592638, 0.5762829 ,\n",
    "        0.57857083, 0.58358115, 0.58578977, 0.57973981, 0.57461616,\n",
    "        0.57563324, 0.3044331 , 0.27572085, 0.27301034, 0.42317438,\n",
    "        0.27825248, 0.22665152,0.12665612965881679])"
   ]
  },
  {
   "cell_type": "markdown",
   "metadata": {},
   "source": [
    "# 新しいやつ"
   ]
  },
  {
   "cell_type": "code",
   "execution_count": 82,
   "metadata": {},
   "outputs": [],
   "source": [
    "def std_prediction(x):\n",
    "    tuned_parameters = [\n",
    "    {'C': [2**(-3), 2**(-2), 2**(-1), 1, 2, 2**2, 2**3, 2**4, 2**5, 2**6, 2**7, 2**8, 2**9, 2**10], 'kernel': ['linear']},\n",
    "    {'C': [2**(-3), 2**(-2), 2**(-1), 1, 2, 2**2, 2**3, 2**4, 2**5, 2**6, 2**7, 2**8, 2**9, 2**10], 'kernel': ['rbf'], 'gamma': [2**(-10), 2**(-9), 2**(-8), 2**(-7), 2**(-6), 2**(-5), 2**(-4), 2**(-3), 2**(-2), 2**(-1), 1 ]},\n",
    "    ]\n",
    "    \n",
    "    train_data = np.loadtxt(\"furukawa_全体_標準偏差_rank_名前なし.csv\",delimiter=\",\",dtype=float)\n",
    "    train_feature=train_data[:,0:x]\n",
    "    train_label=train_data[:,-1]\n",
    "    \n",
    "    test_data = np.loadtxt('wang_全体_標準偏差_rank_名前なし.csv', delimiter=',', dtype=float)\n",
    "    test_feature = test_data[:, 0:x]\n",
    "    test_label = test_data[:, -1] \n",
    "\n",
    "    scaler = StandardScaler()\n",
    "    scaler.fit(train_feature)\n",
    "    train_feature = scaler.transform(train_feature)\n",
    "    test_feature = scaler.transform(test_feature)\n",
    "\n",
    "    grid = GridSearchCV(SVR(),tuned_parameters,cv=5,scoring='r2')\n",
    "    grid.fit(train_feature,train_label)\n",
    "    \n",
    "    clf = SVR(C=grid.best_params_['C'],kernel='rbf',gamma=grid.best_params_['gamma'],epsilon=0.1)\n",
    "    clf.fit(train_feature, train_label)\n",
    "    pred = clf.predict(test_feature)\n",
    "\n",
    "    R2 = r2_score(test_label,pred)\n",
    "    return R2"
   ]
  },
  {
   "cell_type": "code",
   "execution_count": 102,
   "metadata": {},
   "outputs": [
    {
     "data": {
      "text/plain": [
       "array([0.30586107, 0.15731571, 0.25135017, 0.19836512, 0.23258199,\n",
       "       0.28073505, 0.30637214, 0.32026624, 0.2839451 , 0.33193787,\n",
       "       0.32292838, 0.42074366, 0.33692924, 0.36794072, 0.33410775,\n",
       "       0.35427869, 0.3582462 , 0.3629121 , 0.35661716, 0.34375701,\n",
       "       0.28915369, 0.25000543, 0.26456703, 0.26402222, 0.26607222,\n",
       "       0.27065188, 0.30426471, 0.21618254, 0.20384128, 0.24929109])"
      ]
     },
     "execution_count": 102,
     "metadata": {},
     "output_type": "execute_result"
    }
   ],
   "source": [
    "new_height"
   ]
  },
  {
   "cell_type": "code",
   "execution_count": null,
   "metadata": {},
   "outputs": [],
   "source": []
  },
  {
   "cell_type": "code",
   "execution_count": 101,
   "metadata": {},
   "outputs": [
    {
     "data": {
      "text/plain": [
       "array([ 0.30586107,  0.15731571, -0.07037814, -0.13496187, -0.12419209,\n",
       "       -0.10643833, -0.01868136, -0.09720445, -0.06978959, -0.06911868,\n",
       "       -0.05705233, -0.03892395, -0.10784927, -0.15009379, -0.12881943,\n",
       "       -0.0668665 , -0.08974512, -0.07833596, -0.06804084, -0.06132237,\n",
       "       -0.37425641, -0.37436469, -0.46258307, -0.2605688 , -0.20757829,\n",
       "       -0.12676483, -0.1286714 , -0.11905786, -0.10575435, -0.09142512,\n",
       "       -0.0761905 ])"
      ]
     },
     "execution_count": 101,
     "metadata": {},
     "output_type": "execute_result"
    }
   ],
   "source": [
    "height"
   ]
  },
  {
   "cell_type": "code",
   "execution_count": 92,
   "metadata": {},
   "outputs": [
    {
     "data": {
      "text/plain": [
       "0.3058610729046013"
      ]
     },
     "execution_count": 92,
     "metadata": {},
     "output_type": "execute_result"
    }
   ],
   "source": [
    "prediction(5)"
   ]
  },
  {
   "cell_type": "code",
   "execution_count": 90,
   "metadata": {},
   "outputs": [
    {
     "data": {
      "text/plain": [
       "0.3058610729046013"
      ]
     },
     "execution_count": 90,
     "metadata": {},
     "output_type": "execute_result"
    }
   ],
   "source": [
    "std_prediction(5)"
   ]
  },
  {
   "cell_type": "code",
   "execution_count": 100,
   "metadata": {},
   "outputs": [
    {
     "data": {
      "text/plain": [
       "[<matplotlib.lines.Line2D at 0x107ee8128>]"
      ]
     },
     "execution_count": 100,
     "metadata": {},
     "output_type": "execute_result"
    },
    {
     "data": {
      "image/png": "[encoded data removed]",
      "text/plain": [
       "<matplotlib.figure.Figure at 0x107ead358>"
      ]
     },
     "metadata": {},
     "output_type": "display_data"
    }
   ],
   "source": [
    "import numpy as np\n",
    "import matplotlib.pyplot as plt\n",
    "\n",
    "left = np.zeros(31)\n",
    "height = np.zeros(31)\n",
    "# 折れ線グラフを出力\n",
    "for i in range(31):\n",
    "    left[i] = 5*(i+1)\n",
    "    height[i] = prediction((i+1)*5)\n",
    "plt.plot(left, height)"
   ]
  },
  {
   "cell_type": "code",
   "execution_count": 87,
   "metadata": {},
   "outputs": [
    {
     "data": {
      "text/plain": [
       "[<matplotlib.lines.Line2D at 0x1a0d92e6d8>]"
      ]
     },
     "execution_count": 87,
     "metadata": {},
     "output_type": "execute_result"
    },
    {
     "data": {
      "image/png": "[encoded data removed]",
      "text/plain": [
       "<matplotlib.figure.Figure at 0x1a0da6c630>"
      ]
     },
     "metadata": {},
     "output_type": "display_data"
    }
   ],
   "source": [
    "new_left = np.zeros(30)\n",
    "new_height = np.zeros(30)\n",
    "# 折れ線グラフを出力\n",
    "for i in range(30):\n",
    "    new_left[i] = 5*(i+1)\n",
    "    new_height[i] = std_prediction((i+1)*5)\n",
    "plt.plot(new_left, new_height)"
   ]
  },
  {
   "cell_type": "code",
   "execution_count": 103,
   "metadata": {},
   "outputs": [
    {
     "data": {
      "text/plain": [
       "[<matplotlib.lines.Line2D at 0x1a16f37d68>]"
      ]
     },
     "execution_count": 103,
     "metadata": {},
     "output_type": "execute_result"
    },
    {
     "data": {
      "image/png": "[encoded data removed]",
      "text/plain": [
       "<matplotlib.figure.Figure at 0x1a0d68a978>"
      ]
     },
     "metadata": {},
     "output_type": "display_data"
    }
   ],
   "source": [
    "plt.plot(left,height)\n",
    "plt.plot(new_left, new_height)"
   ]
  },
  {
   "cell_type": "code",
   "execution_count": null,
   "metadata": {},
   "outputs": [],
   "source": []
  }
 ],
 "metadata": {
  "kernelspec": {
   "display_name": "Python 3",
   "language": "python",
   "name": "python3"
  },
  "language_info": {
   "codemirror_mode": {
    "name": "ipython",
    "version": 3
   },
   "file_extension": ".py",
   "mimetype": "text/x-python",
   "name": "python",
   "nbconvert_exporter": "python",
   "pygments_lexer": "ipython3",
   "version": "3.6.4"
  },
  "toc": {
   "base_numbering": 1,
   "nav_menu": {},
   "number_sections": true,
   "sideBar": true,
   "skip_h1_title": false,
   "title_cell": "Table of Contents",
   "title_sidebar": "Contents",
   "toc_cell": false,
   "toc_position": {},
   "toc_section_display": true,
   "toc_window_display": false
  }
 },
 "nbformat": 4,
 "nbformat_minor": 2
}
