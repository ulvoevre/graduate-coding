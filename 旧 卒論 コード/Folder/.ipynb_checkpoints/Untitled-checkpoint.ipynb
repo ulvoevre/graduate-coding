{
 "cells": [
  {
   "cell_type": "code",
   "execution_count": 2,
   "metadata": {},
   "outputs": [
    {
     "name": "stderr",
     "output_type": "stream",
     "text": [
      "/Users/yamadayuuta/.pyenv/versions/anaconda3-5.1.0/lib/python3.6/site-packages/sklearn/cross_validation.py:41: DeprecationWarning: This module was deprecated in version 0.18 in favor of the model_selection module into which all the refactored classes and functions are moved. Also note that the interface of the new CV iterators are different from that of this module. This module will be removed in 0.20.\n",
      "  \"This module will be removed in 0.20.\", DeprecationWarning)\n",
      "/Users/yamadayuuta/.pyenv/versions/anaconda3-5.1.0/lib/python3.6/site-packages/sklearn/grid_search.py:42: DeprecationWarning: This module was deprecated in version 0.18 in favor of the model_selection module into which all the refactored classes and functions are moved. This module will be removed in 0.20.\n",
      "  DeprecationWarning)\n"
     ]
    }
   ],
   "source": [
    "import numpy as np\n",
    "from sklearn.svm import SVR\n",
    "from sklearn import preprocessing\n",
    "from sklearn.model_selection import train_test_split\n",
    "from sklearn.model_selection import KFold\n",
    "from sklearn.preprocessing import StandardScaler\n",
    "from sklearn.metrics import r2_score\n",
    "from sklearn.metrics import mean_squared_error\n",
    "from sklearn.grid_search import GridSearchCV\n",
    "import matplotlib.pyplot as plt\n",
    "from sklearn.ensemble import RandomForestRegressor\n",
    "from sklearn.datasets import make_regression\n",
    "import warnings\n",
    "warnings.filterwarnings('ignore')"
   ]
  },
  {
   "cell_type": "code",
   "execution_count": 8,
   "metadata": {},
   "outputs": [],
   "source": [
    "name=np.loadtxt(\"../FURUKAWA_全体_rank_名前.csv\",delimiter=\",\",dtype=str)\n",
    "f=open(\"all_rank.csv\",\"w\")\n",
    "\n",
    "for i in range(1,86):\n",
    "    f.write(str(i))\n",
    "    f.write(\",\")\n",
    "    f.write(name[0][i-1])\n",
    "    f.write(\"\\n\")\n",
    "f.close()"
   ]
  },
  {
   "cell_type": "code",
   "execution_count": 13,
   "metadata": {},
   "outputs": [],
   "source": [
    "name=np.loadtxt(\"../FURUKAWA_残基毎_rank_名前.csv\",delimiter=\",\",dtype=str)\n",
    "f=open(\"separate_rank.csv\",\"w\")\n",
    "\n",
    "for i in range(1,65):\n",
    "    f.write(str(i))\n",
    "    f.write(\",\")\n",
    "    f.write(name[0][i-1])\n",
    "    f.write(\"\\n\")\n",
    "f.close()"
   ]
  },
  {
   "cell_type": "code",
   "execution_count": 7,
   "metadata": {},
   "outputs": [
    {
     "data": {
      "text/plain": [
       "150"
      ]
     },
     "execution_count": 7,
     "metadata": {},
     "output_type": "execute_result"
    }
   ],
   "source": []
  },
  {
   "cell_type": "code",
   "execution_count": 6,
   "metadata": {},
   "outputs": [
    {
     "data": {
      "text/plain": [
       "86"
      ]
     },
     "execution_count": 6,
     "metadata": {},
     "output_type": "execute_result"
    }
   ],
   "source": [
    "name=np.loadtxt(\"../FURUKAWA_全体_rank_名前.csv\",delimiter=\",\",dtype=str)\n",
    "len(name[0])"
   ]
  },
  {
   "cell_type": "code",
   "execution_count": 12,
   "metadata": {},
   "outputs": [
    {
     "data": {
      "text/plain": [
       "array(['logS', 'h_logP', 'PEOE_RPC+', 'h_logS', 'SMR_VSA0', 'vsa_other',\n",
       "       'SMR_VSA5', 'PEOE_VSA_FPOL', 'h_ema', 'PEOE_VSA_FHYD', 'h_log_pbo',\n",
       "       'chi1v_C', 'GCUT_SLOGP_0', 'chi1_C', 'BCUT_SLOGP_0', 'vsa_acc',\n",
       "       'PEOE_VSA+3', 'SlogP_VSA8', 'h_pavgQ', 'h_pKb', 'SlogP_VSA4',\n",
       "       'SlogP_VSA2', 'h_emd_C', 'PEOE_VSA-5', 'h_emd', 'opr_brigid',\n",
       "       'PEOE_PC-', 'PEOE_VSA_FPOS', 'PEOE_RPC-', 'PEOE_VSA_FNEG', 'SMR',\n",
       "       'b_double', 'h_mr', 'Weight', 'mr', 'weinerPath', 'PEOE_PC+',\n",
       "       'SlogP_VSA7', 'PEOE_VSA_POL', 'weinerPol', 'SlogP_VSA3',\n",
       "       'SlogP_VSA1', 'a_nN', 'SMR_VSA6', 'zagreb', 'PEOE_VSA_NEG',\n",
       "       'a_hyd', 'diameter', 'PEOE_VSA-0', 'chi1', 'a_aro', 'a_nO', 'b_ar',\n",
       "       'a_nC', 'PEOE_VSA_FPPOS', 'b_heavy', 'PEOE_VSA_PPOS', 'a_heavy',\n",
       "       'rings', 'opr_nring', 'lip_acc', 'PEOE_VSA-3', 'a_acc', 'h_pKa',\n",
       "       'logPapp'], dtype='<U20')"
      ]
     },
     "execution_count": 12,
     "metadata": {},
     "output_type": "execute_result"
    }
   ],
   "source": [
    "name[0]"
   ]
  },
  {
   "cell_type": "code",
   "execution_count": null,
   "metadata": {},
   "outputs": [],
   "source": []
  }
 ],
 "metadata": {
  "kernelspec": {
   "display_name": "Python 3",
   "language": "python",
   "name": "python3"
  },
  "language_info": {
   "codemirror_mode": {
    "name": "ipython",
    "version": 3
   },
   "file_extension": ".py",
   "mimetype": "text/x-python",
   "name": "python",
   "nbconvert_exporter": "python",
   "pygments_lexer": "ipython3",
   "version": "3.6.4"
  }
 },
 "nbformat": 4,
 "nbformat_minor": 2
}
