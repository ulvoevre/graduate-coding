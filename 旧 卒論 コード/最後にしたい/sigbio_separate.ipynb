{
 "cells": [
  {
   "cell_type": "code",
   "execution_count": 3,
   "metadata": {},
   "outputs": [
    {
     "name": "stderr",
     "output_type": "stream",
     "text": [
      "/usr/local/var/pyenv/versions/anaconda3-5.1.0/lib/python3.6/site-packages/sklearn/cross_validation.py:41: DeprecationWarning: This module was deprecated in version 0.18 in favor of the model_selection module into which all the refactored classes and functions are moved. Also note that the interface of the new CV iterators are different from that of this module. This module will be removed in 0.20.\n",
      "  \"This module will be removed in 0.20.\", DeprecationWarning)\n",
      "/usr/local/var/pyenv/versions/anaconda3-5.1.0/lib/python3.6/site-packages/sklearn/grid_search.py:42: DeprecationWarning: This module was deprecated in version 0.18 in favor of the model_selection module into which all the refactored classes and functions are moved. This module will be removed in 0.20.\n",
      "  DeprecationWarning)\n"
     ]
    }
   ],
   "source": [
    "import numpy as np\n",
    "from sklearn.svm import SVR\n",
    "from sklearn import preprocessing\n",
    "from sklearn.model_selection import train_test_split\n",
    "from sklearn.model_selection import KFold\n",
    "from sklearn.preprocessing import StandardScaler\n",
    "from sklearn.metrics import r2_score\n",
    "from sklearn.metrics import mean_squared_error\n",
    "from sklearn.grid_search import GridSearchCV\n",
    "import matplotlib.pyplot as plt\n",
    "from sklearn.ensemble import RandomForestRegressor\n",
    "from sklearn.datasets import make_regression\n",
    "from matplotlib.backends.backend_pdf import PdfPages\n",
    "import seaborn as sns\n",
    "import pandas as pd\n",
    "from sklearn.metrics import make_scorer\n",
    "import warnings\n",
    "warnings.filterwarnings('ignore')"
   ]
  },
  {
   "cell_type": "code",
   "execution_count": 6,
   "metadata": {},
   "outputs": [],
   "source": [
    "def r2_calc(x,y):\n",
    "    sum_1=0\n",
    "    sum_2=0\n",
    "    ave = np.sum(x)/len(x)\n",
    "    for i in range(0,len(x)):\n",
    "        sum_1 += (x[i]-y[i])**2\n",
    "        sum_2 += (x[i]-ave)**2\n",
    "    \n",
    "    return 1-sum_1/sum_2\n",
    "\n",
    "\n",
    "def r_calc(test,pred):\n",
    "    n=len(test)\n",
    "    ave_test = np.sum(test)/n\n",
    "    ave_pred = np.sum(pred)/n\n",
    "    a=0\n",
    "    b=0\n",
    "    c=0\n",
    "    for i in range(0,len(test)):\n",
    "        a += (test[i] - ave_test)*(pred[i] - ave_pred)\n",
    "        b += (test[i] - ave_test)**2\n",
    "        c += (pred[i] - ave_pred)**2\n",
    "    \n",
    "    a2 = a/n\n",
    "    b2 = (b/n)**0.5\n",
    "    c2 = (c/n)**0.5\n",
    "    return a2/(b2*c2)\n",
    "\n",
    "\n",
    "\n",
    "def my_rbf_gridsearch(train_x,train_y,C,gamma,k):\n",
    "    my_kf = KFold(n_splits = k, shuffle = True)\n",
    "    matrix=np.zeros((11,14))\n",
    "    for train_index, test_index in my_kf.split(train_x):\n",
    "            train_f, train_l, test_f, test_l = np.array(train_x)[train_index], np.array(train_y)[train_index], np.array(train_x)[test_index], np.array(train_y)[test_index]\n",
    "            for i in range(len(gamma)):\n",
    "                for j in range(len(C)):\n",
    "                    svm = SVR(gamma=gamma[i], C=C[j])\n",
    "                    svm.fit(train_f, train_l)\n",
    "                    #SVCをテストセットで評価\n",
    "                    pred=svm.predict(test_f)\n",
    "                    score = r_calc(test_l, pred)\n",
    "                    matrix[i][j] += score\n",
    "    max_indexes = np.argwhere(matrix == matrix.max())\n",
    "    return max_indexes[0][0],max_indexes[0][1]\n",
    "\n",
    "\n",
    "def my_prediction(x):\n",
    "    C = [2**(-3), 2**(-2), 2**(-1), 1, 2, 2**2, 2**3, 2**4, 2**5, 2**6, 2**7, 2**8, 2**9, 2**10]\n",
    "    gamma = [2**(-10), 2**(-9), 2**(-8), 2**(-7), 2**(-6), 2**(-5), 2**(-4), 2**(-3), 2**(-2), 2**(-1), 1 ]\n",
    "    c=0\n",
    "    g=0\n",
    "    path = 'New Folder/sigbio_残基毎今度こそ.csv'\n",
    "    \n",
    "    with open(path,mode='a') as f:\n",
    "        data = np.loadtxt(\"残基毎FURUKAWA_最後_名前なし.csv\",delimiter=\",\",dtype=float)\n",
    "        feature = data[:,0:x]\n",
    "        label = data[:,-1]\n",
    "\n",
    "        scaler = StandardScaler()\n",
    "        scaler.fit(feature)\n",
    "        feature = scaler.transform(feature)\n",
    "\n",
    "        kf = KFold(n_splits = 5, shuffle = True)\n",
    "        count = 0\n",
    "        for train_index, test_index in kf.split(feature):\n",
    "            train_feature, train_label, test_feature, test_label = np.array(feature)[train_index], np.array(label)[train_index], np.array(feature)[test_index], np.array(label)[test_index]\n",
    "\n",
    "            g,c=my_rbf_gridsearch(train_feature, train_label,C,gamma,5)\n",
    "\n",
    "            clf = SVR(C=C[c],kernel='rbf',gamma=gamma[g],epsilon=0.1)\n",
    "            clf.fit(train_feature, train_label)\n",
    "            pred = clf.predict(test_feature)\n",
    "\n",
    "            if(count==4):\n",
    "                f.write(str(r_calc(test_label,pred)))\n",
    "            else:\n",
    "                f.write(str(r_calc(test_label,pred)))\n",
    "                f.write(\",\")\n",
    "            count += 1\n",
    "        f.write(\"\\n\")\n",
    "    return "
   ]
  },
  {
   "cell_type": "code",
   "execution_count": 7,
   "metadata": {},
   "outputs": [],
   "source": [
    "for i in range(12):\n",
    "    my_prediction(5*(i+1))\n",
    "my_prediction(64)"
   ]
  },
  {
   "cell_type": "code",
   "execution_count": 10,
   "metadata": {},
   "outputs": [
    {
     "data": {
      "text/plain": [
       "[<matplotlib.lines.Line2D at 0x112855cf8>]"
      ]
     },
     "execution_count": 10,
     "metadata": {},
     "output_type": "execute_result"
    },
    {
     "data": {
      "image/png": "[encoded data removed]",
      "text/plain": [
       "<matplotlib.figure.Figure at 0x1127a8128>"
      ]
     },
     "metadata": {},
     "output_type": "display_data"
    }
   ],
   "source": [
    "data=np.loadtxt(\"New Folder/sigbio_残基毎今度こそ.csv\",delimiter=\",\",dtype=float)\n",
    "max_f=np.zeros(13)\n",
    "\n",
    "for i in range(13):\n",
    "    max_f[i] = max(data[i])\n",
    "num=np.array([ 5, 10, 15, 20, 25, 30, 35, 40, 45, 50, 55, 60,64])\n",
    "\n",
    "plt.plot(num,max_f)"
   ]
  },
  {
   "cell_type": "code",
   "execution_count": 11,
   "metadata": {},
   "outputs": [],
   "source": [
    "def my2_prediction(x):\n",
    "    C = [2**(-3), 2**(-2), 2**(-1), 1, 2, 2**2, 2**3, 2**4, 2**5, 2**6, 2**7, 2**8, 2**9, 2**10]\n",
    "    gamma = [2**(-10), 2**(-9), 2**(-8), 2**(-7), 2**(-6), 2**(-5), 2**(-4), 2**(-3), 2**(-2), 2**(-1), 1 ]\n",
    "    c=0\n",
    "    g=0\n",
    "    path = 'New Folder/sigbio_残基毎今度こそ_part2.csv'\n",
    "    \n",
    "    with open(path,mode='a') as f:\n",
    "        data = np.loadtxt(\"残基毎FURUKAWA_最後_名前なし.csv\",delimiter=\",\",dtype=float)\n",
    "        feature = data[:,0:x]\n",
    "        label = data[:,-1]\n",
    "\n",
    "        scaler = StandardScaler()\n",
    "        scaler.fit(feature)\n",
    "        feature = scaler.transform(feature)\n",
    "\n",
    "        kf = KFold(n_splits = 5, shuffle = True)\n",
    "        count = 0\n",
    "        for train_index, test_index in kf.split(feature):\n",
    "            train_feature, train_label, test_feature, test_label = np.array(feature)[train_index], np.array(label)[train_index], np.array(feature)[test_index], np.array(label)[test_index]\n",
    "\n",
    "            g,c=my_rbf_gridsearch(train_feature, train_label,C,gamma,5)\n",
    "\n",
    "            clf = SVR(C=C[c],kernel='rbf',gamma=gamma[g],epsilon=0.1)\n",
    "            clf.fit(train_feature, train_label)\n",
    "            pred = clf.predict(test_feature)\n",
    "\n",
    "            if(count==4):\n",
    "                f.write(str(r_calc(test_label,pred)))\n",
    "            else:\n",
    "                f.write(str(r_calc(test_label,pred)))\n",
    "                f.write(\",\")\n",
    "            count += 1\n",
    "        f.write(\"\\n\")\n",
    "    return "
   ]
  },
  {
   "cell_type": "code",
   "execution_count": 12,
   "metadata": {},
   "outputs": [],
   "source": [
    "for i in range(9):\n",
    "    my2_prediction(16+i)"
   ]
  },
  {
   "cell_type": "code",
   "execution_count": 13,
   "metadata": {},
   "outputs": [
    {
     "data": {
      "text/plain": [
       "[<matplotlib.lines.Line2D at 0x1182d7d68>]"
      ]
     },
     "execution_count": 13,
     "metadata": {},
     "output_type": "execute_result"
    },
    {
     "data": {
      "image/png": "[encoded data removed]",
      "text/plain": [
       "<matplotlib.figure.Figure at 0x11822d630>"
      ]
     },
     "metadata": {},
     "output_type": "display_data"
    }
   ],
   "source": [
    "data=np.loadtxt(\"New Folder/sigbio_残基毎今度こそ_part2.csv\",delimiter=\",\",dtype=float)\n",
    "max_fe=np.zeros(9)\n",
    "\n",
    "for i in range(9):\n",
    "    max_fe[i] = max(data[i])\n",
    "num=np.array(range(16,25))\n",
    "\n",
    "plt.plot(num,max_fe)"
   ]
  },
  {
   "cell_type": "code",
   "execution_count": 14,
   "metadata": {},
   "outputs": [
    {
     "data": {
      "text/plain": [
       "array([0.96096732, 0.96577502, 0.97453866, 0.96892953, 0.96847449,\n",
       "       0.97921851, 0.96921461, 0.97369342, 0.97729053])"
      ]
     },
     "execution_count": 14,
     "metadata": {},
     "output_type": "execute_result"
    }
   ],
   "source": [
    "max_fe"
   ]
  },
  {
   "cell_type": "code",
   "execution_count": 16,
   "metadata": {},
   "outputs": [],
   "source": [
    "max_f=np.array([0.95426363, 0.94557384, 0.96302286, 0.96096732, 0.96577502, 0.97453866, 0.96892953,0.97586736,\n",
    "       0.97921851, 0.96921461, 0.97369342, 0.97729053, 0.974629  ,\n",
    "       0.97426333, 0.96789223, 0.97059942, 0.96840317, 0.96674201,\n",
    "       0.9664931 , 0.97044006, 0.96678002])"
   ]
  },
  {
   "cell_type": "code",
   "execution_count": 18,
   "metadata": {},
   "outputs": [
    {
     "data": {
      "text/plain": [
       "[<matplotlib.lines.Line2D at 0x118547710>]"
      ]
     },
     "execution_count": 18,
     "metadata": {},
     "output_type": "execute_result"
    },
    {
     "data": {
      "image/png": "[encoded data removed]",
      "text/plain": [
       "<matplotlib.figure.Figure at 0x1184a3b38>"
      ]
     },
     "metadata": {},
     "output_type": "display_data"
    }
   ],
   "source": [
    "num=[5,10,15,16,17,18,19,20,21,22,23,24,25,30,35,40,45,50,55,60,64]\n",
    "plt.plot(num,max_f)"
   ]
  },
  {
   "cell_type": "code",
   "execution_count": 20,
   "metadata": {},
   "outputs": [
    {
     "name": "stdout",
     "output_type": "stream",
     "text": [
      "SVR: r2 -2.912012, RMSE 1.767671, r 0.868595\n"
     ]
    },
    {
     "data": {
      "image/png": "[encoded data removed]",
      "text/plain": [
       "<matplotlib.figure.Figure at 0x118595390>"
      ]
     },
     "metadata": {},
     "output_type": "display_data"
    }
   ],
   "source": [
    "train_data=np.loadtxt(\"残基毎FURUKAWA_最後_名前なし.csv\",delimiter=\",\",dtype=float)\n",
    "train_feature=train_data[:,0:21]\n",
    "train_label=train_data[:,-1]\n",
    "\n",
    "test_data=np.loadtxt(\"残基毎WANG_最後_名前なし.csv\",delimiter=\",\",dtype=float)\n",
    "test_feature=test_data[:,0:21]\n",
    "test_label=test_data[:,-1]\n",
    "C = [2**(-3), 2**(-2), 2**(-1), 1, 2, 2**2, 2**3, 2**4, 2**5, 2**6, 2**7, 2**8, 2**9, 2**10]\n",
    "gamma = [2**(-10), 2**(-9), 2**(-8), 2**(-7), 2**(-6), 2**(-5), 2**(-4), 2**(-3), 2**(-2), 2**(-1), 1 ]\n",
    "c=0\n",
    "g=0\n",
    "std = StandardScaler()\n",
    "std.fit(train_feature)\n",
    "train_feature = std.transform(train_feature)\n",
    "test_feature = std.transform(test_feature)\n",
    "\n",
    "\n",
    "g,c=my_rbf_gridsearch(train_feature,train_label,C,gamma,5)\n",
    "\n",
    "reg=SVR(C=C[c],kernel=\"rbf\",gamma=gamma[g])\n",
    "reg.fit(train_feature,train_label)\n",
    "pred = reg.predict(test_feature)\n",
    "r = r_calc(test_label,pred)\n",
    "r2 = r2_score(test_label,pred)\n",
    "rmse = (mean_squared_error(test_label,pred))**0.5\n",
    "\n",
    "pdf = PdfPages('New Folder/残基毎_21.pdf')\n",
    "plt.figure()\n",
    "x = np.linspace(-12,-4)  \n",
    "y = x              \n",
    "plt.plot(x,y,color=\"black\")      \n",
    "\n",
    "y1 = pred\n",
    "y2 = test_label\n",
    "plt.scatter(y1,y2,color=\"darkorange\")\n",
    "\n",
    "plt.ylabel('obserbed Log$P_{app}$')\n",
    "plt.xlabel('predicted Log$P_{app}$')\n",
    "plt.plot()\n",
    "\n",
    "pdf.savefig()\n",
    "\n",
    "pdf.close()\n",
    "\n",
    "print (\"SVR: r2 %f, RMSE %f, r %f\" % (r2, rmse, r))"
   ]
  },
  {
   "cell_type": "code",
   "execution_count": null,
   "metadata": {},
   "outputs": [],
   "source": []
  }
 ],
 "metadata": {
  "kernelspec": {
   "display_name": "Python 3",
   "language": "python",
   "name": "python3"
  },
  "language_info": {
   "codemirror_mode": {
    "name": "ipython",
    "version": 3
   },
   "file_extension": ".py",
   "mimetype": "text/x-python",
   "name": "python",
   "nbconvert_exporter": "python",
   "pygments_lexer": "ipython3",
   "version": "3.6.4"
  }
 },
 "nbformat": 4,
 "nbformat_minor": 2
}
